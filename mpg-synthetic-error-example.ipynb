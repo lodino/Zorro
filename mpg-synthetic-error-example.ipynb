{
 "cells": [
  {
   "cell_type": "code",
   "execution_count": 1,
   "id": "e941bf95",
   "metadata": {
    "ExecuteTime": {
     "end_time": "2024-04-04T00:01:39.959790Z",
     "start_time": "2024-04-04T00:01:38.337076Z"
    }
   },
   "outputs": [],
   "source": [
    "import os\n",
    "import copy\n",
    "import pickle\n",
    "import sympy\n",
    "import functools\n",
    "import itertools\n",
    "\n",
    "import numpy as np\n",
    "import pandas as pd\n",
    "import matplotlib.pyplot as plt\n",
    "\n",
    "from error_injection import MissingValueError, SamplingError, Injector\n",
    "from sklearn.decomposition import PCA\n",
    "from sklearn.model_selection import train_test_split\n",
    "from sklearn.preprocessing import StandardScaler\n",
    "from sklearn.experimental import enable_iterative_imputer\n",
    "from sklearn.impute import SimpleImputer, KNNImputer, IterativeImputer\n",
    "from sklearn.metrics import mutual_info_score, auc, roc_curve, roc_auc_score, f1_score\n",
    "from scipy.optimize import minimize as scipy_min\n",
    "from scipy.spatial import ConvexHull\n",
    "from scipy.optimize import minimize, Bounds, linprog\n",
    "from sympy import Symbol as sb\n",
    "from sympy import lambdify\n",
    "from tqdm.notebook import trange,tqdm\n",
    "from IPython.display import display,clear_output\n",
    "from random import choice\n",
    "\n",
    "class style():\n",
    "    RED = '\\033[31m'\n",
    "    GREEN = '\\033[32m'\n",
    "    BLUE = '\\033[34m'\n",
    "    RESET = '\\033[0m'\n",
    "\n",
    "np.random.seed(1)"
   ]
  },
  {
   "cell_type": "code",
   "execution_count": 2,
   "id": "14d0ed9d",
   "metadata": {
    "ExecuteTime": {
     "end_time": "2024-04-04T00:01:40.808152Z",
     "start_time": "2024-04-04T00:01:40.802323Z"
    }
   },
   "outputs": [],
   "source": [
    "# ignore all the warnings\n",
    "import warnings\n",
    "warnings.filterwarnings('ignore')"
   ]
  },
  {
   "cell_type": "code",
   "execution_count": 3,
   "id": "66d1fe2b",
   "metadata": {
    "ExecuteTime": {
     "end_time": "2024-04-04T00:01:41.644680Z",
     "start_time": "2024-04-04T00:01:41.622857Z"
    },
    "code_folding": [
     3,
     11,
     29
    ]
   },
   "outputs": [],
   "source": [
    "from ucimlrepo import fetch_ucirepo \n",
    "import ssl\n",
    "\n",
    "try:\n",
    "    _create_unverified_https_context = ssl._create_unverified_context\n",
    "except AttributeError:\n",
    "    pass\n",
    "else:\n",
    "    ssl._create_default_https_context = _create_unverified_https_context\n",
    "    \n",
    "\n",
    "def load_mpg():\n",
    "    # fetch dataset\n",
    "    auto_mpg = fetch_ucirepo(id=9) \n",
    "\n",
    "    X = auto_mpg.data.features \n",
    "    y = auto_mpg.data.targets \n",
    "    \n",
    "    # with this random seed, no null value is included in the test data\n",
    "    X_train, X_test, y_train, y_test = train_test_split(X, y, test_size=0.2, random_state=1)\n",
    "    X_train = copy.deepcopy(X_train).reset_index(drop=True)\n",
    "    X_test = copy.deepcopy(X_test).reset_index(drop=True)\n",
    "    y_train = y_train.reset_index(drop=True)\n",
    "    y_test = y_test.reset_index(drop=True)\n",
    "\n",
    "    return X_train, X_test, y_train, y_test\n",
    "\n",
    "\n",
    "# first impute the data and make it hypothetically clean\n",
    "def load_mpg_cleaned():\n",
    "    # fetch dataset\n",
    "    auto_mpg = fetch_ucirepo(id=9) \n",
    "\n",
    "    X = auto_mpg.data.features\n",
    "    y = auto_mpg.data.targets\n",
    "    \n",
    "    # assumed gt imputation\n",
    "    imputer = KNNImputer(n_neighbors=10)\n",
    "    X = pd.DataFrame(imputer.fit_transform(X), columns=X.columns)\n",
    "\n",
    "    X_train, X_test, y_train, y_test = train_test_split(X, y, test_size=0.2, random_state=1)\n",
    "    X_train = copy.deepcopy(X_train).reset_index(drop=True)\n",
    "    X_test = copy.deepcopy(X_test).reset_index(drop=True)\n",
    "    y_train = y_train.reset_index(drop=True)\n",
    "    y_test = y_test.reset_index(drop=True)\n",
    "\n",
    "    return X_train, X_test, y_train, y_test"
   ]
  },
  {
   "cell_type": "code",
   "execution_count": 4,
   "id": "4ad3b97d",
   "metadata": {
    "ExecuteTime": {
     "end_time": "2024-04-04T00:01:42.579931Z",
     "start_time": "2024-04-04T00:01:42.402388Z"
    }
   },
   "outputs": [],
   "source": [
    "X_train, X_test, y_train, y_test = load_mpg_cleaned()"
   ]
  },
  {
   "cell_type": "code",
   "execution_count": 5,
   "id": "f15c0682",
   "metadata": {
    "ExecuteTime": {
     "end_time": "2024-04-04T00:01:43.068070Z",
     "start_time": "2024-04-04T00:01:43.034778Z"
    }
   },
   "outputs": [
    {
     "data": {
      "text/html": [
       "<div>\n",
       "<style scoped>\n",
       "    .dataframe tbody tr th:only-of-type {\n",
       "        vertical-align: middle;\n",
       "    }\n",
       "\n",
       "    .dataframe tbody tr th {\n",
       "        vertical-align: top;\n",
       "    }\n",
       "\n",
       "    .dataframe thead th {\n",
       "        text-align: right;\n",
       "    }\n",
       "</style>\n",
       "<table border=\"1\" class=\"dataframe\">\n",
       "  <thead>\n",
       "    <tr style=\"text-align: right;\">\n",
       "      <th></th>\n",
       "      <th>displacement</th>\n",
       "      <th>cylinders</th>\n",
       "      <th>horsepower</th>\n",
       "      <th>weight</th>\n",
       "      <th>acceleration</th>\n",
       "      <th>model_year</th>\n",
       "      <th>origin</th>\n",
       "    </tr>\n",
       "  </thead>\n",
       "  <tbody>\n",
       "    <tr>\n",
       "      <th>0</th>\n",
       "      <td>350.0</td>\n",
       "      <td>8.0</td>\n",
       "      <td>125.0</td>\n",
       "      <td>3900.0</td>\n",
       "      <td>17.4</td>\n",
       "      <td>79.0</td>\n",
       "      <td>1.0</td>\n",
       "    </tr>\n",
       "    <tr>\n",
       "      <th>1</th>\n",
       "      <td>455.0</td>\n",
       "      <td>8.0</td>\n",
       "      <td>225.0</td>\n",
       "      <td>3086.0</td>\n",
       "      <td>10.0</td>\n",
       "      <td>70.0</td>\n",
       "      <td>1.0</td>\n",
       "    </tr>\n",
       "    <tr>\n",
       "      <th>2</th>\n",
       "      <td>91.0</td>\n",
       "      <td>4.0</td>\n",
       "      <td>68.0</td>\n",
       "      <td>2025.0</td>\n",
       "      <td>18.2</td>\n",
       "      <td>82.0</td>\n",
       "      <td>3.0</td>\n",
       "    </tr>\n",
       "    <tr>\n",
       "      <th>3</th>\n",
       "      <td>122.0</td>\n",
       "      <td>4.0</td>\n",
       "      <td>86.0</td>\n",
       "      <td>2226.0</td>\n",
       "      <td>16.5</td>\n",
       "      <td>72.0</td>\n",
       "      <td>1.0</td>\n",
       "    </tr>\n",
       "    <tr>\n",
       "      <th>4</th>\n",
       "      <td>97.0</td>\n",
       "      <td>4.0</td>\n",
       "      <td>67.0</td>\n",
       "      <td>2065.0</td>\n",
       "      <td>17.8</td>\n",
       "      <td>81.0</td>\n",
       "      <td>3.0</td>\n",
       "    </tr>\n",
       "    <tr>\n",
       "      <th>...</th>\n",
       "      <td>...</td>\n",
       "      <td>...</td>\n",
       "      <td>...</td>\n",
       "      <td>...</td>\n",
       "      <td>...</td>\n",
       "      <td>...</td>\n",
       "      <td>...</td>\n",
       "    </tr>\n",
       "    <tr>\n",
       "      <th>313</th>\n",
       "      <td>140.0</td>\n",
       "      <td>4.0</td>\n",
       "      <td>86.0</td>\n",
       "      <td>2790.0</td>\n",
       "      <td>15.6</td>\n",
       "      <td>82.0</td>\n",
       "      <td>1.0</td>\n",
       "    </tr>\n",
       "    <tr>\n",
       "      <th>314</th>\n",
       "      <td>140.0</td>\n",
       "      <td>4.0</td>\n",
       "      <td>88.0</td>\n",
       "      <td>2720.0</td>\n",
       "      <td>15.4</td>\n",
       "      <td>78.0</td>\n",
       "      <td>1.0</td>\n",
       "    </tr>\n",
       "    <tr>\n",
       "      <th>315</th>\n",
       "      <td>304.0</td>\n",
       "      <td>8.0</td>\n",
       "      <td>150.0</td>\n",
       "      <td>3892.0</td>\n",
       "      <td>12.5</td>\n",
       "      <td>72.0</td>\n",
       "      <td>1.0</td>\n",
       "    </tr>\n",
       "    <tr>\n",
       "      <th>316</th>\n",
       "      <td>97.0</td>\n",
       "      <td>4.0</td>\n",
       "      <td>75.0</td>\n",
       "      <td>2265.0</td>\n",
       "      <td>18.2</td>\n",
       "      <td>77.0</td>\n",
       "      <td>3.0</td>\n",
       "    </tr>\n",
       "    <tr>\n",
       "      <th>317</th>\n",
       "      <td>232.0</td>\n",
       "      <td>6.0</td>\n",
       "      <td>100.0</td>\n",
       "      <td>3288.0</td>\n",
       "      <td>15.5</td>\n",
       "      <td>71.0</td>\n",
       "      <td>1.0</td>\n",
       "    </tr>\n",
       "  </tbody>\n",
       "</table>\n",
       "<p>318 rows × 7 columns</p>\n",
       "</div>"
      ],
      "text/plain": [
       "     displacement  cylinders  horsepower  weight  acceleration  model_year  \\\n",
       "0           350.0        8.0       125.0  3900.0          17.4        79.0   \n",
       "1           455.0        8.0       225.0  3086.0          10.0        70.0   \n",
       "2            91.0        4.0        68.0  2025.0          18.2        82.0   \n",
       "3           122.0        4.0        86.0  2226.0          16.5        72.0   \n",
       "4            97.0        4.0        67.0  2065.0          17.8        81.0   \n",
       "..            ...        ...         ...     ...           ...         ...   \n",
       "313         140.0        4.0        86.0  2790.0          15.6        82.0   \n",
       "314         140.0        4.0        88.0  2720.0          15.4        78.0   \n",
       "315         304.0        8.0       150.0  3892.0          12.5        72.0   \n",
       "316          97.0        4.0        75.0  2265.0          18.2        77.0   \n",
       "317         232.0        6.0       100.0  3288.0          15.5        71.0   \n",
       "\n",
       "     origin  \n",
       "0       1.0  \n",
       "1       1.0  \n",
       "2       3.0  \n",
       "3       1.0  \n",
       "4       3.0  \n",
       "..      ...  \n",
       "313     1.0  \n",
       "314     1.0  \n",
       "315     1.0  \n",
       "316     3.0  \n",
       "317     1.0  \n",
       "\n",
       "[318 rows x 7 columns]"
      ]
     },
     "execution_count": 5,
     "metadata": {},
     "output_type": "execute_result"
    }
   ],
   "source": [
    "X_train"
   ]
  },
  {
   "cell_type": "code",
   "execution_count": 6,
   "id": "097ca2d7",
   "metadata": {
    "ExecuteTime": {
     "end_time": "2024-04-04T00:01:43.847993Z",
     "start_time": "2024-04-04T00:01:43.838834Z"
    }
   },
   "outputs": [
    {
     "data": {
      "text/plain": [
       "Index(['displacement', 'cylinders', 'horsepower', 'weight', 'acceleration',\n",
       "       'model_year', 'origin'],\n",
       "      dtype='object')"
      ]
     },
     "execution_count": 6,
     "metadata": {},
     "output_type": "execute_result"
    }
   ],
   "source": [
    "X_train.columns"
   ]
  },
  {
   "cell_type": "code",
   "execution_count": 7,
   "id": "545cbe59",
   "metadata": {
    "ExecuteTime": {
     "end_time": "2024-04-04T00:01:44.591310Z",
     "start_time": "2024-04-04T00:01:44.583583Z"
    },
    "code_folding": [
     1
    ]
   },
   "outputs": [],
   "source": [
    "symbol_id = -1\n",
    "def create_symbol(suffix=''):\n",
    "    global symbol_id\n",
    "    symbol_id += 1\n",
    "    name = f'e{symbol_id}_{suffix}' if suffix else f'e{symbol_id}'\n",
    "    return sympy.Symbol(name=name)"
   ]
  },
  {
   "cell_type": "code",
   "execution_count": 8,
   "id": "c58673d6",
   "metadata": {
    "ExecuteTime": {
     "end_time": "2024-04-04T00:01:45.403949Z",
     "start_time": "2024-04-04T00:01:45.359797Z"
    },
    "code_folding": [
     5,
     17,
     61,
     94,
     115
    ]
   },
   "outputs": [],
   "source": [
    "scaler_symbols = set([sb(f'k{i}') for i in range(X_train.shape[1]+1)])\n",
    "linearization_dict = dict()\n",
    "reverse_linearization_dict = dict()\n",
    "\n",
    "\n",
    "def sample_data(imputed_datasets, uncert_inds=[], seed=42):\n",
    "    imp_np = np.array(imputed_datasets)\n",
    "    if len(uncert_inds) == 0:\n",
    "        uncert_inds = list(itertools.product(range(imp_np.shape[1]),range(imp_np.shape[2])))\n",
    "    np.random.seed(seed)\n",
    "    choices = np.random.choice(np.arange(imp_np.shape[0]), len(uncert_inds), replace=True)\n",
    "    sample_result = imputed_datasets[0].copy()\n",
    "    for i, ind in enumerate(uncert_inds):\n",
    "        sample_result[ind[0]][ind[1]] = imputed_datasets[choices[i]][ind[0]][ind[1]]\n",
    "    return sample_result\n",
    "\n",
    "\n",
    "def linearization(expr_ls):\n",
    "    processed_expr_ls = [0 for _ in range(len(expr_ls))]\n",
    "    for expr_id, expr in enumerate(expr_ls):\n",
    "        # Do not support monomial expr currently, e.g., expr = 1.5*e1. \n",
    "        # At lease two monomials in expr, e.g., expr = 1.5*e1 + 2.\n",
    "        if not(expr.free_symbols):\n",
    "            processed_expr_ls[expr_id] += expr\n",
    "            continue\n",
    "        expr = expr.expand()\n",
    "        for arg in expr.args:\n",
    "            if not(arg.free_symbols):\n",
    "                processed_expr_ls[expr_id] += arg\n",
    "                continue\n",
    "            p = arg.as_poly()\n",
    "            monomial_exponents = p.monoms()[0]\n",
    "            \n",
    "            # only deal with non-linear monomials (order > 2)\n",
    "            if sum(monomial_exponents) <= 1:\n",
    "                processed_expr_ls[expr_id] += arg\n",
    "                continue\n",
    "\n",
    "            monomial = sympy.prod(x**k for x, k in zip(p.gens, monomial_exponents) \n",
    "                                  if not(x in scaler_symbols))\n",
    "            # check global substitution dictionary\n",
    "            if monomial in linearization_dict:\n",
    "                processed_expr_ls[expr_id] += arg.coeff(monomial)*linearization_dict[monomial]\n",
    "            else:\n",
    "                found = False\n",
    "                subs_monomial = create_symbol()\n",
    "                for symb in monomial.free_symbols:\n",
    "                    if symb in reverse_linearization_dict:\n",
    "                        equivalent_monomial = monomial.subs(symb, reverse_linearization_dict[symb])\n",
    "                        if equivalent_monomial in linearization_dict:\n",
    "                            subs_monomial = linearization_dict[equivalent_monomial]\n",
    "                            found = True\n",
    "                            break\n",
    "                linearization_dict[monomial] = subs_monomial\n",
    "                if not(found):\n",
    "                    reverse_linearization_dict[subs_monomial] = monomial\n",
    "                processed_expr_ls[expr_id] += arg.coeff(monomial)*subs_monomial\n",
    "                \n",
    "    return processed_expr_ls\n",
    "\n",
    "\n",
    "def merge_small_components_pca(expr_ls, budget=10):\n",
    "    if not(isinstance(expr_ls, sympy.Expr)):\n",
    "        expr_ls = sympy.Matrix(expr_ls)\n",
    "    if expr_ls.free_symbols:\n",
    "        center = expr_ls.subs(dict([(symb, 0) for symb in expr_ls.free_symbols]))\n",
    "    else:\n",
    "        return expr_ls\n",
    "    monomials_dict = get_generators(expr_ls)\n",
    "    generators = np.array([monomials_dict[m] for m in monomials_dict])\n",
    "    if len(generators) <= budget:\n",
    "        return expr_ls\n",
    "    monomials = [m for m in monomials_dict]\n",
    "    pca = PCA(n_components=len(generators[0]))\n",
    "    pca.fit(np.concatenate([generators, -generators]))\n",
    "    transformed_generators = pca.transform(generators)\n",
    "    transformed_generator_norms = np.linalg.norm(transformed_generators, axis=1, ord=2)\n",
    "    # from largest to lowest norm\n",
    "    sorted_indices = transformed_generator_norms.argsort()[::-1].astype(int)\n",
    "    sorted_transformed_generators = transformed_generators[sorted_indices]\n",
    "    sorted_monomials = [monomials[idx] for idx in sorted_indices]\n",
    "    new_transformed_generators = np.concatenate([sorted_transformed_generators[:budget], \n",
    "                                                 np.diag(np.sum(np.abs(sorted_transformed_generators[budget:]), \n",
    "                                                                axis=0))])\n",
    "    new_generators = pca.inverse_transform(new_transformed_generators)\n",
    "    new_monomials = sorted_monomials[:budget] + [create_symbol() for _ in range(len(generators[0]))]\n",
    "    \n",
    "    processed_expr_ls = center\n",
    "    for monomial_id in range(len(new_monomials)):\n",
    "        processed_expr_ls += sympy.Matrix(new_generators[monomial_id])*new_monomials[monomial_id]\n",
    "    \n",
    "    return processed_expr_ls\n",
    "\n",
    "\n",
    "def get_vertices(affset):\n",
    "    l = len(affset)\n",
    "    distinct_symbols = set()\n",
    "    for expr in affset:\n",
    "        if not(isinstance(expr, sympy.Expr)):\n",
    "            assert isinstance(expr, int) or isinstance(expr, float)\n",
    "        else:\n",
    "            if distinct_symbols:\n",
    "                distinct_symbols = distinct_symbols.union(expr.free_symbols)\n",
    "            else:\n",
    "                distinct_symbols = expr.free_symbols\n",
    "    distinct_symbols = list(distinct_symbols)\n",
    "    # print(distinct_symbols)\n",
    "    combs = [list(zip(distinct_symbols,list(l))) for l in list(itertools.product([-1, 1], repeat=len(distinct_symbols)))]\n",
    "    res = set()\n",
    "    for assignment in combs:\n",
    "        res.add(tuple([expr.subs(assignment) for expr in affset]))\n",
    "    return(res)\n",
    "\n",
    "\n",
    "# take a list of expressions as input, output the list of monomials and generator vectors,\n",
    "def get_generators(expr_ls):\n",
    "    monomials = dict()\n",
    "    for expr_id, expr in enumerate(expr_ls):\n",
    "        if not(isinstance(expr, sympy.Expr)) or not(expr.free_symbols):\n",
    "            continue\n",
    "        expr = expr.expand()\n",
    "        p = sympy.Poly(expr)\n",
    "        monomials_in_expr = [sympy.prod(x**k for x, k in zip(p.gens, mon)) \n",
    "                             for mon in p.monoms() if sum(mon) >= 1]\n",
    "        for monomial in monomials_in_expr:\n",
    "            coef = float(p.coeff_monomial(monomial))\n",
    "            if monomial in monomials:\n",
    "                if len(monomials[monomial]) < expr_id:\n",
    "                    monomials[monomial] = monomials[monomial] + [0 for _ in range(expr_id-len(monomials[monomial]))]\n",
    "                monomials[monomial].append(coef)\n",
    "            else:\n",
    "                monomials[monomial] = [0 for _ in range(expr_id)] + [coef]\n",
    "\n",
    "    for monomial in monomials:\n",
    "        if len(monomials[monomial]) < len(expr_ls):\n",
    "            monomials[monomial] = monomials[monomial] + [0 for _ in range(len(expr_ls)-len(monomials[monomial]))]\n",
    "    \n",
    "    return monomials\n",
    "\n",
    "\n",
    "def plot_conretiztion(affset, alpha = 0.5, color='red', budget=-1):\n",
    "    if budget > -1:\n",
    "        affset = merge_small_components_pca(affset, budget=budget)\n",
    "    pts = np.array(list(map(list, get_vertices(affset))))\n",
    "    hull = ConvexHull(pts)\n",
    "    plt.fill(pts[hull.vertices,0], pts[hull.vertices,1],color,alpha=alpha)"
   ]
  },
  {
   "cell_type": "markdown",
   "id": "73f86df7",
   "metadata": {},
   "source": [
    "## Random missing value injection"
   ]
  },
  {
   "cell_type": "markdown",
   "id": "ae0b8171",
   "metadata": {},
   "source": [
    "### Impute and get ranges"
   ]
  },
  {
   "cell_type": "code",
   "execution_count": 235,
   "id": "8e63f263",
   "metadata": {
    "ExecuteTime": {
     "end_time": "2024-04-04T08:12:18.054946Z",
     "start_time": "2024-04-04T08:12:18.046758Z"
    },
    "scrolled": true
   },
   "outputs": [],
   "source": [
    "# num of errors injected\n",
    "mv_num = 5\n",
    "\n",
    "# which col to inject missing val\n",
    "uncertain_attr = 2\n",
    "\n",
    "# inject into horsepower (3rd col in X)\n",
    "mv_err = MissingValueError(uncertain_attr, pattern=None, ratio=mv_num/len(X_train))\n",
    "dirty_X_train, dirty_y_train, _, _ = mv_err.inject(X_train.copy(), y_train.copy(), X_train, y_train)"
   ]
  },
  {
   "cell_type": "code",
   "execution_count": 236,
   "id": "7d0ab42d",
   "metadata": {
    "ExecuteTime": {
     "end_time": "2024-04-04T08:12:18.325210Z",
     "start_time": "2024-04-04T08:12:18.311279Z"
    }
   },
   "outputs": [],
   "source": [
    "X = dirty_X_train.to_numpy()\n",
    "y = dirty_y_train.to_numpy().ravel()\n",
    "X_extended = np.append(np.ones((len(X), 1)), X, axis=1)\n",
    "# add 1's as the new first column\n",
    "uncertain_attr += 1\n",
    "ss = StandardScaler()\n",
    "X_extended[:, 1:] = ss.fit_transform(X_extended[:, 1:])\n",
    "\n",
    "imputers = [KNNImputer(n_neighbors=5), KNNImputer(n_neighbors=10), KNNImputer(n_neighbors=15),\n",
    "            IterativeImputer()]"
   ]
  },
  {
   "cell_type": "code",
   "execution_count": 237,
   "id": "ef2ef9a7",
   "metadata": {
    "ExecuteTime": {
     "end_time": "2024-04-04T08:12:18.564946Z",
     "start_time": "2024-04-04T08:12:18.522510Z"
    }
   },
   "outputs": [],
   "source": [
    "# missing horsepower in some rows\n",
    "num_attrs = X_extended.shape[1]\n",
    "X_nan = X_extended.copy()\n",
    "imputed_cols = []\n",
    "imputed_datasets = []\n",
    "for imp in imputers:\n",
    "    imputed_dataset = imp.fit_transform(X_nan)\n",
    "    imputed_datasets.append(imputed_dataset)\n",
    "    imputed_cols.append(imputed_dataset[:, uncertain_attr])\n",
    "\n",
    "X_extended_max = X_extended.copy()\n",
    "X_extended_max[:, uncertain_attr] = np.max(imputed_cols, axis=0)\n",
    "X_extended_min = X_extended.copy()\n",
    "X_extended_min[:, uncertain_attr] = np.min(imputed_cols, axis=0)"
   ]
  },
  {
   "cell_type": "markdown",
   "id": "35e55580",
   "metadata": {},
   "source": [
    "### Transform into symbolic expressions"
   ]
  },
  {
   "cell_type": "code",
   "execution_count": 238,
   "id": "2ab9509c",
   "metadata": {
    "ExecuteTime": {
     "end_time": "2024-04-04T08:12:19.016877Z",
     "start_time": "2024-04-04T08:12:18.943888Z"
    }
   },
   "outputs": [],
   "source": [
    "# convert ranges into symbolic representation \n",
    "symbol_id = -1\n",
    "symbolic_data = X_extended.tolist()\n",
    "symbols_in_data = set()\n",
    "symbol_to_position = dict()\n",
    "XS = X_extended.tolist()\n",
    "XR = X_extended.tolist()\n",
    "for row in range(len(symbolic_data)):\n",
    "    for col in range(len(symbolic_data[0])):\n",
    "        xmin = X_extended_min[row][col]\n",
    "        xmax = X_extended_max[row][col]\n",
    "        if xmin != xmax:\n",
    "            xmean = (xmax + xmin) / 2\n",
    "            xradius = (xmax - xmin) / 2\n",
    "            new_symbol = create_symbol()\n",
    "            symbolic_data[row][col] = xmean + xradius*new_symbol\n",
    "            XS[row][col] = xradius*new_symbol\n",
    "            XR[row][col] = xmean\n",
    "            symbols_in_data.add(new_symbol)\n",
    "            symbol_to_position[new_symbol] = (row, col)\n",
    "        else:\n",
    "            XS[row][col] = 0\n",
    "XS = sympy.Matrix(XS)\n",
    "XR = sympy.Matrix(XR)"
   ]
  },
  {
   "cell_type": "code",
   "execution_count": 239,
   "id": "07d77c8f",
   "metadata": {
    "ExecuteTime": {
     "end_time": "2024-04-04T08:12:33.771564Z",
     "start_time": "2024-04-04T08:12:19.173200Z"
    }
   },
   "outputs": [
    {
     "data": {
      "application/vnd.jupyter.widget-view+json": {
       "model_id": "2e0cd5dce7ae4987b8a0c8a067f9640a",
       "version_major": 2,
       "version_minor": 0
      },
      "text/plain": [
       "Samples:   0%|          | 0/10000 [00:00<?, ?it/s]"
      ]
     },
     "metadata": {},
     "output_type": "display_data"
    }
   ],
   "source": [
    "sample_params = []\n",
    "for s in tqdm(range(10000), desc='Samples'):\n",
    "    samp = sample_data(imputed_datasets, seed=s)\n",
    "    sample_params.append(np.matmul(np.linalg.inv(np.matmul(samp.T, samp)), np.matmul(samp.T, y)))\n",
    "\n",
    "sample_params_np = np.array(sample_params)"
   ]
  },
  {
   "cell_type": "markdown",
   "id": "65d57fe6",
   "metadata": {},
   "source": [
    "### Calculate fixed point"
   ]
  },
  {
   "cell_type": "markdown",
   "id": "c276f41a",
   "metadata": {},
   "source": [
    "#### Assume no shared symbol with data"
   ]
  },
  {
   "cell_type": "code",
   "execution_count": 242,
   "id": "4a8a5543",
   "metadata": {
    "ExecuteTime": {
     "end_time": "2024-04-04T08:13:45.082362Z",
     "start_time": "2024-04-04T08:13:43.179902Z"
    }
   },
   "outputs": [],
   "source": [
    "VT, sigma, V = np.linalg.svd(np.array((XR.T*XR).tolist()).astype(float))\n",
    "V_mat = sympy.Matrix(V)\n",
    "y_mat = sympy.Matrix(y)\n",
    "\n",
    "wR = (XR.T*XR).inv()*XR.T*y_mat\n",
    "wS = 0.0*V_mat.row(0).T\n",
    "for i in range(len(symbolic_data[0])):\n",
    "    wS = wS + sb(f'k{i}')*sb(f'ep{i}')*V_mat.row(i).T\n",
    "\n",
    "w = wS + wR\n",
    "w_prime = (-lamb*2/len(symbolic_data))*((XS.T*XR + XR.T*XS + XS.T*XS)*w - XS.T*y_mat).expand()\n",
    "w_prime_projected = (V_mat*w_prime).expand()"
   ]
  },
  {
   "cell_type": "code",
   "execution_count": 243,
   "id": "74aff785",
   "metadata": {
    "ExecuteTime": {
     "end_time": "2024-04-04T08:13:45.086539Z",
     "start_time": "2024-04-04T08:13:45.083712Z"
    }
   },
   "outputs": [
    {
     "data": {
      "text/plain": [
       "array([0.08927464, 0.79999438, 0.80695436, 0.84681099, 0.90511192,\n",
       "       0.97268052, 0.98652415, 0.99304776])"
      ]
     },
     "execution_count": 243,
     "metadata": {},
     "output_type": "execute_result"
    }
   ],
   "source": [
    "lamb = 0.1\n",
    "eigenvalues = 1 - sigma/len(symbolic_data)*2*lamb\n",
    "eigenvalues"
   ]
  },
  {
   "cell_type": "code",
   "execution_count": 244,
   "id": "63c04ab7",
   "metadata": {
    "ExecuteTime": {
     "end_time": "2024-04-04T08:13:54.117695Z",
     "start_time": "2024-04-04T08:13:53.951589Z"
    }
   },
   "outputs": [],
   "source": [
    "eqs = []\n",
    "for d in range(len(symbolic_data[0])):\n",
    "    eq1 = (1-eigenvalues[d])*sb(f'k{d}')\n",
    "    eq2 = 0\n",
    "    coef_dict = dict()\n",
    "    coef_dict['const'] = 0\n",
    "    for i in range(len(symbolic_data[0])):\n",
    "        coef_dict[sb(f'k{i}')] = 0\n",
    "    for arg in w_prime_projected[d].args:\n",
    "        contain_k = False\n",
    "        for i in range(len(symbolic_data[0])):\n",
    "            symb_k = sb(f'k{i}')\n",
    "            if symb_k in arg.free_symbols:\n",
    "                coef_dict[symb_k] = coef_dict[symb_k] + abs(arg.args[0])\n",
    "                contain_k = True\n",
    "        if not(contain_k):\n",
    "            coef_dict['const'] = coef_dict['const'] + abs(arg.args[0])\n",
    "    eq2 = coef_dict['const']\n",
    "    for i in range(len(symbolic_data[0])):\n",
    "        eq2 = eq2 + sb(f'k{i}')*coef_dict[sb(f'k{i}')]\n",
    "    eqs.append(sympy.Eq(eq1, eq2))"
   ]
  },
  {
   "cell_type": "code",
   "execution_count": 245,
   "id": "576d36ae",
   "metadata": {
    "ExecuteTime": {
     "end_time": "2024-04-04T08:13:55.667929Z",
     "start_time": "2024-04-04T08:13:54.587906Z"
    }
   },
   "outputs": [],
   "source": [
    "result = sympy.solve(eqs, [sb(f'k{i}') for i in range(len(symbolic_data[0]))])"
   ]
  },
  {
   "cell_type": "code",
   "execution_count": 246,
   "id": "13e920ac",
   "metadata": {
    "ExecuteTime": {
     "end_time": "2024-04-04T08:13:55.729477Z",
     "start_time": "2024-04-04T08:13:55.669241Z"
    }
   },
   "outputs": [],
   "source": [
    "param = wR+wS.subs(result)"
   ]
  },
  {
   "cell_type": "code",
   "execution_count": 247,
   "id": "fcee21eb",
   "metadata": {
    "ExecuteTime": {
     "end_time": "2024-04-04T08:13:56.471359Z",
     "start_time": "2024-04-04T08:13:55.731206Z"
    }
   },
   "outputs": [
    {
     "data": {
      "image/png": "[encoded data removed]",
      "text/plain": [
       "<Figure size 720x216 with 3 Axes>"
      ]
     },
     "metadata": {
      "needs_background": "light"
     },
     "output_type": "display_data"
    }
   ],
   "source": [
    "fig = plt.figure(figsize=(10, 3))\n",
    "plt.subplot(131)\n",
    "plot_conretiztion([param[0], param[1]], 0.5)\n",
    "plt.scatter([sp[0] for sp in sample_params_np], [sp[1] for sp in sample_params_np], s=0.75)\n",
    "plt.xlabel('$X_0$', fontsize=16)\n",
    "plt.ylabel('$X_1$', fontsize=16)\n",
    "# plt.axis('equal')\n",
    "\n",
    "plt.subplot(132)\n",
    "plot_conretiztion([param[1], param[2]])\n",
    "plt.scatter([sp[1] for sp in sample_params_np], [sp[2] for sp in sample_params_np], s=0.75)\n",
    "plt.xlabel('$X_1$', fontsize=16)\n",
    "plt.ylabel('$X_2$', fontsize=16)\n",
    "# plt.axis('equal')\n",
    "\n",
    "plt.subplot(133)\n",
    "plot_conretiztion([param[0], param[2]])\n",
    "plt.scatter([sp[0] for sp in sample_params_np], [sp[2] for sp in sample_params_np], s=0.75)\n",
    "plt.xlabel('$X_0$', fontsize=16)\n",
    "plt.ylabel('$X_2$', fontsize=16)\n",
    "# plt.axis('equal')\n",
    "fig.suptitle('Pair-wise Concretization', fontsize=16)\n",
    "plt.tight_layout()"
   ]
  },
  {
   "cell_type": "markdown",
   "id": "82d25df1",
   "metadata": {},
   "source": [
    "#### Allow shared symbol with data"
   ]
  },
  {
   "cell_type": "code",
   "execution_count": 249,
   "id": "5b91902d",
   "metadata": {
    "ExecuteTime": {
     "end_time": "2024-04-04T08:14:50.010322Z",
     "start_time": "2024-04-04T08:14:47.800481Z"
    }
   },
   "outputs": [],
   "source": [
    "VT, sigma, V = np.linalg.svd(np.array((XR.T*XR).tolist()).astype(float))\n",
    "V_mat = sympy.Matrix(V)\n",
    "y_mat = sympy.Matrix(y)\n",
    "\n",
    "wR = (XR.T*XR).inv()*XR.T*y_mat\n",
    "wS_non_data = 0.0*V_mat.row(0).T\n",
    "for i in range(len(symbolic_data[0])):\n",
    "    wS_non_data = wS_non_data + sb(f'k{i}')*sb(f'ep{i}')*V_mat.row(i).T\n",
    "    \n",
    "eigenvalues = 1 - sigma/len(symbolic_data)*2*lamb\n",
    "A = V_mat.inv()*np.diag(eigenvalues)*V_mat\n",
    "\n",
    "wS_data = (np.identity(len(symbolic_data[0]))-A).inv()*((XS.T*XR + XR.T*XS)*wR \n",
    "                                                        - XS.T*y_mat)*(-lamb*2/len(symbolic_data))\n",
    "\n",
    "wS = wS_non_data + wS_data\n",
    "w = wS + wR\n",
    "w_prime = (-lamb*2/len(symbolic_data))*((XS.T*XR + XR.T*XS + XS.T*XS)*wS + XS.T*XS*wR).expand()\n",
    "w_prime_projected = V_mat*w_prime"
   ]
  },
  {
   "cell_type": "code",
   "execution_count": 250,
   "id": "a8ff70ad",
   "metadata": {
    "ExecuteTime": {
     "end_time": "2024-04-04T08:14:52.618026Z",
     "start_time": "2024-04-04T08:14:52.445666Z"
    }
   },
   "outputs": [],
   "source": [
    "eqs = []\n",
    "for d in range(len(symbolic_data[0])):\n",
    "    eq1 = (1-eigenvalues[d])*sb(f'k{d}')\n",
    "    eq2 = 0\n",
    "    coef_dict = dict()\n",
    "    coef_dict['const'] = 0\n",
    "    for i in range(len(symbolic_data[0])):\n",
    "        coef_dict[sb(f'k{i}')] = 0\n",
    "    for arg in w_prime_projected[d].args:\n",
    "        contain_k = False\n",
    "        for i in range(len(symbolic_data[0])):\n",
    "            symb_k = sb(f'k{i}')\n",
    "            if symb_k in arg.free_symbols:\n",
    "                coef_dict[symb_k] = coef_dict[symb_k] + abs(arg.args[0])\n",
    "                contain_k = True\n",
    "                break\n",
    "        if not(contain_k):\n",
    "            coef_dict['const'] = coef_dict['const'] + abs(arg.args[0])\n",
    "    eq2 = coef_dict['const']\n",
    "    for i in range(len(symbolic_data[0])):\n",
    "        eq2 = eq2 + sb(f'k{i}')*coef_dict[sb(f'k{i}')]\n",
    "    eqs.append(sympy.Eq(eq1, eq2))"
   ]
  },
  {
   "cell_type": "code",
   "execution_count": 251,
   "id": "c3e3ce20",
   "metadata": {
    "ExecuteTime": {
     "end_time": "2024-04-04T08:14:54.744769Z",
     "start_time": "2024-04-04T08:14:53.680486Z"
    }
   },
   "outputs": [],
   "source": [
    "result = sympy.solve(eqs, [sb(f'k{i}') for i in range(len(symbolic_data[0]))])"
   ]
  },
  {
   "cell_type": "code",
   "execution_count": 252,
   "id": "fd00b26e",
   "metadata": {
    "ExecuteTime": {
     "end_time": "2024-04-04T08:14:58.689467Z",
     "start_time": "2024-04-04T08:14:58.564063Z"
    }
   },
   "outputs": [],
   "source": [
    "param = wR+wS.subs(result)"
   ]
  },
  {
   "cell_type": "code",
   "execution_count": 253,
   "id": "1e78c913",
   "metadata": {
    "ExecuteTime": {
     "end_time": "2024-04-04T08:15:11.435085Z",
     "start_time": "2024-04-04T08:15:03.720828Z"
    }
   },
   "outputs": [
    {
     "data": {
      "image/png": "[encoded data removed]",
      "text/plain": [
       "<Figure size 720x216 with 3 Axes>"
      ]
     },
     "metadata": {
      "needs_background": "light"
     },
     "output_type": "display_data"
    }
   ],
   "source": [
    "fig = plt.figure(figsize=(10, 3))\n",
    "plt.subplot(131)\n",
    "plot_conretiztion([param[0], param[1]], 0.5, budget=10)\n",
    "plt.scatter([sp[0] for sp in sample_params_np], [sp[1] for sp in sample_params_np], s=0.75)\n",
    "plt.xlabel('$X_0$', fontsize=16)\n",
    "plt.ylabel('$X_1$', fontsize=16)\n",
    "# plt.axis('equal')\n",
    "\n",
    "plt.subplot(132)\n",
    "plot_conretiztion([param[1], param[2]], budget=10)\n",
    "plt.scatter([sp[1] for sp in sample_params_np], [sp[2] for sp in sample_params_np], s=0.75)\n",
    "plt.xlabel('$X_1$', fontsize=16)\n",
    "plt.ylabel('$X_2$', fontsize=16)\n",
    "# plt.axis('equal')\n",
    "\n",
    "plt.subplot(133)\n",
    "plot_conretiztion([param[0], param[2]], budget=10)\n",
    "plt.scatter([sp[0] for sp in sample_params_np], [sp[2] for sp in sample_params_np], s=0.75)\n",
    "plt.xlabel('$X_0$', fontsize=16)\n",
    "plt.ylabel('$X_2$', fontsize=16)\n",
    "# plt.axis('equal')\n",
    "fig.suptitle('Pair-wise Concretization', fontsize=16)\n",
    "plt.tight_layout()"
   ]
  },
  {
   "cell_type": "code",
   "execution_count": null,
   "id": "c0bf4634",
   "metadata": {},
   "outputs": [],
   "source": []
  },
  {
   "cell_type": "markdown",
   "id": "c27bcf36",
   "metadata": {},
   "source": [
    "#### GD-based verification"
   ]
  },
  {
   "cell_type": "code",
   "execution_count": null,
   "id": "9563e111",
   "metadata": {},
   "outputs": [],
   "source": []
  },
  {
   "cell_type": "code",
   "execution_count": 254,
   "id": "5078d7ee",
   "metadata": {
    "ExecuteTime": {
     "end_time": "2024-04-04T08:15:32.831383Z",
     "start_time": "2024-04-04T08:15:32.801757Z"
    },
    "code_folding": [
     0,
     34
    ]
   },
   "outputs": [],
   "source": [
    "def merge_small_components_pca(expr_ls, budget=10):\n",
    "    if not(isinstance(expr_ls, sympy.Expr)):\n",
    "        expr_ls = sympy.Matrix(expr_ls)\n",
    "    if expr_ls.free_symbols:\n",
    "        center = expr_ls.subs(dict([(symb, 0) for symb in expr_ls.free_symbols]))\n",
    "    else:\n",
    "        return expr_ls\n",
    "    monomials_dict = get_generators(expr_ls)\n",
    "    generators = np.array([monomials_dict[m] for m in monomials_dict])\n",
    "    if len(generators) <= budget:\n",
    "        return expr_ls\n",
    "    monomials = [m for m in monomials_dict]\n",
    "    \n",
    "    VT, sigma, V = np.linalg.svd(np.matmul(np.concatenate([generators, -generators]).T, \n",
    "                                           np.concatenate([generators, -generators])))\n",
    "    transformed_generators = np.matmul(V, generators.T).T\n",
    "    transformed_generator_norms = np.linalg.norm(transformed_generators, axis=1, ord=2)\n",
    "    \n",
    "    # from largest to lowest norm\n",
    "    sorted_indices = transformed_generator_norms.argsort()[::-1].astype(int)\n",
    "    sorted_transformed_generators = transformed_generators[sorted_indices]\n",
    "    sorted_monomials = [monomials[idx] for idx in sorted_indices]\n",
    "    new_transformed_generators = np.concatenate([sorted_transformed_generators[:budget],\n",
    "                                                 np.diag(np.sum(np.abs(sorted_transformed_generators[budget:]), axis=0))])\n",
    "    new_generators = np.matmul(VT, new_transformed_generators.T).T\n",
    "    new_monomials = sorted_monomials[:budget] + [create_symbol() for _ in range(len(generators[0]))]\n",
    "    \n",
    "    processed_expr_ls = center\n",
    "    for monomial_id in range(len(new_monomials)):\n",
    "        processed_expr_ls += sympy.Matrix(new_generators[monomial_id])*new_monomials[monomial_id]\n",
    "    \n",
    "    return processed_expr_ls\n",
    "\n",
    "\n",
    "def merge_small_components_v_selected(expr_ls, symbols_in_data, symbolic_in_orig_weight, V, VT):\n",
    "    if not(isinstance(expr_ls, sympy.Expr)):\n",
    "        expr_ls = sympy.Matrix(expr_ls)\n",
    "    if expr_ls.free_symbols:\n",
    "        center = expr_ls.subs(dict([(symb, 0) for symb in expr_ls.free_symbols]))\n",
    "    else:\n",
    "        return expr_ls\n",
    "    \n",
    "    monomials_dict = get_generators(expr_ls)\n",
    "    generators = np.array([monomials_dict[m] for m in monomials_dict])\n",
    "\n",
    "    monomials = [m for m in monomials_dict]\n",
    "\n",
    "    transformed_generators = np.matmul(V, generators.T).T\n",
    "    transformed_generator_norms = np.linalg.norm(transformed_generators, axis=1, ord=2)\n",
    "    \n",
    "    selected_indices = []\n",
    "    not_selected_indices = []\n",
    "    for idx, monomial in enumerate(monomials_dict.keys()):\n",
    "        if (monomial in symbols_in_data) or (monomial in symbolic_in_orig_weight):\n",
    "            selected_indices += [idx]\n",
    "        else:\n",
    "            not_selected_indices += [idx]\n",
    "    selected_indices = np.array(selected_indices).astype(int)\n",
    "    not_selected_indices = np.array(not_selected_indices).astype(int)\n",
    "\n",
    "    selected_transformed_generators = transformed_generators[selected_indices]\n",
    "    selected_monomials = [monomials[idx] for idx in selected_indices]\n",
    "    \n",
    "    not_selected_transformed_generators = transformed_generators[not_selected_indices]\n",
    "    \n",
    "    new_transformed_generators = np.concatenate([selected_transformed_generators,\n",
    "                                                 np.diag(np.sum(np.abs(not_selected_transformed_generators),\n",
    "                                                                axis=0))])\n",
    "\n",
    "    new_generators = np.matmul(VT, new_transformed_generators.T).T\n",
    "    new_monomials = selected_monomials + [create_symbol() for _ in range(len(generators[0]))]\n",
    "    \n",
    "    processed_expr_ls = center\n",
    "    for monomial_id in range(len(new_monomials)):\n",
    "        processed_expr_ls += sympy.Matrix(new_generators[monomial_id])*new_monomials[monomial_id]\n",
    "    \n",
    "    return processed_expr_ls, new_transformed_generators"
   ]
  },
  {
   "cell_type": "code",
   "execution_count": null,
   "id": "b0c8ad1a",
   "metadata": {},
   "outputs": [],
   "source": []
  },
  {
   "cell_type": "code",
   "execution_count": null,
   "id": "6318c21a",
   "metadata": {},
   "outputs": [],
   "source": []
  },
  {
   "cell_type": "code",
   "execution_count": 255,
   "id": "22ab4f61",
   "metadata": {
    "ExecuteTime": {
     "end_time": "2024-04-04T08:16:17.414802Z",
     "start_time": "2024-04-04T08:15:34.174569Z"
    }
   },
   "outputs": [
    {
     "data": {
      "application/vnd.jupyter.widget-view+json": {
       "model_id": "76cf0e1b8780460ab23b45c73473cf32",
       "version_major": 2,
       "version_minor": 0
      },
      "text/plain": [
       "Symbolic:   0%|          | 0/2 [00:00<?, ?it/s]"
      ]
     },
     "metadata": {},
     "output_type": "display_data"
    }
   ],
   "source": [
    "symbolic_data_mat = sympy.Matrix(symbolic_data)\n",
    "new_param = copy.deepcopy(param)\n",
    "\n",
    "for iteration in tqdm(range(2), desc='Symbolic'):\n",
    "    preds_diff = symbolic_data_mat*new_param - y_mat\n",
    "    grad = symbolic_data_mat.transpose()*preds_diff\n",
    "    linearized_grad = linearization(grad)\n",
    "    new_param_li = [new_param[j] - linearized_grad[j]*2*lamb/len(symbolic_data) \n",
    "                    for j in range(len(new_param))]\n",
    "    new_param_or, new_gen = merge_small_components_v_selected(new_param_li, symbols_in_data, \n",
    "                                                              new_param.free_symbols, V, VT)\n",
    "    new_param = sympy.Matrix(new_param_or)"
   ]
  },
  {
   "cell_type": "code",
   "execution_count": 256,
   "id": "aaf8ffea",
   "metadata": {
    "ExecuteTime": {
     "end_time": "2024-04-04T08:16:22.696686Z",
     "start_time": "2024-04-04T08:16:17.416088Z"
    }
   },
   "outputs": [
    {
     "data": {
      "text/plain": [
       "<matplotlib.collections.PathCollection at 0x14d23a310>"
      ]
     },
     "execution_count": 256,
     "metadata": {},
     "output_type": "execute_result"
    },
    {
     "data": {
      "image/png": "[encoded data removed]",
      "text/plain": [
       "<Figure size 360x360 with 1 Axes>"
      ]
     },
     "metadata": {
      "needs_background": "light"
     },
     "output_type": "display_data"
    }
   ],
   "source": [
    "fig = plt.figure(figsize=(5, 5))\n",
    "ax = fig.add_subplot(111)\n",
    "plot_conretiztion([param[0], param[1]], budget=10)\n",
    "\n",
    "affset = merge_small_components_pca([new_param[0], new_param[1]], budget=10)\n",
    "pts = np.array(list(map(list, get_vertices(affset))))\n",
    "hull = ConvexHull(pts)\n",
    "ax.fill(pts[hull.vertices, 0], pts[hull.vertices, 1], 'yellow', alpha=0.7)\n",
    "plt.scatter([sp[0] for sp in sample_params_np], [sp[1] for sp in sample_params_np], s=0.75)"
   ]
  },
  {
   "cell_type": "markdown",
   "id": "facbce8f",
   "metadata": {},
   "source": [
    "yellow and red parts overlap, verification passed!"
   ]
  },
  {
   "cell_type": "code",
   "execution_count": null,
   "id": "e99ec327",
   "metadata": {},
   "outputs": [],
   "source": []
  },
  {
   "cell_type": "markdown",
   "id": "aae597a3",
   "metadata": {},
   "source": [
    "## Non-random missing value injection"
   ]
  },
  {
   "cell_type": "code",
   "execution_count": 259,
   "id": "41413ef6",
   "metadata": {
    "ExecuteTime": {
     "end_time": "2024-04-04T08:17:04.110406Z",
     "start_time": "2024-04-04T08:17:04.103971Z"
    },
    "code_folding": []
   },
   "outputs": [],
   "source": [
    "# pattern function that labels tuples in the given pattern as 1, and other tuples as 0\n",
    "def pattern(data_X, data_y):\n",
    "    binary_indicators = []\n",
    "    for i in data_X.index:\n",
    "        # choose subpopulation based on y (mpg) and origin\n",
    "        satisfaction = ((data_y.loc[i][0] > 25) & (data_X.loc[i, 'origin'] == 1))\n",
    "        if satisfaction:\n",
    "            binary_indicators.append(1)\n",
    "        else:\n",
    "            binary_indicators.append(0)\n",
    "    return np.array(binary_indicators)"
   ]
  },
  {
   "cell_type": "code",
   "execution_count": 260,
   "id": "54fcfefa",
   "metadata": {
    "ExecuteTime": {
     "end_time": "2024-04-04T08:17:04.369322Z",
     "start_time": "2024-04-04T08:17:04.326543Z"
    }
   },
   "outputs": [],
   "source": [
    "# num of errors injected\n",
    "mv_num = 5\n",
    "\n",
    "# which col to inject missing val\n",
    "uncertain_attr = 2\n",
    "\n",
    "# num of tuples described by the pattern\n",
    "mv_pattern_len = np.sum(pattern(X_train, y_train))\n",
    "\n",
    "# inject into horsepower (3rd col in X)\n",
    "mv_err = MissingValueError(uncertain_attr, pattern=pattern, ratio=mv_num/mv_pattern_len)\n",
    "dirty_X_train, dirty_y_train, _, _ = mv_err.inject(X_train.copy(), y_train.copy(), X_train, y_train)"
   ]
  },
  {
   "cell_type": "code",
   "execution_count": null,
   "id": "160b7d58",
   "metadata": {},
   "outputs": [],
   "source": []
  },
  {
   "cell_type": "code",
   "execution_count": 261,
   "id": "a8da723b",
   "metadata": {
    "ExecuteTime": {
     "end_time": "2024-04-04T08:17:26.689318Z",
     "start_time": "2024-04-04T08:17:26.680220Z"
    }
   },
   "outputs": [],
   "source": [
    "X = dirty_X_train.to_numpy()\n",
    "y = dirty_y_train.to_numpy().ravel()\n",
    "X_extended = np.append(np.ones((len(X), 1)), X, axis=1)\n",
    "uncertain_attr += 1\n",
    "ss = StandardScaler()\n",
    "X_extended[:, 1:] = ss.fit_transform(X_extended[:, 1:])\n",
    "\n",
    "imputers = [KNNImputer(n_neighbors=5), KNNImputer(n_neighbors=10), KNNImputer(n_neighbors=15),\n",
    "            IterativeImputer()]"
   ]
  },
  {
   "cell_type": "code",
   "execution_count": 262,
   "id": "7f6cb174",
   "metadata": {
    "ExecuteTime": {
     "end_time": "2024-04-04T08:17:28.141608Z",
     "start_time": "2024-04-04T08:17:28.092515Z"
    }
   },
   "outputs": [],
   "source": [
    "# missing horsepower in some rows\n",
    "num_attrs = X_extended.shape[1]\n",
    "X_nan = X_extended.copy()\n",
    "imputed_cols = []\n",
    "imputed_datasets = []\n",
    "for imp in imputers:\n",
    "    imputed_dataset = imp.fit_transform(X_nan)\n",
    "    imputed_datasets.append(imputed_dataset)\n",
    "    imputed_cols.append(imputed_dataset[:, uncertain_attr])\n",
    "\n",
    "X_extended_max = X_extended.copy()\n",
    "X_extended_max[:, uncertain_attr] = np.max(imputed_cols, axis=0)\n",
    "X_extended_min = X_extended.copy()\n",
    "X_extended_min[:, uncertain_attr] = np.min(imputed_cols, axis=0)"
   ]
  },
  {
   "cell_type": "markdown",
   "id": "9ec0a43b",
   "metadata": {},
   "source": [
    "### Transform into symbolic expressions"
   ]
  },
  {
   "cell_type": "code",
   "execution_count": 263,
   "id": "fd16325e",
   "metadata": {
    "ExecuteTime": {
     "end_time": "2024-04-04T08:17:31.831665Z",
     "start_time": "2024-04-04T08:17:31.765385Z"
    }
   },
   "outputs": [],
   "source": [
    "# convert ranges into symbolic representation \n",
    "symbol_id = -1\n",
    "symbolic_data = X_extended.tolist()\n",
    "symbols_in_data = set()\n",
    "symbol_to_position = dict()\n",
    "XS = X_extended.tolist()\n",
    "XR = X_extended.tolist()\n",
    "for row in range(len(symbolic_data)):\n",
    "    for col in range(len(symbolic_data[0])):\n",
    "        xmin = X_extended_min[row][col]\n",
    "        xmax = X_extended_max[row][col]\n",
    "        if xmin != xmax:\n",
    "            xmean = (xmax + xmin) / 2\n",
    "            xradius = (xmax - xmin) / 2\n",
    "            new_symbol = create_symbol()\n",
    "            symbolic_data[row][col] = xmean + xradius*new_symbol\n",
    "            XS[row][col] = xradius*new_symbol\n",
    "            XR[row][col] = xmean\n",
    "            symbols_in_data.add(new_symbol)\n",
    "            symbol_to_position[new_symbol] = (row, col)\n",
    "        else:\n",
    "            XS[row][col] = 0\n",
    "XS = sympy.Matrix(XS)\n",
    "XR = sympy.Matrix(XR)"
   ]
  },
  {
   "cell_type": "code",
   "execution_count": 264,
   "id": "73685aa9",
   "metadata": {
    "ExecuteTime": {
     "end_time": "2024-04-04T08:17:47.683164Z",
     "start_time": "2024-04-04T08:17:33.040348Z"
    }
   },
   "outputs": [
    {
     "data": {
      "application/vnd.jupyter.widget-view+json": {
       "model_id": "17ed0e091f904b1cb5e919875aef5805",
       "version_major": 2,
       "version_minor": 0
      },
      "text/plain": [
       "Samples:   0%|          | 0/10000 [00:00<?, ?it/s]"
      ]
     },
     "metadata": {},
     "output_type": "display_data"
    }
   ],
   "source": [
    "sample_params = []\n",
    "for s in tqdm(range(10000), desc='Samples'):\n",
    "    samp = sample_data(imputed_datasets, seed=s)\n",
    "    sample_params.append(np.matmul(np.linalg.inv(np.matmul(samp.T, samp)), np.matmul(samp.T, y)))\n",
    "\n",
    "sample_params_np = np.array(sample_params)"
   ]
  },
  {
   "cell_type": "markdown",
   "id": "9cc19b59",
   "metadata": {},
   "source": [
    "### Calculate fixed point"
   ]
  },
  {
   "cell_type": "markdown",
   "id": "694e4a32",
   "metadata": {},
   "source": [
    "#### Assume no shared symbol with data (1)"
   ]
  },
  {
   "cell_type": "code",
   "execution_count": 265,
   "id": "1f011bba",
   "metadata": {
    "ExecuteTime": {
     "end_time": "2024-04-04T08:17:49.859214Z",
     "start_time": "2024-04-04T08:17:48.069820Z"
    }
   },
   "outputs": [],
   "source": [
    "VT, sigma, V = np.linalg.svd(np.array((XR.T*XR).tolist()).astype(float))\n",
    "V_mat = sympy.Matrix(V)\n",
    "y_mat = sympy.Matrix(y)\n",
    "\n",
    "wR = (XR.T*XR).inv()*XR.T*y_mat\n",
    "wS = 0.0*V_mat.row(0).T\n",
    "for i in range(len(symbolic_data[0])):\n",
    "    wS = wS + sb(f'k{i}')*sb(f'ep{i}')*V_mat.row(i).T\n",
    "\n",
    "w = wS + wR\n",
    "w_prime = (-lamb*2/len(symbolic_data))*((XS.T*XR + XR.T*XS + XS.T*XS)*w - XS.T*y_mat).expand()\n",
    "w_prime_projected = (V_mat*w_prime).expand()"
   ]
  },
  {
   "cell_type": "code",
   "execution_count": 266,
   "id": "66bfa653",
   "metadata": {
    "ExecuteTime": {
     "end_time": "2024-04-04T08:17:49.871777Z",
     "start_time": "2024-04-04T08:17:49.868621Z"
    }
   },
   "outputs": [
    {
     "data": {
      "text/plain": [
       "array([0.08940099, 0.7999658 , 0.80706864, 0.84686942, 0.90511791,\n",
       "       0.97295083, 0.98633389, 0.99306815])"
      ]
     },
     "execution_count": 266,
     "metadata": {},
     "output_type": "execute_result"
    }
   ],
   "source": [
    "lamb = 0.1\n",
    "eigenvalues = 1 - sigma/len(symbolic_data)*2*lamb\n",
    "eigenvalues"
   ]
  },
  {
   "cell_type": "code",
   "execution_count": 267,
   "id": "25583869",
   "metadata": {
    "ExecuteTime": {
     "end_time": "2024-04-04T08:17:54.933978Z",
     "start_time": "2024-04-04T08:17:54.768564Z"
    }
   },
   "outputs": [],
   "source": [
    "eqs = []\n",
    "for d in range(len(symbolic_data[0])):\n",
    "    eq1 = (1-eigenvalues[d])*sb(f'k{d}')\n",
    "    eq2 = 0\n",
    "    coef_dict = dict()\n",
    "    coef_dict['const'] = 0\n",
    "    for i in range(len(symbolic_data[0])):\n",
    "        coef_dict[sb(f'k{i}')] = 0\n",
    "    for arg in w_prime_projected[d].args:\n",
    "        contain_k = False\n",
    "        for i in range(len(symbolic_data[0])):\n",
    "            symb_k = sb(f'k{i}')\n",
    "            if symb_k in arg.free_symbols:\n",
    "                coef_dict[symb_k] = coef_dict[symb_k] + abs(arg.args[0])\n",
    "                contain_k = True\n",
    "        if not(contain_k):\n",
    "            coef_dict['const'] = coef_dict['const'] + abs(arg.args[0])\n",
    "    eq2 = coef_dict['const']\n",
    "    for i in range(len(symbolic_data[0])):\n",
    "        eq2 = eq2 + sb(f'k{i}')*coef_dict[sb(f'k{i}')]\n",
    "    eqs.append(sympy.Eq(eq1, eq2))"
   ]
  },
  {
   "cell_type": "code",
   "execution_count": 268,
   "id": "252ca63d",
   "metadata": {
    "ExecuteTime": {
     "end_time": "2024-04-04T08:17:56.272655Z",
     "start_time": "2024-04-04T08:17:55.177997Z"
    }
   },
   "outputs": [],
   "source": [
    "result = sympy.solve(eqs, [sb(f'k{i}') for i in range(len(symbolic_data[0]))])"
   ]
  },
  {
   "cell_type": "code",
   "execution_count": 269,
   "id": "50e320c2",
   "metadata": {
    "ExecuteTime": {
     "end_time": "2024-04-04T08:17:56.333028Z",
     "start_time": "2024-04-04T08:17:56.273997Z"
    }
   },
   "outputs": [],
   "source": [
    "param = wR+wS.subs(result)"
   ]
  },
  {
   "cell_type": "code",
   "execution_count": 270,
   "id": "a5eaf503",
   "metadata": {
    "ExecuteTime": {
     "end_time": "2024-04-04T08:17:57.308310Z",
     "start_time": "2024-04-04T08:17:56.538113Z"
    },
    "scrolled": true
   },
   "outputs": [
    {
     "data": {
      "image/png": "[encoded data removed]",
      "text/plain": [
       "<Figure size 720x216 with 3 Axes>"
      ]
     },
     "metadata": {
      "needs_background": "light"
     },
     "output_type": "display_data"
    }
   ],
   "source": [
    "fig = plt.figure(figsize=(10, 3))\n",
    "plt.subplot(131)\n",
    "plot_conretiztion([param[0], param[1]], 0.5)\n",
    "plt.scatter([sp[0] for sp in sample_params_np], [sp[1] for sp in sample_params_np], s=0.75)\n",
    "plt.xlabel('$X_0$', fontsize=16)\n",
    "plt.ylabel('$X_1$', fontsize=16)\n",
    "# plt.axis('equal')\n",
    "\n",
    "plt.subplot(132)\n",
    "plot_conretiztion([param[1], param[2]])\n",
    "plt.scatter([sp[1] for sp in sample_params_np], [sp[2] for sp in sample_params_np], s=0.75)\n",
    "plt.xlabel('$X_1$', fontsize=16)\n",
    "plt.ylabel('$X_2$', fontsize=16)\n",
    "# plt.axis('equal')\n",
    "\n",
    "plt.subplot(133)\n",
    "plot_conretiztion([param[0], param[2]])\n",
    "plt.scatter([sp[0] for sp in sample_params_np], [sp[2] for sp in sample_params_np], s=0.75)\n",
    "plt.xlabel('$X_0$', fontsize=16)\n",
    "plt.ylabel('$X_2$', fontsize=16)\n",
    "# plt.axis('equal')\n",
    "fig.suptitle('Pair-wise Concretization', fontsize=16)\n",
    "plt.tight_layout()"
   ]
  },
  {
   "cell_type": "code",
   "execution_count": null,
   "id": "4990ab60",
   "metadata": {},
   "outputs": [],
   "source": []
  },
  {
   "cell_type": "markdown",
   "id": "19af7a8f",
   "metadata": {
    "heading_collapsed": true
   },
   "source": [
    "#### Assume no shared symbol with data (2)"
   ]
  },
  {
   "cell_type": "code",
   "execution_count": 271,
   "id": "08c6f632",
   "metadata": {
    "ExecuteTime": {
     "end_time": "2024-04-04T08:18:01.184471Z",
     "start_time": "2024-04-04T08:18:01.181430Z"
    },
    "code_folding": [
     0
    ],
    "hidden": true
   },
   "outputs": [],
   "source": [
    "# VT, sigma, V = np.linalg.svd(np.array((XR.T*XR).tolist()).astype(float))\n",
    "# V_mat = sympy.Matrix(V)\n",
    "# y_mat = sympy.Matrix(y)\n",
    "\n",
    "# wR = (XR.T*XR).inv()*XR.T*y_mat\n",
    "# wS_non_data = 0.0*V_mat.row(0).T\n",
    "# for i in range(len(symbolic_data[0])):\n",
    "#     wS_non_data = wS_non_data + sb(f'k{i}')*sb(f'ep{i}')*V_mat.row(i).T\n",
    "    \n",
    "# eigenvalues = 1 - sigma/len(symbolic_data)*2*lamb\n",
    "# A = V_mat.inv()*np.diag(eigenvalues)*V_mat\n",
    "\n",
    "# wS_data = (np.identity(len(symbolic_data[0]))-A).inv()*((XS.T*XR + XR.T*XS)*wR - \\\n",
    "#                                                         XS.T*y_mat)\n",
    "\n",
    "# wS = wS_non_data + wS_data\n",
    "# w = wS + wR\n",
    "# w_prime = (-lamb*2/len(symbolic_data))*((XS.T*XR + XR.T*XS + XS.T*XS)*wS + XS.T*XS*wR).expand()\n",
    "# w_prime_projected = V_mat*w_prime"
   ]
  },
  {
   "cell_type": "code",
   "execution_count": 272,
   "id": "5da3b558",
   "metadata": {
    "ExecuteTime": {
     "end_time": "2024-04-04T08:18:01.438970Z",
     "start_time": "2024-04-04T08:18:01.435093Z"
    },
    "code_folding": [
     0
    ],
    "hidden": true
   },
   "outputs": [],
   "source": [
    "# eqs = []\n",
    "# for d in range(len(symbolic_data[0])):\n",
    "#     eq1 = sb(f'k{d}')\n",
    "#     eq2 = 0\n",
    "#     coef_dict = dict()\n",
    "#     coef_dict['const'] = 0\n",
    "#     for i in range(len(symbolic_data[0])):\n",
    "#         coef_dict[sb(f'k{i}')] = 0\n",
    "#     for arg in w_prime_projected[d].args:\n",
    "#         contain_k = False\n",
    "#         for i in range(len(symbolic_data[0])):\n",
    "#             symb_k = sb(f'k{i}')\n",
    "#             if symb_k in arg.free_symbols:\n",
    "#                 coef_dict[symb_k] = coef_dict[symb_k] + abs(arg.args[0])\n",
    "#                 contain_k = True\n",
    "#         if not(contain_k):\n",
    "#             coef_dict['const'] = coef_dict['const'] + abs(arg.args[0])\n",
    "#     eq2 = coef_dict['const']\n",
    "#     for i in range(len(symbolic_data[0])):\n",
    "#         eq2 = eq2 + sb(f'k{i}')*coef_dict[sb(f'k{i}')]\n",
    "#     eqs.append(sympy.Eq(eq1, eq2))"
   ]
  },
  {
   "cell_type": "code",
   "execution_count": 273,
   "id": "6fb113b2",
   "metadata": {
    "ExecuteTime": {
     "end_time": "2024-04-04T08:18:01.673370Z",
     "start_time": "2024-04-04T08:18:01.666682Z"
    },
    "hidden": true
   },
   "outputs": [],
   "source": [
    "# result = sympy.solve(eqs, [sb(f'k{i}') for i in range(len(symbolic_data[0]))])"
   ]
  },
  {
   "cell_type": "code",
   "execution_count": 274,
   "id": "010a5ba9",
   "metadata": {
    "ExecuteTime": {
     "end_time": "2024-04-04T08:18:01.880874Z",
     "start_time": "2024-04-04T08:18:01.877354Z"
    },
    "hidden": true
   },
   "outputs": [],
   "source": [
    "# param = wR+wS.subs(result)"
   ]
  },
  {
   "cell_type": "code",
   "execution_count": 275,
   "id": "4dea2f59",
   "metadata": {
    "ExecuteTime": {
     "end_time": "2024-04-04T08:18:02.125408Z",
     "start_time": "2024-04-04T08:18:02.120294Z"
    },
    "code_folding": [
     0
    ],
    "hidden": true,
    "scrolled": true
   },
   "outputs": [],
   "source": [
    "# fig = plt.figure(figsize=(10, 3))\n",
    "# plt.subplot(131)\n",
    "# plot_conretiztion([param[0], param[1]])\n",
    "# plt.scatter([sp[0] for sp in sample_params_np], [sp[1] for sp in sample_params_np], s=0.75)\n",
    "# plt.xlabel('$X_0$', fontsize=16)\n",
    "# plt.ylabel('$X_1$', fontsize=16)\n",
    "# # plt.axis('equal')\n",
    "\n",
    "# plt.subplot(132)\n",
    "# plot_conretiztion([param[1], param[2]])\n",
    "# plt.scatter([sp[1] for sp in sample_params_np], [sp[2] for sp in sample_params_np], s=0.75)\n",
    "# plt.xlabel('$X_1$', fontsize=16)\n",
    "# plt.ylabel('$X_2$', fontsize=16)\n",
    "# # plt.axis('equal')\n",
    "\n",
    "# plt.subplot(133)\n",
    "# plot_conretiztion([param[0], param[2]])\n",
    "# plt.scatter([sp[0] for sp in sample_params_np], [sp[2] for sp in sample_params_np], s=0.75)\n",
    "# plt.xlabel('$X_0$', fontsize=16)\n",
    "# plt.ylabel('$X_2$', fontsize=16)\n",
    "# # plt.axis('equal')\n",
    "\n",
    "# fig.suptitle('Pair-wise Concretization', fontsize=16)\n",
    "# plt.tight_layout()"
   ]
  },
  {
   "cell_type": "code",
   "execution_count": null,
   "id": "dc3c9b2a",
   "metadata": {
    "hidden": true
   },
   "outputs": [],
   "source": []
  },
  {
   "cell_type": "code",
   "execution_count": null,
   "id": "299ed8f5",
   "metadata": {
    "hidden": true
   },
   "outputs": [],
   "source": []
  },
  {
   "cell_type": "markdown",
   "id": "ac76320e",
   "metadata": {},
   "source": [
    "#### Allow shared symbol with data"
   ]
  },
  {
   "cell_type": "code",
   "execution_count": 276,
   "id": "62eeb806",
   "metadata": {
    "ExecuteTime": {
     "end_time": "2024-04-04T08:18:48.022205Z",
     "start_time": "2024-04-04T08:18:45.809733Z"
    }
   },
   "outputs": [],
   "source": [
    "VT, sigma, V = np.linalg.svd(np.array((XR.T*XR).tolist()).astype(float))\n",
    "V_mat = sympy.Matrix(V)\n",
    "y_mat = sympy.Matrix(y)\n",
    "\n",
    "wR = (XR.T*XR).inv()*XR.T*y_mat\n",
    "wS_non_data = 0.0*V_mat.row(0).T\n",
    "for i in range(len(symbolic_data[0])):\n",
    "    wS_non_data = wS_non_data + sb(f'k{i}')*sb(f'ep{i}')*V_mat.row(i).T\n",
    "    \n",
    "eigenvalues = 1 - sigma/len(symbolic_data)*2*lamb\n",
    "A = V_mat.inv()*np.diag(eigenvalues)*V_mat\n",
    "\n",
    "wS_data = (np.identity(len(symbolic_data[0]))-A).inv()*((XS.T*XR + XR.T*XS)*wR \n",
    "                                                        - XS.T*y_mat)*(-lamb*2/len(symbolic_data))\n",
    "\n",
    "wS = wS_non_data + wS_data\n",
    "w = wS + wR\n",
    "w_prime = (-lamb*2/len(symbolic_data))*((XS.T*XR + XR.T*XS + XS.T*XS)*wS + XS.T*XS*wR).expand()\n",
    "w_prime_projected = V_mat*w_prime"
   ]
  },
  {
   "cell_type": "code",
   "execution_count": 277,
   "id": "d88fd2eb",
   "metadata": {
    "ExecuteTime": {
     "end_time": "2024-04-04T08:20:42.880192Z",
     "start_time": "2024-04-04T08:20:42.708936Z"
    }
   },
   "outputs": [],
   "source": [
    "eqs = []\n",
    "for d in range(len(symbolic_data[0])):\n",
    "    eq1 = (1-eigenvalues[d])*sb(f'k{d}')\n",
    "    eq2 = 0\n",
    "    coef_dict = dict()\n",
    "    coef_dict['const'] = 0\n",
    "    for i in range(len(symbolic_data[0])):\n",
    "        coef_dict[sb(f'k{i}')] = 0\n",
    "    for arg in w_prime_projected[d].args:\n",
    "        contain_k = False\n",
    "        for i in range(len(symbolic_data[0])):\n",
    "            symb_k = sb(f'k{i}')\n",
    "            if symb_k in arg.free_symbols:\n",
    "                coef_dict[symb_k] = coef_dict[symb_k] + abs(arg.args[0])\n",
    "                contain_k = True\n",
    "                break\n",
    "        if not(contain_k):\n",
    "            coef_dict['const'] = coef_dict['const'] + abs(arg.args[0])\n",
    "    eq2 = coef_dict['const']\n",
    "    for i in range(len(symbolic_data[0])):\n",
    "        eq2 = eq2 + sb(f'k{i}')*coef_dict[sb(f'k{i}')]\n",
    "    eqs.append(sympy.Eq(eq1, eq2))"
   ]
  },
  {
   "cell_type": "code",
   "execution_count": 278,
   "id": "469371c7",
   "metadata": {
    "ExecuteTime": {
     "end_time": "2024-04-04T08:20:44.426941Z",
     "start_time": "2024-04-04T08:20:43.347788Z"
    }
   },
   "outputs": [],
   "source": [
    "result = sympy.solve(eqs, [sb(f'k{i}') for i in range(len(symbolic_data[0]))])"
   ]
  },
  {
   "cell_type": "code",
   "execution_count": 279,
   "id": "80459a89",
   "metadata": {
    "ExecuteTime": {
     "end_time": "2024-04-04T08:20:44.667873Z",
     "start_time": "2024-04-04T08:20:44.569420Z"
    }
   },
   "outputs": [],
   "source": [
    "param = wR+wS.subs(result)"
   ]
  },
  {
   "cell_type": "code",
   "execution_count": 280,
   "id": "c2e8b2d4",
   "metadata": {
    "ExecuteTime": {
     "end_time": "2024-04-04T08:20:53.354559Z",
     "start_time": "2024-04-04T08:20:45.632367Z"
    }
   },
   "outputs": [
    {
     "data": {
      "image/png": "[encoded data removed]",
      "text/plain": [
       "<Figure size 720x216 with 3 Axes>"
      ]
     },
     "metadata": {
      "needs_background": "light"
     },
     "output_type": "display_data"
    }
   ],
   "source": [
    "fig = plt.figure(figsize=(10, 3))\n",
    "plt.subplot(131)\n",
    "plot_conretiztion([param[0], param[1]], 0.5, budget=10)\n",
    "plt.scatter([sp[0] for sp in sample_params_np], [sp[1] for sp in sample_params_np], s=0.75)\n",
    "plt.xlabel('$X_0$', fontsize=16)\n",
    "plt.ylabel('$X_1$', fontsize=16)\n",
    "# plt.axis('equal')\n",
    "\n",
    "plt.subplot(132)\n",
    "plot_conretiztion([param[1], param[2]], budget=10)\n",
    "plt.scatter([sp[1] for sp in sample_params_np], [sp[2] for sp in sample_params_np], s=0.75)\n",
    "plt.xlabel('$X_1$', fontsize=16)\n",
    "plt.ylabel('$X_2$', fontsize=16)\n",
    "# plt.axis('equal')\n",
    "\n",
    "plt.subplot(133)\n",
    "plot_conretiztion([param[0], param[2]], budget=10)\n",
    "plt.scatter([sp[0] for sp in sample_params_np], [sp[2] for sp in sample_params_np], s=0.75)\n",
    "plt.xlabel('$X_0$', fontsize=16)\n",
    "plt.ylabel('$X_2$', fontsize=16)\n",
    "# plt.axis('equal')\n",
    "fig.suptitle('Pair-wise Concretization', fontsize=16)\n",
    "plt.tight_layout()"
   ]
  },
  {
   "cell_type": "markdown",
   "id": "8dc7e2a1",
   "metadata": {},
   "source": [
    "Feature correlation changes for non-random missing value (compared to random)!"
   ]
  },
  {
   "cell_type": "code",
   "execution_count": null,
   "id": "66d4fd84",
   "metadata": {},
   "outputs": [],
   "source": []
  },
  {
   "cell_type": "code",
   "execution_count": null,
   "id": "f49a22af",
   "metadata": {},
   "outputs": [],
   "source": []
  },
  {
   "cell_type": "code",
   "execution_count": 281,
   "id": "3377ce2d",
   "metadata": {
    "ExecuteTime": {
     "end_time": "2024-04-04T08:23:23.067883Z",
     "start_time": "2024-04-04T08:21:43.592104Z"
    }
   },
   "outputs": [
    {
     "data": {
      "application/vnd.jupyter.widget-view+json": {
       "model_id": "f4f11d20415a4426a5384afa81a42a4b",
       "version_major": 2,
       "version_minor": 0
      },
      "text/plain": [
       "  0%|          | 0/10000 [00:00<?, ?it/s]"
      ]
     },
     "metadata": {},
     "output_type": "display_data"
    }
   ],
   "source": [
    "# containment of sample params\n",
    "def lp_zonotope_point_containment(point_param, zonotope_param):\n",
    "    all_symbols = zonotope_param.free_symbols\n",
    "    num_symbols = len(all_symbols)\n",
    "\n",
    "    zero_subs = dict([(symb, 0) for symb in all_symbols])\n",
    "    constant_part = np.array(zonotope_param.evalf(subs=zero_subs)).astype(float)\n",
    "\n",
    "    bounds = [[-1, 1] for _ in range(num_symbols)]\n",
    "    c = np.zeros((num_symbols, 1))\n",
    "\n",
    "    Aeq = np.zeros((len(point_param), num_symbols))\n",
    "    for dim in range(len(point_param)):\n",
    "        param_dim = zonotope_param[dim]\n",
    "        for symb_idx, symb in enumerate(all_symbols):\n",
    "            Aeq[dim, symb_idx] = param_dim.coeff(symb)\n",
    "    beq = point_param.reshape(-1, 1) - constant_part\n",
    "    res = linprog(c=c, A_eq=Aeq, b_eq=beq, bounds=bounds)\n",
    "    return res\n",
    "\n",
    "for sp in tqdm(sample_params_np):\n",
    "    assert lp_zonotope_point_containment(sp, param)"
   ]
  },
  {
   "cell_type": "code",
   "execution_count": null,
   "id": "d6e8ba72",
   "metadata": {},
   "outputs": [],
   "source": []
  },
  {
   "cell_type": "code",
   "execution_count": null,
   "id": "d4a06889",
   "metadata": {},
   "outputs": [],
   "source": []
  },
  {
   "cell_type": "code",
   "execution_count": null,
   "id": "fe5aa0d5",
   "metadata": {},
   "outputs": [],
   "source": []
  },
  {
   "cell_type": "code",
   "execution_count": null,
   "id": "3c917594",
   "metadata": {},
   "outputs": [],
   "source": []
  },
  {
   "cell_type": "code",
   "execution_count": null,
   "id": "9e73b53c",
   "metadata": {},
   "outputs": [],
   "source": []
  },
  {
   "cell_type": "code",
   "execution_count": 114,
   "id": "ec93add7",
   "metadata": {
    "ExecuteTime": {
     "end_time": "2024-04-03T02:38:30.429329Z",
     "start_time": "2024-04-03T02:38:30.397131Z"
    },
    "code_folding": [
     2,
     15,
     50,
     83
    ]
   },
   "outputs": [],
   "source": [
    "# take a list of expressions as input, output the ordered list of monomials,\n",
    "# the first ones refer to ones with overall larger coefficients.\n",
    "def heuristic_based_choice_merge_small(expr_ls):\n",
    "    monomials = get_generators(expr_ls)\n",
    "    monomial_heuristic_vals = dict()\n",
    "    for monomial, monomial_coefs in monomials.items():\n",
    "        monomial_norm = np.linalg.norm(monomial_coefs)\n",
    "        monomial_heuristic_vals[monomial] = monomial_norm\n",
    "    monomials_ordered = sorted(list(monomial_heuristic_vals.items()), reverse=True, key=lambda x: x[1])\n",
    "    return monomials_ordered\n",
    "\n",
    "\n",
    "# prune components with small coefs\n",
    "# the components with coef less than pruning_ratio * maximum_coef will be merged together\n",
    "# budget is the maximum number of terms that can be kept in each dimension\n",
    "def merge_small_components(expr_ls, pruning_ratio=1e3, budget=10, strategy='budget'):\n",
    "    symb_ordered = heuristic_based_choice_merge_small(expr_ls)\n",
    "    if strategy != 'budget':\n",
    "        raise NotImplementedError\n",
    "    symb_keep = set([p[0] for p in symb_ordered[:budget]])\n",
    "    symb_merge = set([p[0] for p in symb_ordered[budget:]])\n",
    "    processed_expr_ls = []\n",
    "    for expr_id, expr in enumerate(expr_ls):\n",
    "        if not(isinstance(expr, sympy.Expr)) or not(expr.free_symbols):\n",
    "            processed_expr_ls.append(expr)\n",
    "            continue\n",
    "        expr = expr.expand()\n",
    "        processed_expr = 0\n",
    "        merged_coef = 0\n",
    "        for arg in expr.args:\n",
    "            if arg.free_symbols:\n",
    "                pair = arg.args\n",
    "                # if pair is empty, then coef = 1\n",
    "                if pair:\n",
    "                    coef, err_symbol = pair[0], pair[1]\n",
    "                else:\n",
    "                    coef, err_symbol = 1, arg\n",
    "                if err_symbol in symb_keep:\n",
    "                    processed_expr += arg\n",
    "                else:\n",
    "                    merged_coef += abs(coef)\n",
    "            else:\n",
    "                processed_expr += arg\n",
    "    \n",
    "        processed_expr += merged_coef * create_symbol()\n",
    "        processed_expr_ls.append(processed_expr)\n",
    "        \n",
    "    return processed_expr_ls\n",
    "\n",
    "\n",
    "def merge_small_components_pca(expr_ls, budget=10):\n",
    "    if not(isinstance(expr_ls, sympy.Expr)):\n",
    "        expr_ls = sympy.Matrix(expr_ls)\n",
    "    if expr_ls.free_symbols:\n",
    "        center = expr_ls.subs(dict([(symb, 0) for symb in expr_ls.free_symbols]))\n",
    "    else:\n",
    "        return expr_ls\n",
    "    monomials_dict = get_generators(expr_ls)\n",
    "    generators = np.array([monomials_dict[m] for m in monomials_dict])\n",
    "    if len(generators) <= budget:\n",
    "        return expr_ls\n",
    "    monomials = [m for m in monomials_dict]\n",
    "    pca = PCA(n_components=len(generators[0]))\n",
    "    pca.fit(np.concatenate([generators, -generators]))\n",
    "    transformed_generators = pca.transform(generators)\n",
    "    transformed_generator_norms = np.linalg.norm(transformed_generators, axis=1, ord=2)\n",
    "    # from largest to lowest norm\n",
    "    sorted_indices = transformed_generator_norms.argsort()[::-1].astype(int)\n",
    "    sorted_transformed_generators = transformed_generators[sorted_indices]\n",
    "    sorted_monomials = [monomials[idx] for idx in sorted_indices]\n",
    "    new_transformed_generators = np.concatenate([sorted_transformed_generators[:budget], \n",
    "                                                 np.diag(np.sum(np.abs(sorted_transformed_generators[budget:]), \n",
    "                                                                axis=0))])\n",
    "    new_generators = pca.inverse_transform(new_transformed_generators)\n",
    "    new_monomials = sorted_monomials[:budget] + [create_symbol() for _ in range(len(generators[0]))]\n",
    "    \n",
    "    processed_expr_ls = center\n",
    "    for monomial_id in range(len(new_monomials)):\n",
    "        processed_expr_ls += sympy.Matrix(new_generators[monomial_id])*new_monomials[monomial_id]\n",
    "    \n",
    "    return processed_expr_ls\n",
    "\n",
    "\n",
    "def plot_conretiztion_labeled(affset, alpha=1, color='red', budget=-1, label=''):\n",
    "    if budget > -1:\n",
    "        affset = merge_small_components_pca(affset, budget=budget)\n",
    "    pts = np.array(list(map(list, get_vertices(affset))))\n",
    "    hull = ConvexHull(pts)\n",
    "    plt.fill(pts[hull.vertices,0], pts[hull.vertices,1], color, label=label, alpha=alpha)"
   ]
  }
 ],
 "metadata": {
  "kernelspec": {
   "display_name": "Python 3",
   "language": "python",
   "name": "python3"
  },
  "language_info": {
   "codemirror_mode": {
    "name": "ipython",
    "version": 3
   },
   "file_extension": ".py",
   "mimetype": "text/x-python",
   "name": "python",
   "nbconvert_exporter": "python",
   "pygments_lexer": "ipython3",
   "version": "3.9.6"
  },
  "latex_envs": {
   "LaTeX_envs_menu_present": true,
   "autoclose": true,
   "autocomplete": true,
   "bibliofile": "biblio.bib",
   "cite_by": "apalike",
   "current_citInitial": 1,
   "eqLabelWithNumbers": true,
   "eqNumInitial": 1,
   "hotkeys": {
    "equation": "Ctrl-E",
    "itemize": "Ctrl-I"
   },
   "labels_anchors": false,
   "latex_user_defs": false,
   "report_style_numbering": false,
   "user_envs_cfg": false
  }
 },
 "nbformat": 4,
 "nbformat_minor": 5
}
