{
 "cells": [
  {
   "cell_type": "code",
   "execution_count": null,
   "id": "cdc19c8a",
   "metadata": {},
   "outputs": [],
   "source": []
  },
  {
   "cell_type": "code",
   "execution_count": 1,
   "id": "c8907e0a",
   "metadata": {
    "ExecuteTime": {
     "end_time": "2024-05-10T20:12:46.210800Z",
     "start_time": "2024-05-10T20:12:43.874561Z"
    }
   },
   "outputs": [],
   "source": [
    "import os\n",
    "import copy\n",
    "import pickle\n",
    "import sympy\n",
    "import functools\n",
    "import itertools\n",
    "\n",
    "import numpy as np\n",
    "import pandas as pd\n",
    "import matplotlib.pyplot as plt\n",
    "\n",
    "from error_injection import MissingValueError, SamplingError, Injector\n",
    "from sklearn.decomposition import PCA\n",
    "from sklearn.model_selection import train_test_split\n",
    "from sklearn.preprocessing import StandardScaler\n",
    "from sklearn.experimental import enable_iterative_imputer\n",
    "from sklearn.impute import SimpleImputer, KNNImputer, IterativeImputer\n",
    "from sklearn.metrics import mutual_info_score, auc, roc_curve, roc_auc_score, f1_score\n",
    "from scipy.optimize import minimize as scipy_min\n",
    "from scipy.spatial import ConvexHull\n",
    "from scipy.optimize import minimize, Bounds, linprog\n",
    "from sympy import Symbol as sb\n",
    "from sympy import lambdify\n",
    "from tqdm.notebook import trange,tqdm\n",
    "from IPython.display import display,clear_output\n",
    "from random import choice\n",
    "\n",
    "class style():\n",
    "    RED = '\\033[31m'\n",
    "    GREEN = '\\033[32m'\n",
    "    BLUE = '\\033[34m'\n",
    "    RESET = '\\033[0m'\n",
    "\n",
    "np.random.seed(1)"
   ]
  },
  {
   "cell_type": "code",
   "execution_count": 2,
   "id": "b82891b4",
   "metadata": {
    "ExecuteTime": {
     "end_time": "2024-05-10T20:12:46.215935Z",
     "start_time": "2024-05-10T20:12:46.212995Z"
    }
   },
   "outputs": [],
   "source": [
    "# ignore all the warnings\n",
    "import warnings\n",
    "warnings.filterwarnings('ignore')"
   ]
  },
  {
   "cell_type": "code",
   "execution_count": 26,
   "id": "31686563",
   "metadata": {
    "ExecuteTime": {
     "end_time": "2024-05-10T20:23:27.365911Z",
     "start_time": "2024-05-10T20:23:27.348184Z"
    },
    "code_folding": []
   },
   "outputs": [],
   "source": [
    "def load_mpg():\n",
    "    # fetch dataset\n",
    "    auto_mpg = pd.read_csv('auto-mpg.csv').drop('car name', axis=1).replace('?', np.nan)\n",
    "    \n",
    "    features = ['cylinders', 'displacement', 'horsepower', 'weight',\n",
    "                'acceleration', 'model year', 'origin']\n",
    "    X = auto_mpg[features].astype(float)\n",
    "    y = auto_mpg['mpg']\n",
    "    \n",
    "    # with this random seed, no null value is included in the test data\n",
    "    X_train, X_test, y_train, y_test = train_test_split(X, y, test_size=0.2, random_state=1)\n",
    "    X_train = copy.deepcopy(X_train).reset_index(drop=True)\n",
    "    X_test = copy.deepcopy(X_test).reset_index(drop=True)\n",
    "    y_train = y_train.reset_index(drop=True)\n",
    "    y_test = y_test.reset_index(drop=True)\n",
    "\n",
    "    return X_train, X_test, y_train, y_test\n",
    "\n",
    "\n",
    "# first impute the data and make it hypothetically clean\n",
    "def load_mpg_cleaned():\n",
    "    # fetch dataset\n",
    "    auto_mpg = pd.read_csv('auto-mpg.csv').drop('car name', axis=1).replace('?', np.nan)\n",
    "    \n",
    "    features = ['cylinders', 'displacement', 'horsepower', 'weight',\n",
    "                'acceleration', 'model year', 'origin']\n",
    "    X = auto_mpg[features].astype(float)\n",
    "    y = auto_mpg['mpg']\n",
    "    \n",
    "    # assumed gt imputation\n",
    "    imputer = KNNImputer(n_neighbors=10)\n",
    "    X = pd.DataFrame(imputer.fit_transform(X), columns=X.columns)\n",
    "\n",
    "    X_train, X_test, y_train, y_test = train_test_split(X, y, test_size=0.2, random_state=1)\n",
    "    X_train = copy.deepcopy(X_train).reset_index(drop=True)\n",
    "    X_test = copy.deepcopy(X_test).reset_index(drop=True)\n",
    "    y_train = y_train.reset_index(drop=True)\n",
    "    y_test = y_test.reset_index(drop=True)\n",
    "\n",
    "    return X_train, X_test, y_train, y_test"
   ]
  },
  {
   "cell_type": "code",
   "execution_count": 27,
   "id": "bad8cd33",
   "metadata": {
    "ExecuteTime": {
     "end_time": "2024-05-10T20:23:27.803991Z",
     "start_time": "2024-05-10T20:23:27.778300Z"
    }
   },
   "outputs": [],
   "source": [
    "X_train, X_test, y_train, y_test = load_mpg_cleaned()"
   ]
  },
  {
   "cell_type": "code",
   "execution_count": 28,
   "id": "ede44aa4",
   "metadata": {
    "ExecuteTime": {
     "end_time": "2024-05-10T20:23:32.394030Z",
     "start_time": "2024-05-10T20:23:32.363300Z"
    }
   },
   "outputs": [
    {
     "data": {
      "text/html": [
       "<div>\n",
       "<style scoped>\n",
       "    .dataframe tbody tr th:only-of-type {\n",
       "        vertical-align: middle;\n",
       "    }\n",
       "\n",
       "    .dataframe tbody tr th {\n",
       "        vertical-align: top;\n",
       "    }\n",
       "\n",
       "    .dataframe thead th {\n",
       "        text-align: right;\n",
       "    }\n",
       "</style>\n",
       "<table border=\"1\" class=\"dataframe\">\n",
       "  <thead>\n",
       "    <tr style=\"text-align: right;\">\n",
       "      <th></th>\n",
       "      <th>cylinders</th>\n",
       "      <th>displacement</th>\n",
       "      <th>horsepower</th>\n",
       "      <th>weight</th>\n",
       "      <th>acceleration</th>\n",
       "      <th>model year</th>\n",
       "      <th>origin</th>\n",
       "    </tr>\n",
       "  </thead>\n",
       "  <tbody>\n",
       "    <tr>\n",
       "      <th>0</th>\n",
       "      <td>8.0</td>\n",
       "      <td>350.0</td>\n",
       "      <td>125.0</td>\n",
       "      <td>3900.0</td>\n",
       "      <td>17.4</td>\n",
       "      <td>79.0</td>\n",
       "      <td>1.0</td>\n",
       "    </tr>\n",
       "    <tr>\n",
       "      <th>1</th>\n",
       "      <td>8.0</td>\n",
       "      <td>455.0</td>\n",
       "      <td>225.0</td>\n",
       "      <td>3086.0</td>\n",
       "      <td>10.0</td>\n",
       "      <td>70.0</td>\n",
       "      <td>1.0</td>\n",
       "    </tr>\n",
       "    <tr>\n",
       "      <th>2</th>\n",
       "      <td>4.0</td>\n",
       "      <td>91.0</td>\n",
       "      <td>68.0</td>\n",
       "      <td>2025.0</td>\n",
       "      <td>18.2</td>\n",
       "      <td>82.0</td>\n",
       "      <td>3.0</td>\n",
       "    </tr>\n",
       "    <tr>\n",
       "      <th>3</th>\n",
       "      <td>4.0</td>\n",
       "      <td>122.0</td>\n",
       "      <td>86.0</td>\n",
       "      <td>2226.0</td>\n",
       "      <td>16.5</td>\n",
       "      <td>72.0</td>\n",
       "      <td>1.0</td>\n",
       "    </tr>\n",
       "    <tr>\n",
       "      <th>4</th>\n",
       "      <td>4.0</td>\n",
       "      <td>97.0</td>\n",
       "      <td>67.0</td>\n",
       "      <td>2065.0</td>\n",
       "      <td>17.8</td>\n",
       "      <td>81.0</td>\n",
       "      <td>3.0</td>\n",
       "    </tr>\n",
       "    <tr>\n",
       "      <th>...</th>\n",
       "      <td>...</td>\n",
       "      <td>...</td>\n",
       "      <td>...</td>\n",
       "      <td>...</td>\n",
       "      <td>...</td>\n",
       "      <td>...</td>\n",
       "      <td>...</td>\n",
       "    </tr>\n",
       "    <tr>\n",
       "      <th>313</th>\n",
       "      <td>4.0</td>\n",
       "      <td>140.0</td>\n",
       "      <td>86.0</td>\n",
       "      <td>2790.0</td>\n",
       "      <td>15.6</td>\n",
       "      <td>82.0</td>\n",
       "      <td>1.0</td>\n",
       "    </tr>\n",
       "    <tr>\n",
       "      <th>314</th>\n",
       "      <td>4.0</td>\n",
       "      <td>140.0</td>\n",
       "      <td>88.0</td>\n",
       "      <td>2720.0</td>\n",
       "      <td>15.4</td>\n",
       "      <td>78.0</td>\n",
       "      <td>1.0</td>\n",
       "    </tr>\n",
       "    <tr>\n",
       "      <th>315</th>\n",
       "      <td>8.0</td>\n",
       "      <td>304.0</td>\n",
       "      <td>150.0</td>\n",
       "      <td>3892.0</td>\n",
       "      <td>12.5</td>\n",
       "      <td>72.0</td>\n",
       "      <td>1.0</td>\n",
       "    </tr>\n",
       "    <tr>\n",
       "      <th>316</th>\n",
       "      <td>4.0</td>\n",
       "      <td>97.0</td>\n",
       "      <td>75.0</td>\n",
       "      <td>2265.0</td>\n",
       "      <td>18.2</td>\n",
       "      <td>77.0</td>\n",
       "      <td>3.0</td>\n",
       "    </tr>\n",
       "    <tr>\n",
       "      <th>317</th>\n",
       "      <td>6.0</td>\n",
       "      <td>232.0</td>\n",
       "      <td>100.0</td>\n",
       "      <td>3288.0</td>\n",
       "      <td>15.5</td>\n",
       "      <td>71.0</td>\n",
       "      <td>1.0</td>\n",
       "    </tr>\n",
       "  </tbody>\n",
       "</table>\n",
       "<p>318 rows × 7 columns</p>\n",
       "</div>"
      ],
      "text/plain": [
       "     cylinders  displacement  horsepower  weight  acceleration  model year  \\\n",
       "0          8.0         350.0       125.0  3900.0          17.4        79.0   \n",
       "1          8.0         455.0       225.0  3086.0          10.0        70.0   \n",
       "2          4.0          91.0        68.0  2025.0          18.2        82.0   \n",
       "3          4.0         122.0        86.0  2226.0          16.5        72.0   \n",
       "4          4.0          97.0        67.0  2065.0          17.8        81.0   \n",
       "..         ...           ...         ...     ...           ...         ...   \n",
       "313        4.0         140.0        86.0  2790.0          15.6        82.0   \n",
       "314        4.0         140.0        88.0  2720.0          15.4        78.0   \n",
       "315        8.0         304.0       150.0  3892.0          12.5        72.0   \n",
       "316        4.0          97.0        75.0  2265.0          18.2        77.0   \n",
       "317        6.0         232.0       100.0  3288.0          15.5        71.0   \n",
       "\n",
       "     origin  \n",
       "0       1.0  \n",
       "1       1.0  \n",
       "2       3.0  \n",
       "3       1.0  \n",
       "4       3.0  \n",
       "..      ...  \n",
       "313     1.0  \n",
       "314     1.0  \n",
       "315     1.0  \n",
       "316     3.0  \n",
       "317     1.0  \n",
       "\n",
       "[318 rows x 7 columns]"
      ]
     },
     "execution_count": 28,
     "metadata": {},
     "output_type": "execute_result"
    }
   ],
   "source": [
    "X_train"
   ]
  },
  {
   "cell_type": "code",
   "execution_count": null,
   "id": "e3587728",
   "metadata": {
    "ExecuteTime": {
     "end_time": "2024-05-08T21:50:31.706218Z",
     "start_time": "2024-05-08T21:50:31.581473Z"
    }
   },
   "outputs": [],
   "source": []
  },
  {
   "cell_type": "code",
   "execution_count": 29,
   "id": "582a979f",
   "metadata": {
    "ExecuteTime": {
     "end_time": "2024-05-10T20:23:38.374392Z",
     "start_time": "2024-05-10T20:23:38.314234Z"
    },
    "code_folding": [
     3,
     27,
     71,
     104,
     125,
     150
    ]
   },
   "outputs": [],
   "source": [
    "# useful functions\n",
    "\n",
    "symbol_id = -1\n",
    "def create_symbol(suffix=''):\n",
    "    global symbol_id\n",
    "    symbol_id += 1\n",
    "    name = f'e{symbol_id}_{suffix}' if suffix else f'e{symbol_id}'\n",
    "    return sympy.Symbol(name=name)\n",
    "\n",
    "\n",
    "scaler_symbols = set([sb(f'k{i}') for i in range(X_train.shape[1]+1)])\n",
    "linearization_dict = dict()\n",
    "reverse_linearization_dict = dict()\n",
    "\n",
    "\n",
    "def sample_data(imputed_datasets, uncert_inds=[], seed=42):\n",
    "    imp_np = np.array(imputed_datasets)\n",
    "    if len(uncert_inds) == 0:\n",
    "        uncert_inds = list(itertools.product(range(imp_np.shape[1]),range(imp_np.shape[2])))\n",
    "    np.random.seed(seed)\n",
    "    choices = np.random.choice(np.arange(imp_np.shape[0]), len(uncert_inds), replace=True)\n",
    "    sample_result = imputed_datasets[0].copy()\n",
    "    for i, ind in enumerate(uncert_inds):\n",
    "        sample_result[ind[0]][ind[1]] = imputed_datasets[choices[i]][ind[0]][ind[1]]\n",
    "    return sample_result\n",
    "\n",
    "\n",
    "def linearization(expr_ls):\n",
    "    processed_expr_ls = [0 for _ in range(len(expr_ls))]\n",
    "    for expr_id, expr in enumerate(expr_ls):\n",
    "        # Do not support monomial expr currently, e.g., expr = 1.5*e1. \n",
    "        # At lease two monomials in expr, e.g., expr = 1.5*e1 + 2.\n",
    "        if not(expr.free_symbols):\n",
    "            processed_expr_ls[expr_id] += expr\n",
    "            continue\n",
    "        expr = expr.expand()\n",
    "        for arg in expr.args:\n",
    "            if not(arg.free_symbols):\n",
    "                processed_expr_ls[expr_id] += arg\n",
    "                continue\n",
    "            p = arg.as_poly()\n",
    "            monomial_exponents = p.monoms()[0]\n",
    "            \n",
    "            # only deal with non-linear monomials (order > 2)\n",
    "            if sum(monomial_exponents) <= 1:\n",
    "                processed_expr_ls[expr_id] += arg\n",
    "                continue\n",
    "\n",
    "            monomial = sympy.prod(x**k for x, k in zip(p.gens, monomial_exponents) \n",
    "                                  if not(x in scaler_symbols))\n",
    "            # check global substitution dictionary\n",
    "            if monomial in linearization_dict:\n",
    "                processed_expr_ls[expr_id] += arg.coeff(monomial)*linearization_dict[monomial]\n",
    "            else:\n",
    "                found = False\n",
    "                subs_monomial = create_symbol()\n",
    "                for symb in monomial.free_symbols:\n",
    "                    if symb in reverse_linearization_dict:\n",
    "                        equivalent_monomial = monomial.subs(symb, reverse_linearization_dict[symb])\n",
    "                        if equivalent_monomial in linearization_dict:\n",
    "                            subs_monomial = linearization_dict[equivalent_monomial]\n",
    "                            found = True\n",
    "                            break\n",
    "                linearization_dict[monomial] = subs_monomial\n",
    "                if not(found):\n",
    "                    reverse_linearization_dict[subs_monomial] = monomial\n",
    "                processed_expr_ls[expr_id] += arg.coeff(monomial)*subs_monomial\n",
    "                \n",
    "    return processed_expr_ls\n",
    "\n",
    "\n",
    "def merge_small_components_pca(expr_ls, budget=10):\n",
    "    if not(isinstance(expr_ls, sympy.Expr)):\n",
    "        expr_ls = sympy.Matrix(expr_ls)\n",
    "    if expr_ls.free_symbols:\n",
    "        center = expr_ls.subs(dict([(symb, 0) for symb in expr_ls.free_symbols]))\n",
    "    else:\n",
    "        return expr_ls\n",
    "    monomials_dict = get_generators(expr_ls)\n",
    "    generators = np.array([monomials_dict[m] for m in monomials_dict])\n",
    "    if len(generators) <= budget:\n",
    "        return expr_ls\n",
    "    monomials = [m for m in monomials_dict]\n",
    "    pca = PCA(n_components=len(generators[0]))\n",
    "    pca.fit(np.concatenate([generators, -generators]))\n",
    "    transformed_generators = pca.transform(generators)\n",
    "    transformed_generator_norms = np.linalg.norm(transformed_generators, axis=1, ord=2)\n",
    "    # from largest to lowest norm\n",
    "    sorted_indices = transformed_generator_norms.argsort()[::-1].astype(int)\n",
    "    sorted_transformed_generators = transformed_generators[sorted_indices]\n",
    "    sorted_monomials = [monomials[idx] for idx in sorted_indices]\n",
    "    new_transformed_generators = np.concatenate([sorted_transformed_generators[:budget], \n",
    "                                                 np.diag(np.sum(np.abs(sorted_transformed_generators[budget:]), \n",
    "                                                                axis=0))])\n",
    "    new_generators = pca.inverse_transform(new_transformed_generators)\n",
    "    new_monomials = sorted_monomials[:budget] + [create_symbol() for _ in range(len(generators[0]))]\n",
    "    \n",
    "    processed_expr_ls = center\n",
    "    for monomial_id in range(len(new_monomials)):\n",
    "        processed_expr_ls += sympy.Matrix(new_generators[monomial_id])*new_monomials[monomial_id]\n",
    "    \n",
    "    return processed_expr_ls\n",
    "\n",
    "\n",
    "def get_vertices(affset):\n",
    "    l = len(affset)\n",
    "    distinct_symbols = set()\n",
    "    for expr in affset:\n",
    "        if not(isinstance(expr, sympy.Expr)):\n",
    "            assert isinstance(expr, int) or isinstance(expr, float)\n",
    "        else:\n",
    "            if distinct_symbols:\n",
    "                distinct_symbols = distinct_symbols.union(expr.free_symbols)\n",
    "            else:\n",
    "                distinct_symbols = expr.free_symbols\n",
    "    distinct_symbols = list(distinct_symbols)\n",
    "    # print(distinct_symbols)\n",
    "    combs = [list(zip(distinct_symbols,list(l))) for l in list(itertools.product([-1, 1], repeat=len(distinct_symbols)))]\n",
    "    res = set()\n",
    "    for assignment in combs:\n",
    "        res.add(tuple([expr.subs(assignment) for expr in affset]))\n",
    "    return(res)\n",
    "\n",
    "\n",
    "# take a list of expressions as input, output the list of monomials and generator vectors,\n",
    "def get_generators(expr_ls):\n",
    "    monomials = dict()\n",
    "    for expr_id, expr in enumerate(expr_ls):\n",
    "        if not(isinstance(expr, sympy.Expr)) or not(expr.free_symbols):\n",
    "            continue\n",
    "        expr = expr.expand()\n",
    "        p = sympy.Poly(expr)\n",
    "        monomials_in_expr = [sympy.prod(x**k for x, k in zip(p.gens, mon)) \n",
    "                             for mon in p.monoms() if sum(mon) >= 1]\n",
    "        for monomial in monomials_in_expr:\n",
    "            coef = float(p.coeff_monomial(monomial))\n",
    "            if monomial in monomials:\n",
    "                if len(monomials[monomial]) < expr_id:\n",
    "                    monomials[monomial] = monomials[monomial] + [0 for _ in range(expr_id-len(monomials[monomial]))]\n",
    "                monomials[monomial].append(coef)\n",
    "            else:\n",
    "                monomials[monomial] = [0 for _ in range(expr_id)] + [coef]\n",
    "\n",
    "    for monomial in monomials:\n",
    "        if len(monomials[monomial]) < len(expr_ls):\n",
    "            monomials[monomial] = monomials[monomial] + [0 for _ in range(len(expr_ls)-len(monomials[monomial]))]\n",
    "    \n",
    "    return monomials\n",
    "\n",
    "\n",
    "def plot_conretiztion(affset, alpha = 0.5, color='red', budget=-1):\n",
    "    if budget > -1:\n",
    "        affset = merge_small_components_pca(affset, budget=budget)\n",
    "    pts = np.array(list(map(list, get_vertices(affset))))\n",
    "    hull = ConvexHull(pts)\n",
    "    plt.fill(pts[hull.vertices,0], pts[hull.vertices,1],color,alpha=alpha)"
   ]
  },
  {
   "cell_type": "code",
   "execution_count": 33,
   "id": "0d64b782",
   "metadata": {
    "ExecuteTime": {
     "end_time": "2024-05-10T20:23:43.854357Z",
     "start_time": "2024-05-10T20:23:43.834979Z"
    },
    "code_folding": [
     0,
     33
    ]
   },
   "outputs": [],
   "source": [
    "def inject_ranges(X, y, uncertain_attr, uncertain_num, uncertain_radius_pct=None, \n",
    "                  uncertain_radius=None, seed=42):\n",
    "    global symbol_id\n",
    "    symbol_id = -1\n",
    "    \n",
    "    X_extended = np.append(np.ones((len(X), 1)), X, axis=1)\n",
    "    ss = StandardScaler()\n",
    "    X_extended[:, 1:] = ss.fit_transform(X_extended[:, 1:])\n",
    "    X_extended_symb = sympy.Matrix(X_extended)\n",
    "    \n",
    "    if not(uncertain_attr=='y'):\n",
    "        uncertain_attr_idx = X.columns.to_list().index(uncertain_attr) + 1\n",
    "        if not(uncertain_radius):\n",
    "            uncertain_radius = uncertain_radius_pct*(np.max(X_extended[:, uncertain_attr_idx])-\\\n",
    "                                                     np.min(X_extended[:, uncertain_attr_idx]))\n",
    "    else:\n",
    "        if not(uncertain_radius):\n",
    "            uncertain_radius = uncertain_radius_pct*(y_train.max()-y_train.min())[0]\n",
    "    \n",
    "    np.random.seed(seed)\n",
    "    uncertain_indices = np.random.choice(range(len(y)), uncertain_num, replace=False)\n",
    "    y_symb = sympy.Matrix(y)\n",
    "    symbols_in_data = set()\n",
    "    for uncertain_idx in uncertain_indices:\n",
    "        new_symb = create_symbol()\n",
    "        symbols_in_data.add(new_symb)\n",
    "        if uncertain_attr=='y':\n",
    "            y_symb[uncertain_idx] = y_symb[uncertain_idx] + uncertain_radius*new_symb\n",
    "        else:\n",
    "            X_extended_symb[uncertain_idx, uncertain_attr_idx] = X_extended_symb[uncertain_idx, uncertain_attr_idx] + uncertain_radius*new_symb\n",
    "    return X_extended_symb, y_symb, symbols_in_data, ss\n",
    "\n",
    "\n",
    "def sample_data_from_ranges(X, y, seed=42):\n",
    "    all_free_symbols = X.free_symbols.union(y.free_symbols)\n",
    "    subs_dict = dict()\n",
    "    np.random.seed(seed)\n",
    "    for symb in all_free_symbols:\n",
    "        subs_dict[symb] = (np.random.uniform()-.5)*2\n",
    "    return X.subs(subs_dict), y.subs(subs_dict)"
   ]
  },
  {
   "cell_type": "markdown",
   "id": "52d7c4a9",
   "metadata": {},
   "source": [
    "## Verification"
   ]
  },
  {
   "cell_type": "code",
   "execution_count": 400,
   "id": "6e0e0fc2",
   "metadata": {
    "ExecuteTime": {
     "end_time": "2024-05-21T00:51:00.024712Z",
     "start_time": "2024-05-21T00:50:59.976500Z"
    },
    "code_folding": [
     0,
     108
    ]
   },
   "outputs": [],
   "source": [
    "def compute_robustness_ratio(X_train, y_train, X_test, y_test, robustness_radius, uncertain_attr, \n",
    "                             uncertain_num, uncertain_radius=None, uncertain_radius_ratio=None, \n",
    "                             lr=0.1, seed=42):\n",
    "    X, y, symbols_in_data, ss = inject_ranges(X=X_train, y=y_train, uncertain_attr=uncertain_attr, \n",
    "                                              uncertain_num=uncertain_num, uncertain_radius=uncertain_radius, \n",
    "                                              uncertain_radius_pct=uncertain_radius_ratio, seed=seed)\n",
    "    \n",
    "    n = X.shape[0]\n",
    "    XS = copy.deepcopy(X)\n",
    "    XR = copy.deepcopy(X)\n",
    "    yS = copy.deepcopy(y)\n",
    "    yR = copy.deepcopy(y)\n",
    "\n",
    "    for row in range(X.shape[0]):\n",
    "        for col in range(X.shape[1]):\n",
    "            expr = X[row, col]\n",
    "            if isinstance(expr, sympy.Expr) and expr.free_symbols:\n",
    "                XR[row, col] = expr.subs(dict([(symb, 0) for symb in expr.free_symbols]))\n",
    "                XS[row, col] = expr - XR[row, col]\n",
    "            else:\n",
    "                XR[row, col] = expr\n",
    "                XS[row, col] = 0\n",
    "\n",
    "    for row in range(y.shape[0]):\n",
    "        expr = y[row]\n",
    "        if isinstance(expr, sympy.Expr) and expr.free_symbols:\n",
    "            yR[row] = expr.subs(dict([(symb, 0) for symb in expr.free_symbols]))\n",
    "            yS[row] = expr - yR[row]\n",
    "        else:\n",
    "            yR[row] = expr\n",
    "            yS[row] = 0\n",
    "\n",
    "    VT, sigma, V = np.linalg.svd(np.array((XR.T*XR).tolist()).astype(float))\n",
    "    V = sympy.Matrix(V)\n",
    "\n",
    "    wR = (XR.T*XR).inv()*XR.T*yR\n",
    "    wS_non_data = 0.0*V.row(0).T\n",
    "    for i in range(X.shape[1]):\n",
    "        wS_non_data = wS_non_data + sb(f'k{i}')*sb(f'ep{i}')*V.row(i).T\n",
    "\n",
    "    eigenvalues = 1 - sigma/n*2*lr\n",
    "    for eigenvalue in eigenvalues:\n",
    "        try:\n",
    "            assert abs(eigenvalue) <= 1\n",
    "            assert eigenvalue >= 0\n",
    "        except:\n",
    "            print(X)\n",
    "            raise ArithmeticError('Inappropriate lambda!')\n",
    "    \n",
    "    A = V.T*np.diag(eigenvalues)*V\n",
    "\n",
    "    wS_data = (np.identity(X.shape[1])-A).inv()*((XS.T*XR + XR.T*XS)*wR - XS.T*yR - XR.T*yS)*(-lr*2/n)\n",
    "\n",
    "    wS = wS_non_data + wS_data\n",
    "    w = wS + wR\n",
    "    w_prime = (-lr*2/n)*((XS.T*XR + XR.T*XS + XS.T*XS)*wS + XS.T*XS*wR - XS.T*yS).expand()\n",
    "    w_prime_projected = V*w_prime\n",
    "    \n",
    "    eqs = []\n",
    "    for d in range(X.shape[1]):\n",
    "        eq1 = (1-abs(eigenvalues[d]))*sb(f'k{d}')\n",
    "        eq2 = 0\n",
    "        coef_dict = dict()\n",
    "        coef_dict['const'] = 0\n",
    "        for i in range(X.shape[1]):\n",
    "            coef_dict[sb(f'k{i}')] = 0\n",
    "        for arg in w_prime_projected[d].args:\n",
    "            contain_k = False\n",
    "            for i in range(X.shape[1]):\n",
    "                symb_k = sb(f'k{i}')\n",
    "                if symb_k in arg.free_symbols:\n",
    "                    coef_dict[symb_k] = coef_dict[symb_k] + abs(arg.args[0])\n",
    "                    contain_k = True\n",
    "                    break\n",
    "            if not(contain_k):\n",
    "                coef_dict['const'] = coef_dict['const'] + abs(arg.args[0])\n",
    "        eq2 = coef_dict['const']\n",
    "        for i in range(X.shape[1]):\n",
    "            eq2 = eq2 + sb(f'k{i}')*coef_dict[sb(f'k{i}')]\n",
    "        eqs.append(sympy.Eq(eq1, eq2))\n",
    "        \n",
    "    result = sympy.solve(eqs, [sb(f'k{i}') for i in range(X.shape[1])])\n",
    "    for ki in result:\n",
    "        try:\n",
    "            assert result[ki] >= 0\n",
    "        except:\n",
    "            print(result)\n",
    "            print(eqs)\n",
    "            raise ArithmeticError('Negative k!')\n",
    "    param = wR + wS.subs(result)\n",
    "    \n",
    "    test_preds = sympy.Matrix(np.append(np.ones((len(X_test), 1)), ss.transform(X_test), axis=1))*param\n",
    "    robustness_ls = []\n",
    "    for pred in test_preds:\n",
    "        pred_range_radius = 0\n",
    "        for arg in pred.args:\n",
    "            if arg.free_symbols:\n",
    "                pred_range_radius += abs(arg.args[0])\n",
    "        if pred_range_radius <= robustness_radius:\n",
    "            robustness_ls.append(1)\n",
    "        else:\n",
    "            robustness_ls.append(0)\n",
    "    \n",
    "#     print(param)\n",
    "    return np.mean(robustness_ls)\n",
    "\n",
    "\n",
    "# if interval=True, use interval arithmetic, otherwise use zonotopes\n",
    "def compute_robustness_ratio_label_error(X_train, y_train, X_test, y_test, robustness_radius,\n",
    "                                         uncertain_num, uncertain_radius=None, \n",
    "                                         lr=0.1, seed=42, interval=True):\n",
    "    X, y, symbols_in_data, ss = inject_ranges(X=X_train, y=y_train, uncertain_attr='y', \n",
    "                                              uncertain_num=uncertain_num, uncertain_radius=uncertain_radius, \n",
    "                                              uncertain_radius_pct=None, seed=seed)\n",
    "    \n",
    "    assert len(X.free_symbols)==0\n",
    "    # closed-form\n",
    "    param = (X.T*X).inv()*X.T*y\n",
    "    \n",
    "    if interval:\n",
    "        # make param intervals\n",
    "        for d in range(len(param)):\n",
    "            expr = param[d]\n",
    "            if not(expr.free_symbols):\n",
    "                continue\n",
    "            else:\n",
    "                constant_part = 0\n",
    "                interval_radius = 0\n",
    "                for arg in expr.args:\n",
    "                    if arg.free_symbols:\n",
    "                        interval_radius += abs(arg.args[0])\n",
    "                    else:\n",
    "                        assert constant_part == 0\n",
    "                        constant_part = arg\n",
    "                param[d] = constant_part + create_symbol()*interval_radius\n",
    "    \n",
    "    test_preds = sympy.Matrix(np.append(np.ones((len(X_test), 1)), ss.transform(X_test), axis=1))*param\n",
    "    robustness_ls = []\n",
    "    for pred in test_preds:\n",
    "        pred_range_radius = 0\n",
    "        for arg in pred.args:\n",
    "            if arg.free_symbols:\n",
    "                pred_range_radius += abs(arg.args[0])\n",
    "        if pred_range_radius <= robustness_radius:\n",
    "            robustness_ls.append(1)\n",
    "        else:\n",
    "            robustness_ls.append(0)\n",
    "    \n",
    "#     print(param)\n",
    "    return np.mean(robustness_ls)\n",
    "    "
   ]
  },
  {
   "cell_type": "code",
   "execution_count": null,
   "id": "51abf3de",
   "metadata": {
    "ExecuteTime": {
     "end_time": "2024-05-08T23:49:10.820858Z",
     "start_time": "2024-05-08T23:49:10.812609Z"
    }
   },
   "outputs": [],
   "source": []
  },
  {
   "cell_type": "markdown",
   "id": "52320828",
   "metadata": {},
   "source": [
    "### Uncertain Labels"
   ]
  },
  {
   "cell_type": "markdown",
   "id": "2353ec4a",
   "metadata": {},
   "source": [
    "**Zonotope + Label Error**"
   ]
  },
  {
   "cell_type": "code",
   "execution_count": 580,
   "id": "50958ee3",
   "metadata": {
    "ExecuteTime": {
     "end_time": "2024-05-22T07:08:58.738615Z",
     "start_time": "2024-05-22T07:00:14.593819Z"
    },
    "scrolled": true
   },
   "outputs": [
    {
     "data": {
      "application/vnd.jupyter.widget-view+json": {
       "model_id": "",
       "version_major": 2,
       "version_minor": 0
      },
      "text/plain": [
       "Progess:   0%|          | 0/10 [00:00<?, ?it/s]"
      ]
     },
     "metadata": {},
     "output_type": "display_data"
    },
    {
     "data": {
      "application/vnd.jupyter.widget-view+json": {
       "model_id": "",
       "version_major": 2,
       "version_minor": 0
      },
      "text/plain": [
       "Varying Uncertain Radius:   0%|          | 0/5 [00:00<?, ?it/s]"
      ]
     },
     "metadata": {},
     "output_type": "display_data"
    },
    {
     "data": {
      "application/vnd.jupyter.widget-view+json": {
       "model_id": "",
       "version_major": 2,
       "version_minor": 0
      },
      "text/plain": [
       "Varying Uncertain Radius:   0%|          | 0/5 [00:00<?, ?it/s]"
      ]
     },
     "metadata": {},
     "output_type": "display_data"
    },
    {
     "data": {
      "application/vnd.jupyter.widget-view+json": {
       "model_id": "",
       "version_major": 2,
       "version_minor": 0
      },
      "text/plain": [
       "Varying Uncertain Radius:   0%|          | 0/5 [00:00<?, ?it/s]"
      ]
     },
     "metadata": {},
     "output_type": "display_data"
    },
    {
     "data": {
      "application/vnd.jupyter.widget-view+json": {
       "model_id": "",
       "version_major": 2,
       "version_minor": 0
      },
      "text/plain": [
       "Varying Uncertain Radius:   0%|          | 0/5 [00:00<?, ?it/s]"
      ]
     },
     "metadata": {},
     "output_type": "display_data"
    },
    {
     "data": {
      "application/vnd.jupyter.widget-view+json": {
       "model_id": "",
       "version_major": 2,
       "version_minor": 0
      },
      "text/plain": [
       "Varying Uncertain Radius:   0%|          | 0/5 [00:00<?, ?it/s]"
      ]
     },
     "metadata": {},
     "output_type": "display_data"
    },
    {
     "data": {
      "application/vnd.jupyter.widget-view+json": {
       "model_id": "",
       "version_major": 2,
       "version_minor": 0
      },
      "text/plain": [
       "Varying Uncertain Radius:   0%|          | 0/5 [00:00<?, ?it/s]"
      ]
     },
     "metadata": {},
     "output_type": "display_data"
    },
    {
     "data": {
      "application/vnd.jupyter.widget-view+json": {
       "model_id": "",
       "version_major": 2,
       "version_minor": 0
      },
      "text/plain": [
       "Varying Uncertain Radius:   0%|          | 0/5 [00:00<?, ?it/s]"
      ]
     },
     "metadata": {},
     "output_type": "display_data"
    },
    {
     "data": {
      "application/vnd.jupyter.widget-view+json": {
       "model_id": "",
       "version_major": 2,
       "version_minor": 0
      },
      "text/plain": [
       "Varying Uncertain Radius:   0%|          | 0/5 [00:00<?, ?it/s]"
      ]
     },
     "metadata": {},
     "output_type": "display_data"
    },
    {
     "data": {
      "application/vnd.jupyter.widget-view+json": {
       "model_id": "",
       "version_major": 2,
       "version_minor": 0
      },
      "text/plain": [
       "Varying Uncertain Radius:   0%|          | 0/5 [00:00<?, ?it/s]"
      ]
     },
     "metadata": {},
     "output_type": "display_data"
    },
    {
     "data": {
      "application/vnd.jupyter.widget-view+json": {
       "model_id": "",
       "version_major": 2,
       "version_minor": 0
      },
      "text/plain": [
       "Varying Uncertain Radius:   0%|          | 0/5 [00:00<?, ?it/s]"
      ]
     },
     "metadata": {},
     "output_type": "display_data"
    },
    {
     "data": {
      "application/vnd.jupyter.widget-view+json": {
       "model_id": "",
       "version_major": 2,
       "version_minor": 0
      },
      "text/plain": [
       "Progess:   0%|          | 0/10 [00:00<?, ?it/s]"
      ]
     },
     "metadata": {},
     "output_type": "display_data"
    },
    {
     "data": {
      "application/vnd.jupyter.widget-view+json": {
       "model_id": "",
       "version_major": 2,
       "version_minor": 0
      },
      "text/plain": [
       "Varying Uncertain Radius:   0%|          | 0/5 [00:00<?, ?it/s]"
      ]
     },
     "metadata": {},
     "output_type": "display_data"
    },
    {
     "data": {
      "application/vnd.jupyter.widget-view+json": {
       "model_id": "",
       "version_major": 2,
       "version_minor": 0
      },
      "text/plain": [
       "Varying Uncertain Radius:   0%|          | 0/5 [00:00<?, ?it/s]"
      ]
     },
     "metadata": {},
     "output_type": "display_data"
    },
    {
     "data": {
      "application/vnd.jupyter.widget-view+json": {
       "model_id": "",
       "version_major": 2,
       "version_minor": 0
      },
      "text/plain": [
       "Varying Uncertain Radius:   0%|          | 0/5 [00:00<?, ?it/s]"
      ]
     },
     "metadata": {},
     "output_type": "display_data"
    },
    {
     "data": {
      "application/vnd.jupyter.widget-view+json": {
       "model_id": "",
       "version_major": 2,
       "version_minor": 0
      },
      "text/plain": [
       "Varying Uncertain Radius:   0%|          | 0/5 [00:00<?, ?it/s]"
      ]
     },
     "metadata": {},
     "output_type": "display_data"
    },
    {
     "data": {
      "application/vnd.jupyter.widget-view+json": {
       "model_id": "",
       "version_major": 2,
       "version_minor": 0
      },
      "text/plain": [
       "Varying Uncertain Radius:   0%|          | 0/5 [00:00<?, ?it/s]"
      ]
     },
     "metadata": {},
     "output_type": "display_data"
    },
    {
     "data": {
      "application/vnd.jupyter.widget-view+json": {
       "model_id": "",
       "version_major": 2,
       "version_minor": 0
      },
      "text/plain": [
       "Varying Uncertain Radius:   0%|          | 0/5 [00:00<?, ?it/s]"
      ]
     },
     "metadata": {},
     "output_type": "display_data"
    },
    {
     "data": {
      "application/vnd.jupyter.widget-view+json": {
       "model_id": "",
       "version_major": 2,
       "version_minor": 0
      },
      "text/plain": [
       "Varying Uncertain Radius:   0%|          | 0/5 [00:00<?, ?it/s]"
      ]
     },
     "metadata": {},
     "output_type": "display_data"
    },
    {
     "data": {
      "application/vnd.jupyter.widget-view+json": {
       "model_id": "",
       "version_major": 2,
       "version_minor": 0
      },
      "text/plain": [
       "Varying Uncertain Radius:   0%|          | 0/5 [00:00<?, ?it/s]"
      ]
     },
     "metadata": {},
     "output_type": "display_data"
    },
    {
     "data": {
      "application/vnd.jupyter.widget-view+json": {
       "model_id": "",
       "version_major": 2,
       "version_minor": 0
      },
      "text/plain": [
       "Varying Uncertain Radius:   0%|          | 0/5 [00:00<?, ?it/s]"
      ]
     },
     "metadata": {},
     "output_type": "display_data"
    },
    {
     "data": {
      "application/vnd.jupyter.widget-view+json": {
       "model_id": "",
       "version_major": 2,
       "version_minor": 0
      },
      "text/plain": [
       "Varying Uncertain Radius:   0%|          | 0/5 [00:00<?, ?it/s]"
      ]
     },
     "metadata": {},
     "output_type": "display_data"
    },
    {
     "data": {
      "application/vnd.jupyter.widget-view+json": {
       "model_id": "",
       "version_major": 2,
       "version_minor": 0
      },
      "text/plain": [
       "Progess:   0%|          | 0/10 [00:00<?, ?it/s]"
      ]
     },
     "metadata": {},
     "output_type": "display_data"
    },
    {
     "data": {
      "application/vnd.jupyter.widget-view+json": {
       "model_id": "",
       "version_major": 2,
       "version_minor": 0
      },
      "text/plain": [
       "Varying Uncertain Radius:   0%|          | 0/5 [00:00<?, ?it/s]"
      ]
     },
     "metadata": {},
     "output_type": "display_data"
    },
    {
     "data": {
      "application/vnd.jupyter.widget-view+json": {
       "model_id": "",
       "version_major": 2,
       "version_minor": 0
      },
      "text/plain": [
       "Varying Uncertain Radius:   0%|          | 0/5 [00:00<?, ?it/s]"
      ]
     },
     "metadata": {},
     "output_type": "display_data"
    },
    {
     "data": {
      "application/vnd.jupyter.widget-view+json": {
       "model_id": "",
       "version_major": 2,
       "version_minor": 0
      },
      "text/plain": [
       "Varying Uncertain Radius:   0%|          | 0/5 [00:00<?, ?it/s]"
      ]
     },
     "metadata": {},
     "output_type": "display_data"
    },
    {
     "data": {
      "application/vnd.jupyter.widget-view+json": {
       "model_id": "",
       "version_major": 2,
       "version_minor": 0
      },
      "text/plain": [
       "Varying Uncertain Radius:   0%|          | 0/5 [00:00<?, ?it/s]"
      ]
     },
     "metadata": {},
     "output_type": "display_data"
    },
    {
     "data": {
      "application/vnd.jupyter.widget-view+json": {
       "model_id": "",
       "version_major": 2,
       "version_minor": 0
      },
      "text/plain": [
       "Varying Uncertain Radius:   0%|          | 0/5 [00:00<?, ?it/s]"
      ]
     },
     "metadata": {},
     "output_type": "display_data"
    },
    {
     "data": {
      "application/vnd.jupyter.widget-view+json": {
       "model_id": "",
       "version_major": 2,
       "version_minor": 0
      },
      "text/plain": [
       "Varying Uncertain Radius:   0%|          | 0/5 [00:00<?, ?it/s]"
      ]
     },
     "metadata": {},
     "output_type": "display_data"
    },
    {
     "data": {
      "application/vnd.jupyter.widget-view+json": {
       "model_id": "",
       "version_major": 2,
       "version_minor": 0
      },
      "text/plain": [
       "Varying Uncertain Radius:   0%|          | 0/5 [00:00<?, ?it/s]"
      ]
     },
     "metadata": {},
     "output_type": "display_data"
    },
    {
     "data": {
      "application/vnd.jupyter.widget-view+json": {
       "model_id": "",
       "version_major": 2,
       "version_minor": 0
      },
      "text/plain": [
       "Varying Uncertain Radius:   0%|          | 0/5 [00:00<?, ?it/s]"
      ]
     },
     "metadata": {},
     "output_type": "display_data"
    },
    {
     "data": {
      "application/vnd.jupyter.widget-view+json": {
       "model_id": "",
       "version_major": 2,
       "version_minor": 0
      },
      "text/plain": [
       "Varying Uncertain Radius:   0%|          | 0/5 [00:00<?, ?it/s]"
      ]
     },
     "metadata": {},
     "output_type": "display_data"
    },
    {
     "data": {
      "application/vnd.jupyter.widget-view+json": {
       "model_id": "",
       "version_major": 2,
       "version_minor": 0
      },
      "text/plain": [
       "Varying Uncertain Radius:   0%|          | 0/5 [00:00<?, ?it/s]"
      ]
     },
     "metadata": {},
     "output_type": "display_data"
    },
    {
     "data": {
      "application/vnd.jupyter.widget-view+json": {
       "model_id": "",
       "version_major": 2,
       "version_minor": 0
      },
      "text/plain": [
       "Progess:   0%|          | 0/10 [00:00<?, ?it/s]"
      ]
     },
     "metadata": {},
     "output_type": "display_data"
    },
    {
     "data": {
      "application/vnd.jupyter.widget-view+json": {
       "model_id": "",
       "version_major": 2,
       "version_minor": 0
      },
      "text/plain": [
       "Varying Uncertain Radius:   0%|          | 0/5 [00:00<?, ?it/s]"
      ]
     },
     "metadata": {},
     "output_type": "display_data"
    },
    {
     "data": {
      "application/vnd.jupyter.widget-view+json": {
       "model_id": "",
       "version_major": 2,
       "version_minor": 0
      },
      "text/plain": [
       "Varying Uncertain Radius:   0%|          | 0/5 [00:00<?, ?it/s]"
      ]
     },
     "metadata": {},
     "output_type": "display_data"
    },
    {
     "data": {
      "application/vnd.jupyter.widget-view+json": {
       "model_id": "",
       "version_major": 2,
       "version_minor": 0
      },
      "text/plain": [
       "Varying Uncertain Radius:   0%|          | 0/5 [00:00<?, ?it/s]"
      ]
     },
     "metadata": {},
     "output_type": "display_data"
    },
    {
     "data": {
      "application/vnd.jupyter.widget-view+json": {
       "model_id": "",
       "version_major": 2,
       "version_minor": 0
      },
      "text/plain": [
       "Varying Uncertain Radius:   0%|          | 0/5 [00:00<?, ?it/s]"
      ]
     },
     "metadata": {},
     "output_type": "display_data"
    },
    {
     "data": {
      "application/vnd.jupyter.widget-view+json": {
       "model_id": "",
       "version_major": 2,
       "version_minor": 0
      },
      "text/plain": [
       "Varying Uncertain Radius:   0%|          | 0/5 [00:00<?, ?it/s]"
      ]
     },
     "metadata": {},
     "output_type": "display_data"
    },
    {
     "data": {
      "application/vnd.jupyter.widget-view+json": {
       "model_id": "",
       "version_major": 2,
       "version_minor": 0
      },
      "text/plain": [
       "Varying Uncertain Radius:   0%|          | 0/5 [00:00<?, ?it/s]"
      ]
     },
     "metadata": {},
     "output_type": "display_data"
    },
    {
     "data": {
      "application/vnd.jupyter.widget-view+json": {
       "model_id": "",
       "version_major": 2,
       "version_minor": 0
      },
      "text/plain": [
       "Varying Uncertain Radius:   0%|          | 0/5 [00:00<?, ?it/s]"
      ]
     },
     "metadata": {},
     "output_type": "display_data"
    },
    {
     "data": {
      "application/vnd.jupyter.widget-view+json": {
       "model_id": "",
       "version_major": 2,
       "version_minor": 0
      },
      "text/plain": [
       "Varying Uncertain Radius:   0%|          | 0/5 [00:00<?, ?it/s]"
      ]
     },
     "metadata": {},
     "output_type": "display_data"
    },
    {
     "data": {
      "application/vnd.jupyter.widget-view+json": {
       "model_id": "",
       "version_major": 2,
       "version_minor": 0
      },
      "text/plain": [
       "Varying Uncertain Radius:   0%|          | 0/5 [00:00<?, ?it/s]"
      ]
     },
     "metadata": {},
     "output_type": "display_data"
    },
    {
     "data": {
      "application/vnd.jupyter.widget-view+json": {
       "model_id": "",
       "version_major": 2,
       "version_minor": 0
      },
      "text/plain": [
       "Varying Uncertain Radius:   0%|          | 0/5 [00:00<?, ?it/s]"
      ]
     },
     "metadata": {},
     "output_type": "display_data"
    },
    {
     "data": {
      "application/vnd.jupyter.widget-view+json": {
       "model_id": "",
       "version_major": 2,
       "version_minor": 0
      },
      "text/plain": [
       "Progess:   0%|          | 0/10 [00:00<?, ?it/s]"
      ]
     },
     "metadata": {},
     "output_type": "display_data"
    },
    {
     "data": {
      "application/vnd.jupyter.widget-view+json": {
       "model_id": "",
       "version_major": 2,
       "version_minor": 0
      },
      "text/plain": [
       "Varying Uncertain Radius:   0%|          | 0/5 [00:00<?, ?it/s]"
      ]
     },
     "metadata": {},
     "output_type": "display_data"
    },
    {
     "data": {
      "application/vnd.jupyter.widget-view+json": {
       "model_id": "",
       "version_major": 2,
       "version_minor": 0
      },
      "text/plain": [
       "Varying Uncertain Radius:   0%|          | 0/5 [00:00<?, ?it/s]"
      ]
     },
     "metadata": {},
     "output_type": "display_data"
    },
    {
     "data": {
      "application/vnd.jupyter.widget-view+json": {
       "model_id": "",
       "version_major": 2,
       "version_minor": 0
      },
      "text/plain": [
       "Varying Uncertain Radius:   0%|          | 0/5 [00:00<?, ?it/s]"
      ]
     },
     "metadata": {},
     "output_type": "display_data"
    },
    {
     "data": {
      "application/vnd.jupyter.widget-view+json": {
       "model_id": "",
       "version_major": 2,
       "version_minor": 0
      },
      "text/plain": [
       "Varying Uncertain Radius:   0%|          | 0/5 [00:00<?, ?it/s]"
      ]
     },
     "metadata": {},
     "output_type": "display_data"
    },
    {
     "data": {
      "application/vnd.jupyter.widget-view+json": {
       "model_id": "",
       "version_major": 2,
       "version_minor": 0
      },
      "text/plain": [
       "Varying Uncertain Radius:   0%|          | 0/5 [00:00<?, ?it/s]"
      ]
     },
     "metadata": {},
     "output_type": "display_data"
    },
    {
     "data": {
      "application/vnd.jupyter.widget-view+json": {
       "model_id": "",
       "version_major": 2,
       "version_minor": 0
      },
      "text/plain": [
       "Varying Uncertain Radius:   0%|          | 0/5 [00:00<?, ?it/s]"
      ]
     },
     "metadata": {},
     "output_type": "display_data"
    },
    {
     "data": {
      "application/vnd.jupyter.widget-view+json": {
       "model_id": "",
       "version_major": 2,
       "version_minor": 0
      },
      "text/plain": [
       "Varying Uncertain Radius:   0%|          | 0/5 [00:00<?, ?it/s]"
      ]
     },
     "metadata": {},
     "output_type": "display_data"
    },
    {
     "data": {
      "application/vnd.jupyter.widget-view+json": {
       "model_id": "",
       "version_major": 2,
       "version_minor": 0
      },
      "text/plain": [
       "Varying Uncertain Radius:   0%|          | 0/5 [00:00<?, ?it/s]"
      ]
     },
     "metadata": {},
     "output_type": "display_data"
    },
    {
     "data": {
      "application/vnd.jupyter.widget-view+json": {
       "model_id": "",
       "version_major": 2,
       "version_minor": 0
      },
      "text/plain": [
       "Varying Uncertain Radius:   0%|          | 0/5 [00:00<?, ?it/s]"
      ]
     },
     "metadata": {},
     "output_type": "display_data"
    },
    {
     "data": {
      "application/vnd.jupyter.widget-view+json": {
       "model_id": "",
       "version_major": 2,
       "version_minor": 0
      },
      "text/plain": [
       "Varying Uncertain Radius:   0%|          | 0/5 [00:00<?, ?it/s]"
      ]
     },
     "metadata": {},
     "output_type": "display_data"
    }
   ],
   "source": [
    "robustness_dicts = []\n",
    "for seed in range(5):\n",
    "    # mpg +- 2 is robust\n",
    "    robustness_radius = 2\n",
    "    label_range = (y_train.max()-y_train.min())\n",
    "    ratios = [0.05, 0.10, 0.15, 0.2, 0.25]\n",
    "    uncertain_radiuses = [ratio*label_range for ratio in ratios]\n",
    "    uncertain_pcts = list(np.arange(1, 11)/100)\n",
    "    robustness_dict = dict()\n",
    "    robustness_dict['uncertain_radius'] = uncertain_radiuses\n",
    "    robustness_dict['uncertain_radius_ratios'] = ratios\n",
    "    for uncertain_pct in tqdm(uncertain_pcts, desc='Progess'):\n",
    "        robustness_dict[uncertain_pct] = list()\n",
    "        uncertain_num = int(uncertain_pct*len(y_train))\n",
    "        for uncertain_radius in tqdm(uncertain_radiuses, desc=f'Varying Uncertain Radius'):\n",
    "            robustness_ratio = compute_robustness_ratio_label_error(X_train, y_train, X_test, y_test, \n",
    "                                                                    uncertain_num=uncertain_num, \n",
    "                                                                    uncertain_radius=uncertain_radius, \n",
    "                                                                    robustness_radius=robustness_radius, \n",
    "                                                                    interval=False, seed=seed)\n",
    "            robustness_dict[uncertain_pct].append(robustness_ratio)\n",
    "    robustness_dicts.append(robustness_dict)"
   ]
  },
  {
   "cell_type": "markdown",
   "id": "b1bc3643",
   "metadata": {},
   "source": [
    "**Interval + Label Error**"
   ]
  },
  {
   "cell_type": "code",
   "execution_count": 526,
   "id": "230e5d8f",
   "metadata": {
    "ExecuteTime": {
     "end_time": "2024-05-22T00:16:00.996844Z",
     "start_time": "2024-05-22T00:13:08.927910Z"
    },
    "scrolled": true
   },
   "outputs": [
    {
     "data": {
      "application/vnd.jupyter.widget-view+json": {
       "model_id": "",
       "version_major": 2,
       "version_minor": 0
      },
      "text/plain": [
       "Progess:   0%|          | 0/10 [00:00<?, ?it/s]"
      ]
     },
     "metadata": {},
     "output_type": "display_data"
    },
    {
     "data": {
      "application/vnd.jupyter.widget-view+json": {
       "model_id": "",
       "version_major": 2,
       "version_minor": 0
      },
      "text/plain": [
       "Varying Uncertain Radius:   0%|          | 0/5 [00:00<?, ?it/s]"
      ]
     },
     "metadata": {},
     "output_type": "display_data"
    },
    {
     "data": {
      "application/vnd.jupyter.widget-view+json": {
       "model_id": "",
       "version_major": 2,
       "version_minor": 0
      },
      "text/plain": [
       "Varying Uncertain Radius:   0%|          | 0/5 [00:00<?, ?it/s]"
      ]
     },
     "metadata": {},
     "output_type": "display_data"
    },
    {
     "data": {
      "application/vnd.jupyter.widget-view+json": {
       "model_id": "",
       "version_major": 2,
       "version_minor": 0
      },
      "text/plain": [
       "Varying Uncertain Radius:   0%|          | 0/5 [00:00<?, ?it/s]"
      ]
     },
     "metadata": {},
     "output_type": "display_data"
    },
    {
     "data": {
      "application/vnd.jupyter.widget-view+json": {
       "model_id": "",
       "version_major": 2,
       "version_minor": 0
      },
      "text/plain": [
       "Varying Uncertain Radius:   0%|          | 0/5 [00:00<?, ?it/s]"
      ]
     },
     "metadata": {},
     "output_type": "display_data"
    },
    {
     "data": {
      "application/vnd.jupyter.widget-view+json": {
       "model_id": "",
       "version_major": 2,
       "version_minor": 0
      },
      "text/plain": [
       "Varying Uncertain Radius:   0%|          | 0/5 [00:00<?, ?it/s]"
      ]
     },
     "metadata": {},
     "output_type": "display_data"
    },
    {
     "data": {
      "application/vnd.jupyter.widget-view+json": {
       "model_id": "",
       "version_major": 2,
       "version_minor": 0
      },
      "text/plain": [
       "Varying Uncertain Radius:   0%|          | 0/5 [00:00<?, ?it/s]"
      ]
     },
     "metadata": {},
     "output_type": "display_data"
    },
    {
     "data": {
      "application/vnd.jupyter.widget-view+json": {
       "model_id": "",
       "version_major": 2,
       "version_minor": 0
      },
      "text/plain": [
       "Varying Uncertain Radius:   0%|          | 0/5 [00:00<?, ?it/s]"
      ]
     },
     "metadata": {},
     "output_type": "display_data"
    },
    {
     "data": {
      "application/vnd.jupyter.widget-view+json": {
       "model_id": "",
       "version_major": 2,
       "version_minor": 0
      },
      "text/plain": [
       "Varying Uncertain Radius:   0%|          | 0/5 [00:00<?, ?it/s]"
      ]
     },
     "metadata": {},
     "output_type": "display_data"
    },
    {
     "data": {
      "application/vnd.jupyter.widget-view+json": {
       "model_id": "",
       "version_major": 2,
       "version_minor": 0
      },
      "text/plain": [
       "Varying Uncertain Radius:   0%|          | 0/5 [00:00<?, ?it/s]"
      ]
     },
     "metadata": {},
     "output_type": "display_data"
    },
    {
     "data": {
      "application/vnd.jupyter.widget-view+json": {
       "model_id": "",
       "version_major": 2,
       "version_minor": 0
      },
      "text/plain": [
       "Varying Uncertain Radius:   0%|          | 0/5 [00:00<?, ?it/s]"
      ]
     },
     "metadata": {},
     "output_type": "display_data"
    },
    {
     "data": {
      "application/vnd.jupyter.widget-view+json": {
       "model_id": "",
       "version_major": 2,
       "version_minor": 0
      },
      "text/plain": [
       "Progess:   0%|          | 0/10 [00:00<?, ?it/s]"
      ]
     },
     "metadata": {},
     "output_type": "display_data"
    },
    {
     "data": {
      "application/vnd.jupyter.widget-view+json": {
       "model_id": "",
       "version_major": 2,
       "version_minor": 0
      },
      "text/plain": [
       "Varying Uncertain Radius:   0%|          | 0/5 [00:00<?, ?it/s]"
      ]
     },
     "metadata": {},
     "output_type": "display_data"
    },
    {
     "data": {
      "application/vnd.jupyter.widget-view+json": {
       "model_id": "",
       "version_major": 2,
       "version_minor": 0
      },
      "text/plain": [
       "Varying Uncertain Radius:   0%|          | 0/5 [00:00<?, ?it/s]"
      ]
     },
     "metadata": {},
     "output_type": "display_data"
    },
    {
     "data": {
      "application/vnd.jupyter.widget-view+json": {
       "model_id": "",
       "version_major": 2,
       "version_minor": 0
      },
      "text/plain": [
       "Varying Uncertain Radius:   0%|          | 0/5 [00:00<?, ?it/s]"
      ]
     },
     "metadata": {},
     "output_type": "display_data"
    },
    {
     "data": {
      "application/vnd.jupyter.widget-view+json": {
       "model_id": "",
       "version_major": 2,
       "version_minor": 0
      },
      "text/plain": [
       "Varying Uncertain Radius:   0%|          | 0/5 [00:00<?, ?it/s]"
      ]
     },
     "metadata": {},
     "output_type": "display_data"
    },
    {
     "data": {
      "application/vnd.jupyter.widget-view+json": {
       "model_id": "",
       "version_major": 2,
       "version_minor": 0
      },
      "text/plain": [
       "Varying Uncertain Radius:   0%|          | 0/5 [00:00<?, ?it/s]"
      ]
     },
     "metadata": {},
     "output_type": "display_data"
    },
    {
     "data": {
      "application/vnd.jupyter.widget-view+json": {
       "model_id": "",
       "version_major": 2,
       "version_minor": 0
      },
      "text/plain": [
       "Varying Uncertain Radius:   0%|          | 0/5 [00:00<?, ?it/s]"
      ]
     },
     "metadata": {},
     "output_type": "display_data"
    },
    {
     "data": {
      "application/vnd.jupyter.widget-view+json": {
       "model_id": "",
       "version_major": 2,
       "version_minor": 0
      },
      "text/plain": [
       "Varying Uncertain Radius:   0%|          | 0/5 [00:00<?, ?it/s]"
      ]
     },
     "metadata": {},
     "output_type": "display_data"
    },
    {
     "data": {
      "application/vnd.jupyter.widget-view+json": {
       "model_id": "",
       "version_major": 2,
       "version_minor": 0
      },
      "text/plain": [
       "Varying Uncertain Radius:   0%|          | 0/5 [00:00<?, ?it/s]"
      ]
     },
     "metadata": {},
     "output_type": "display_data"
    },
    {
     "data": {
      "application/vnd.jupyter.widget-view+json": {
       "model_id": "",
       "version_major": 2,
       "version_minor": 0
      },
      "text/plain": [
       "Varying Uncertain Radius:   0%|          | 0/5 [00:00<?, ?it/s]"
      ]
     },
     "metadata": {},
     "output_type": "display_data"
    },
    {
     "data": {
      "application/vnd.jupyter.widget-view+json": {
       "model_id": "",
       "version_major": 2,
       "version_minor": 0
      },
      "text/plain": [
       "Varying Uncertain Radius:   0%|          | 0/5 [00:00<?, ?it/s]"
      ]
     },
     "metadata": {},
     "output_type": "display_data"
    },
    {
     "data": {
      "application/vnd.jupyter.widget-view+json": {
       "model_id": "",
       "version_major": 2,
       "version_minor": 0
      },
      "text/plain": [
       "Progess:   0%|          | 0/10 [00:00<?, ?it/s]"
      ]
     },
     "metadata": {},
     "output_type": "display_data"
    },
    {
     "data": {
      "application/vnd.jupyter.widget-view+json": {
       "model_id": "",
       "version_major": 2,
       "version_minor": 0
      },
      "text/plain": [
       "Varying Uncertain Radius:   0%|          | 0/5 [00:00<?, ?it/s]"
      ]
     },
     "metadata": {},
     "output_type": "display_data"
    },
    {
     "data": {
      "application/vnd.jupyter.widget-view+json": {
       "model_id": "",
       "version_major": 2,
       "version_minor": 0
      },
      "text/plain": [
       "Varying Uncertain Radius:   0%|          | 0/5 [00:00<?, ?it/s]"
      ]
     },
     "metadata": {},
     "output_type": "display_data"
    },
    {
     "data": {
      "application/vnd.jupyter.widget-view+json": {
       "model_id": "",
       "version_major": 2,
       "version_minor": 0
      },
      "text/plain": [
       "Varying Uncertain Radius:   0%|          | 0/5 [00:00<?, ?it/s]"
      ]
     },
     "metadata": {},
     "output_type": "display_data"
    },
    {
     "data": {
      "application/vnd.jupyter.widget-view+json": {
       "model_id": "",
       "version_major": 2,
       "version_minor": 0
      },
      "text/plain": [
       "Varying Uncertain Radius:   0%|          | 0/5 [00:00<?, ?it/s]"
      ]
     },
     "metadata": {},
     "output_type": "display_data"
    },
    {
     "data": {
      "application/vnd.jupyter.widget-view+json": {
       "model_id": "",
       "version_major": 2,
       "version_minor": 0
      },
      "text/plain": [
       "Varying Uncertain Radius:   0%|          | 0/5 [00:00<?, ?it/s]"
      ]
     },
     "metadata": {},
     "output_type": "display_data"
    },
    {
     "data": {
      "application/vnd.jupyter.widget-view+json": {
       "model_id": "",
       "version_major": 2,
       "version_minor": 0
      },
      "text/plain": [
       "Varying Uncertain Radius:   0%|          | 0/5 [00:00<?, ?it/s]"
      ]
     },
     "metadata": {},
     "output_type": "display_data"
    },
    {
     "data": {
      "application/vnd.jupyter.widget-view+json": {
       "model_id": "",
       "version_major": 2,
       "version_minor": 0
      },
      "text/plain": [
       "Varying Uncertain Radius:   0%|          | 0/5 [00:00<?, ?it/s]"
      ]
     },
     "metadata": {},
     "output_type": "display_data"
    },
    {
     "data": {
      "application/vnd.jupyter.widget-view+json": {
       "model_id": "",
       "version_major": 2,
       "version_minor": 0
      },
      "text/plain": [
       "Varying Uncertain Radius:   0%|          | 0/5 [00:00<?, ?it/s]"
      ]
     },
     "metadata": {},
     "output_type": "display_data"
    },
    {
     "data": {
      "application/vnd.jupyter.widget-view+json": {
       "model_id": "",
       "version_major": 2,
       "version_minor": 0
      },
      "text/plain": [
       "Varying Uncertain Radius:   0%|          | 0/5 [00:00<?, ?it/s]"
      ]
     },
     "metadata": {},
     "output_type": "display_data"
    },
    {
     "data": {
      "application/vnd.jupyter.widget-view+json": {
       "model_id": "",
       "version_major": 2,
       "version_minor": 0
      },
      "text/plain": [
       "Varying Uncertain Radius:   0%|          | 0/5 [00:00<?, ?it/s]"
      ]
     },
     "metadata": {},
     "output_type": "display_data"
    },
    {
     "data": {
      "application/vnd.jupyter.widget-view+json": {
       "model_id": "",
       "version_major": 2,
       "version_minor": 0
      },
      "text/plain": [
       "Progess:   0%|          | 0/10 [00:00<?, ?it/s]"
      ]
     },
     "metadata": {},
     "output_type": "display_data"
    },
    {
     "data": {
      "application/vnd.jupyter.widget-view+json": {
       "model_id": "",
       "version_major": 2,
       "version_minor": 0
      },
      "text/plain": [
       "Varying Uncertain Radius:   0%|          | 0/5 [00:00<?, ?it/s]"
      ]
     },
     "metadata": {},
     "output_type": "display_data"
    },
    {
     "data": {
      "application/vnd.jupyter.widget-view+json": {
       "model_id": "",
       "version_major": 2,
       "version_minor": 0
      },
      "text/plain": [
       "Varying Uncertain Radius:   0%|          | 0/5 [00:00<?, ?it/s]"
      ]
     },
     "metadata": {},
     "output_type": "display_data"
    },
    {
     "data": {
      "application/vnd.jupyter.widget-view+json": {
       "model_id": "",
       "version_major": 2,
       "version_minor": 0
      },
      "text/plain": [
       "Varying Uncertain Radius:   0%|          | 0/5 [00:00<?, ?it/s]"
      ]
     },
     "metadata": {},
     "output_type": "display_data"
    },
    {
     "data": {
      "application/vnd.jupyter.widget-view+json": {
       "model_id": "",
       "version_major": 2,
       "version_minor": 0
      },
      "text/plain": [
       "Varying Uncertain Radius:   0%|          | 0/5 [00:00<?, ?it/s]"
      ]
     },
     "metadata": {},
     "output_type": "display_data"
    },
    {
     "data": {
      "application/vnd.jupyter.widget-view+json": {
       "model_id": "",
       "version_major": 2,
       "version_minor": 0
      },
      "text/plain": [
       "Varying Uncertain Radius:   0%|          | 0/5 [00:00<?, ?it/s]"
      ]
     },
     "metadata": {},
     "output_type": "display_data"
    },
    {
     "data": {
      "application/vnd.jupyter.widget-view+json": {
       "model_id": "",
       "version_major": 2,
       "version_minor": 0
      },
      "text/plain": [
       "Varying Uncertain Radius:   0%|          | 0/5 [00:00<?, ?it/s]"
      ]
     },
     "metadata": {},
     "output_type": "display_data"
    },
    {
     "data": {
      "application/vnd.jupyter.widget-view+json": {
       "model_id": "",
       "version_major": 2,
       "version_minor": 0
      },
      "text/plain": [
       "Varying Uncertain Radius:   0%|          | 0/5 [00:00<?, ?it/s]"
      ]
     },
     "metadata": {},
     "output_type": "display_data"
    },
    {
     "data": {
      "application/vnd.jupyter.widget-view+json": {
       "model_id": "",
       "version_major": 2,
       "version_minor": 0
      },
      "text/plain": [
       "Varying Uncertain Radius:   0%|          | 0/5 [00:00<?, ?it/s]"
      ]
     },
     "metadata": {},
     "output_type": "display_data"
    },
    {
     "data": {
      "application/vnd.jupyter.widget-view+json": {
       "model_id": "",
       "version_major": 2,
       "version_minor": 0
      },
      "text/plain": [
       "Varying Uncertain Radius:   0%|          | 0/5 [00:00<?, ?it/s]"
      ]
     },
     "metadata": {},
     "output_type": "display_data"
    },
    {
     "data": {
      "application/vnd.jupyter.widget-view+json": {
       "model_id": "",
       "version_major": 2,
       "version_minor": 0
      },
      "text/plain": [
       "Varying Uncertain Radius:   0%|          | 0/5 [00:00<?, ?it/s]"
      ]
     },
     "metadata": {},
     "output_type": "display_data"
    },
    {
     "data": {
      "application/vnd.jupyter.widget-view+json": {
       "model_id": "",
       "version_major": 2,
       "version_minor": 0
      },
      "text/plain": [
       "Progess:   0%|          | 0/10 [00:00<?, ?it/s]"
      ]
     },
     "metadata": {},
     "output_type": "display_data"
    },
    {
     "data": {
      "application/vnd.jupyter.widget-view+json": {
       "model_id": "",
       "version_major": 2,
       "version_minor": 0
      },
      "text/plain": [
       "Varying Uncertain Radius:   0%|          | 0/5 [00:00<?, ?it/s]"
      ]
     },
     "metadata": {},
     "output_type": "display_data"
    },
    {
     "data": {
      "application/vnd.jupyter.widget-view+json": {
       "model_id": "",
       "version_major": 2,
       "version_minor": 0
      },
      "text/plain": [
       "Varying Uncertain Radius:   0%|          | 0/5 [00:00<?, ?it/s]"
      ]
     },
     "metadata": {},
     "output_type": "display_data"
    },
    {
     "data": {
      "application/vnd.jupyter.widget-view+json": {
       "model_id": "",
       "version_major": 2,
       "version_minor": 0
      },
      "text/plain": [
       "Varying Uncertain Radius:   0%|          | 0/5 [00:00<?, ?it/s]"
      ]
     },
     "metadata": {},
     "output_type": "display_data"
    },
    {
     "data": {
      "application/vnd.jupyter.widget-view+json": {
       "model_id": "",
       "version_major": 2,
       "version_minor": 0
      },
      "text/plain": [
       "Varying Uncertain Radius:   0%|          | 0/5 [00:00<?, ?it/s]"
      ]
     },
     "metadata": {},
     "output_type": "display_data"
    },
    {
     "data": {
      "application/vnd.jupyter.widget-view+json": {
       "model_id": "",
       "version_major": 2,
       "version_minor": 0
      },
      "text/plain": [
       "Varying Uncertain Radius:   0%|          | 0/5 [00:00<?, ?it/s]"
      ]
     },
     "metadata": {},
     "output_type": "display_data"
    },
    {
     "data": {
      "application/vnd.jupyter.widget-view+json": {
       "model_id": "",
       "version_major": 2,
       "version_minor": 0
      },
      "text/plain": [
       "Varying Uncertain Radius:   0%|          | 0/5 [00:00<?, ?it/s]"
      ]
     },
     "metadata": {},
     "output_type": "display_data"
    },
    {
     "data": {
      "application/vnd.jupyter.widget-view+json": {
       "model_id": "",
       "version_major": 2,
       "version_minor": 0
      },
      "text/plain": [
       "Varying Uncertain Radius:   0%|          | 0/5 [00:00<?, ?it/s]"
      ]
     },
     "metadata": {},
     "output_type": "display_data"
    },
    {
     "data": {
      "application/vnd.jupyter.widget-view+json": {
       "model_id": "",
       "version_major": 2,
       "version_minor": 0
      },
      "text/plain": [
       "Varying Uncertain Radius:   0%|          | 0/5 [00:00<?, ?it/s]"
      ]
     },
     "metadata": {},
     "output_type": "display_data"
    },
    {
     "data": {
      "application/vnd.jupyter.widget-view+json": {
       "model_id": "",
       "version_major": 2,
       "version_minor": 0
      },
      "text/plain": [
       "Varying Uncertain Radius:   0%|          | 0/5 [00:00<?, ?it/s]"
      ]
     },
     "metadata": {},
     "output_type": "display_data"
    },
    {
     "data": {
      "application/vnd.jupyter.widget-view+json": {
       "model_id": "",
       "version_major": 2,
       "version_minor": 0
      },
      "text/plain": [
       "Varying Uncertain Radius:   0%|          | 0/5 [00:00<?, ?it/s]"
      ]
     },
     "metadata": {},
     "output_type": "display_data"
    }
   ],
   "source": [
    "robustness_dicts_interval = []\n",
    "for seed in range(5):\n",
    "    # mpg +- 2 is robust\n",
    "    robustness_radius = 2\n",
    "    label_range = (y_train.max()-y_train.min())\n",
    "    ratios = [0.05, 0.10, 0.15, 0.2, 0.25]\n",
    "    uncertain_radiuses = [ratio*label_range for ratio in ratios]\n",
    "    uncertain_pcts = list(np.arange(1, 11)/100)\n",
    "    robustness_dict_interval = dict()\n",
    "    robustness_dict_interval['uncertain_radius'] = uncertain_radiuses\n",
    "    robustness_dict_interval['uncertain_radius_ratios'] = ratios\n",
    "    for uncertain_pct in tqdm(uncertain_pcts, desc='Progess'):\n",
    "        robustness_dict_interval[uncertain_pct] = list()\n",
    "        uncertain_num = int(uncertain_pct*len(y_train))\n",
    "        for uncertain_radius in tqdm(uncertain_radiuses, desc=f'Varying Uncertain Radius'):\n",
    "            robustness_ratio = compute_robustness_ratio_label_error(X_train, y_train, X_test, y_test, \n",
    "                                                                    uncertain_num=uncertain_num, \n",
    "                                                                    uncertain_radius=uncertain_radius, \n",
    "                                                                    robustness_radius=robustness_radius, \n",
    "                                                                    interval=True, seed=seed)\n",
    "            robustness_dict_interval[uncertain_pct].append(robustness_ratio)\n",
    "    robustness_dicts_interval.append(robustness_dict_interval)"
   ]
  },
  {
   "cell_type": "code",
   "execution_count": 527,
   "id": "10620d49",
   "metadata": {
    "ExecuteTime": {
     "end_time": "2024-05-22T00:20:13.772883Z",
     "start_time": "2024-05-22T00:20:13.742573Z"
    }
   },
   "outputs": [
    {
     "data": {
      "text/html": [
       "<div>\n",
       "<style scoped>\n",
       "    .dataframe tbody tr th:only-of-type {\n",
       "        vertical-align: middle;\n",
       "    }\n",
       "\n",
       "    .dataframe tbody tr th {\n",
       "        vertical-align: top;\n",
       "    }\n",
       "\n",
       "    .dataframe thead th {\n",
       "        text-align: right;\n",
       "    }\n",
       "</style>\n",
       "<table border=\"1\" class=\"dataframe\">\n",
       "  <thead>\n",
       "    <tr style=\"text-align: right;\">\n",
       "      <th></th>\n",
       "      <th>uncertain_radius</th>\n",
       "      <th>uncertain_radius_ratios</th>\n",
       "      <th>0.01</th>\n",
       "      <th>0.02</th>\n",
       "      <th>0.03</th>\n",
       "      <th>0.04</th>\n",
       "      <th>0.05</th>\n",
       "      <th>0.06</th>\n",
       "      <th>0.07</th>\n",
       "      <th>0.08</th>\n",
       "      <th>0.09</th>\n",
       "      <th>0.1</th>\n",
       "    </tr>\n",
       "  </thead>\n",
       "  <tbody>\n",
       "    <tr>\n",
       "      <th>0</th>\n",
       "      <td>1.88</td>\n",
       "      <td>0.05</td>\n",
       "      <td>1.000</td>\n",
       "      <td>1.0000</td>\n",
       "      <td>1.0000</td>\n",
       "      <td>0.9750</td>\n",
       "      <td>0.8750</td>\n",
       "      <td>0.675</td>\n",
       "      <td>0.6000</td>\n",
       "      <td>0.5500</td>\n",
       "      <td>0.4250</td>\n",
       "      <td>0.3750</td>\n",
       "    </tr>\n",
       "    <tr>\n",
       "      <th>1</th>\n",
       "      <td>3.76</td>\n",
       "      <td>0.10</td>\n",
       "      <td>1.000</td>\n",
       "      <td>1.0000</td>\n",
       "      <td>0.8875</td>\n",
       "      <td>0.6125</td>\n",
       "      <td>0.3750</td>\n",
       "      <td>0.200</td>\n",
       "      <td>0.1125</td>\n",
       "      <td>0.0875</td>\n",
       "      <td>0.0625</td>\n",
       "      <td>0.0375</td>\n",
       "    </tr>\n",
       "    <tr>\n",
       "      <th>2</th>\n",
       "      <td>5.64</td>\n",
       "      <td>0.15</td>\n",
       "      <td>1.000</td>\n",
       "      <td>0.9375</td>\n",
       "      <td>0.5625</td>\n",
       "      <td>0.3125</td>\n",
       "      <td>0.1125</td>\n",
       "      <td>0.050</td>\n",
       "      <td>0.0250</td>\n",
       "      <td>0.0000</td>\n",
       "      <td>0.0000</td>\n",
       "      <td>0.0000</td>\n",
       "    </tr>\n",
       "    <tr>\n",
       "      <th>3</th>\n",
       "      <td>7.52</td>\n",
       "      <td>0.20</td>\n",
       "      <td>1.000</td>\n",
       "      <td>0.7375</td>\n",
       "      <td>0.3375</td>\n",
       "      <td>0.1375</td>\n",
       "      <td>0.0375</td>\n",
       "      <td>0.000</td>\n",
       "      <td>0.0000</td>\n",
       "      <td>0.0000</td>\n",
       "      <td>0.0000</td>\n",
       "      <td>0.0000</td>\n",
       "    </tr>\n",
       "    <tr>\n",
       "      <th>4</th>\n",
       "      <td>9.40</td>\n",
       "      <td>0.25</td>\n",
       "      <td>0.975</td>\n",
       "      <td>0.5375</td>\n",
       "      <td>0.2000</td>\n",
       "      <td>0.0500</td>\n",
       "      <td>0.0000</td>\n",
       "      <td>0.000</td>\n",
       "      <td>0.0000</td>\n",
       "      <td>0.0000</td>\n",
       "      <td>0.0000</td>\n",
       "      <td>0.0000</td>\n",
       "    </tr>\n",
       "  </tbody>\n",
       "</table>\n",
       "</div>"
      ],
      "text/plain": [
       "   uncertain_radius  uncertain_radius_ratios   0.01    0.02    0.03    0.04  \\\n",
       "0              1.88                     0.05  1.000  1.0000  1.0000  0.9750   \n",
       "1              3.76                     0.10  1.000  1.0000  0.8875  0.6125   \n",
       "2              5.64                     0.15  1.000  0.9375  0.5625  0.3125   \n",
       "3              7.52                     0.20  1.000  0.7375  0.3375  0.1375   \n",
       "4              9.40                     0.25  0.975  0.5375  0.2000  0.0500   \n",
       "\n",
       "     0.05   0.06    0.07    0.08    0.09     0.1  \n",
       "0  0.8750  0.675  0.6000  0.5500  0.4250  0.3750  \n",
       "1  0.3750  0.200  0.1125  0.0875  0.0625  0.0375  \n",
       "2  0.1125  0.050  0.0250  0.0000  0.0000  0.0000  \n",
       "3  0.0375  0.000  0.0000  0.0000  0.0000  0.0000  \n",
       "4  0.0000  0.000  0.0000  0.0000  0.0000  0.0000  "
      ]
     },
     "execution_count": 527,
     "metadata": {},
     "output_type": "execute_result"
    }
   ],
   "source": [
    "pd.DataFrame(robustness_dicts_interval[0])"
   ]
  },
  {
   "cell_type": "code",
   "execution_count": 545,
   "id": "b93018cf",
   "metadata": {
    "ExecuteTime": {
     "end_time": "2024-05-22T00:41:32.199932Z",
     "start_time": "2024-05-22T00:41:32.172348Z"
    }
   },
   "outputs": [],
   "source": [
    "robustness_interval_mean = sum([pd.DataFrame(robustness_dicts_interval[i]).iloc[:, 2:] for i in range(5)])/5\n",
    "robustness_interval_std = (sum([(pd.DataFrame(robustness_dicts_interval[i]).iloc[:, 2:]-robustness_interval_mean)**2 for i in range(5)])/5).apply(np.sqrt)\n"
   ]
  },
  {
   "cell_type": "code",
   "execution_count": 581,
   "id": "29bc96ad",
   "metadata": {
    "ExecuteTime": {
     "end_time": "2024-05-22T07:08:58.747337Z",
     "start_time": "2024-05-22T07:08:58.740006Z"
    }
   },
   "outputs": [],
   "source": [
    "robustness_zonotope_mean = sum([pd.DataFrame(robustness_dicts[i]).iloc[:, 2:] for i in range(5)])/5\n",
    "robustness_zonotope_std = (sum([(pd.DataFrame(robustness_dicts[i]).iloc[:, 2:]-robustness_zonotope_mean)**2 for i in range(5)])/5).apply(np.sqrt)\n"
   ]
  },
  {
   "cell_type": "code",
   "execution_count": 584,
   "id": "a9692039",
   "metadata": {
    "ExecuteTime": {
     "end_time": "2024-05-22T07:08:59.811976Z",
     "start_time": "2024-05-22T07:08:58.772683Z"
    },
    "code_folding": [
     0
    ]
   },
   "outputs": [
    {
     "data": {
      "image/png": "[encoded data removed]",
      "text/plain": [
       "<Figure size 3000x600 with 3 Axes>"
      ]
     },
     "metadata": {
      "needs_background": "light"
     },
     "output_type": "display_data"
    }
   ],
   "source": [
    "# Heatmaps\n",
    "df = robustness_interval_mean\n",
    "\n",
    "# Isolate the portion of the DataFrame for heatmap (exclude the first two columns)\n",
    "heatmap_data = df.multiply(100).values  # Convert fractions to percentages\n",
    "\n",
    "# Labels for x-axis and y-axis\n",
    "x_labels = df.columns.tolist()\n",
    "y_labels = [0.05, 0.10, 0.15, 0.2, 0.25]\n",
    "\n",
    "# Create the heatmap plot\n",
    "# fig, (ax1, ax2) = plt.subplots(1, 2, figsize=(16, 4), sharey=True, dpi=200)\n",
    "fig, (ax1, ax2) = plt.subplots(1, 2, figsize=(15, 3), dpi=200)\n",
    "# cmap = plt.get_cmap(\"coolwarm\")\n",
    "cmap = plt.get_cmap(\"autumn_r\")\n",
    "heatmap = ax1.imshow(heatmap_data, cmap=cmap, interpolation='nearest', aspect='auto', \n",
    "                     alpha=0.8, vmin=0, vmax=100)\n",
    "\n",
    "# Add color bar\n",
    "# cbar = plt.colorbar(heatmap, ax=ax1)\n",
    "# cbar.set_label('% Percentage')\n",
    "\n",
    "# Add white lines by adjusting the linewidth for minor ticks to create separation\n",
    "ax1.set_xticks(np.arange(len(x_labels)) - 0.5, minor=True)\n",
    "ax1.set_yticks(np.arange(len(y_labels)) - 0.5, minor=True)\n",
    "ax1.grid(which=\"minor\", color=\"white\", linestyle='-', linewidth=0.5)\n",
    "ax1.tick_params(which=\"minor\", size=0)\n",
    "\n",
    "# Set major ticks for labels without ticks\n",
    "ax1.set_xticks(np.arange(len(x_labels)))\n",
    "ax1.set_yticks(np.arange(len(y_labels)))\n",
    "ax1.set_xticklabels(x_labels)\n",
    "ax1.set_yticklabels(y_labels)\n",
    "ax1.tick_params(axis='both', which='both', length=0)  # Remove tick marks\n",
    "\n",
    "# Remove external boundaries\n",
    "ax1.spines['top'].set_visible(False)\n",
    "ax1.spines['right'].set_visible(False)\n",
    "ax1.spines['left'].set_visible(False)\n",
    "ax1.spines['bottom'].set_visible(False)\n",
    "\n",
    "# Set axis labels\n",
    "ax1.set_xlabel('Percentage of Uncertain Data', fontsize=12)\n",
    "ax1.set_ylabel('Uncertain Radius (%)', fontsize=12)\n",
    "\n",
    "# Add text annotations\n",
    "for i in range(len(y_labels)):\n",
    "    for j in range(len(x_labels)):\n",
    "        if heatmap_data[i][j]==100:\n",
    "            text = ax1.text(j, i, f'{heatmap_data[i][j]:.0f}', ha='center', va='center', color='black')\n",
    "        elif heatmap_data[i][j]==0:\n",
    "            text = ax1.text(j, i, '0', ha='center', va='center', color='black')\n",
    "        else:\n",
    "            text = ax1.text(j, i, f'{heatmap_data[i][j]:.1f}', ha='center', va='center', color='black')\n",
    "ax1.set_title('Meyer et al.')\n",
    "\n",
    "df = robustness_zonotope_mean\n",
    "\n",
    "# Isolate the portion of the DataFrame for heatmap (exclude the first two columns)\n",
    "heatmap_data = df.multiply(100).values  # Convert fractions to percentages\n",
    "heatmap2 = ax2.imshow(heatmap_data, cmap=cmap, interpolation='nearest', \n",
    "                      aspect='auto', alpha=0.8, vmin=0, vmax=100)\n",
    "\n",
    "# Add color bar\n",
    "# cbar.set_label('% Percentage')\n",
    "\n",
    "# Add white lines by adjusting the linewidth for minor ticks to create separation\n",
    "ax2.set_xticks(np.arange(len(x_labels)) - 0.5, minor=True)\n",
    "ax2.set_yticks(np.arange(len(y_labels)) - 0.5, minor=True)\n",
    "ax2.grid(which=\"minor\", color=\"white\", linestyle='-', linewidth=0.5)\n",
    "ax2.tick_params(which=\"minor\", size=0)\n",
    "\n",
    "# Set major ticks for labels without ticks\n",
    "ax2.set_xticks(np.arange(len(x_labels)))\n",
    "ax2.set_yticks(np.arange(len(y_labels)))\n",
    "ax2.set_xticklabels(x_labels)\n",
    "ax2.set_yticklabels(y_labels)\n",
    "ax2.tick_params(axis='both', which='both', length=0)  # Remove tick marks\n",
    "\n",
    "# Remove external boundaries\n",
    "ax2.spines['top'].set_visible(False)\n",
    "ax2.spines['right'].set_visible(False)\n",
    "ax2.spines['left'].set_visible(False)\n",
    "ax2.spines['bottom'].set_visible(False)\n",
    "\n",
    "# Set axis labels\n",
    "ax2.set_xlabel('Percentage of Uncertain Data', fontsize=12)\n",
    "ax2.set_ylabel('Uncertain Radius (%)', fontsize=12)\n",
    "\n",
    "# Add text annotations\n",
    "for i in range(len(y_labels)):\n",
    "    for j in range(len(x_labels)):\n",
    "        if heatmap_data[i][j]==100:\n",
    "            text = ax2.text(j, i, '100', ha='center', va='center', color='black')\n",
    "        elif heatmap_data[i][j]==0:\n",
    "            text = ax2.text(j, i, '0', ha='center', va='center', color='black')\n",
    "        else:\n",
    "            text = ax2.text(j, i, f'{np.around(heatmap_data[i][j], 1)}', ha='center', \n",
    "                            va='center', color='black')\n",
    "ax2.set_title('ZORRO')\n",
    "\n",
    "# fig.suptitle('Robustness Ratio (%)', fontsize=14)\n",
    "plt.subplots_adjust(wspace=0.2, bottom=0.2, left=0.1, right=0.9)\n",
    "cb = fig.colorbar(heatmap2, ax=(ax1, ax2), orientation='vertical', pad=0.02)\n",
    "cb.set_label('Robustness Ratio (%)', fontsize=12)\n",
    "plt.savefig('mpg-heatmap.pdf', bbox_inches='tight')"
   ]
  },
  {
   "cell_type": "code",
   "execution_count": 556,
   "id": "227d6711",
   "metadata": {
    "ExecuteTime": {
     "end_time": "2024-05-22T00:54:10.789582Z",
     "start_time": "2024-05-22T00:54:09.011388Z"
    }
   },
   "outputs": [
    {
     "data": {
      "image/png": "[encoded data removed]",
      "text/plain": [
       "<Figure size 2400x400 with 4 Axes>"
      ]
     },
     "metadata": {
      "needs_background": "light"
     },
     "output_type": "display_data"
    }
   ],
   "source": [
    "uncertain_pcts = np.array([0, 0.01, 0.02, 0.03, 0.04, 0.05, 0.06, 0.07, 0.08, 0.09, 0.1])*100\n",
    "uncertain_radius_ratios = [0.05, 0.10, 0.15, 0.2, 0.25]\n",
    "\n",
    "zonotope_data_mean_dict = dict()\n",
    "zonotope_data_std_dict = dict()\n",
    "for i, radius_ratio in enumerate(uncertain_radius_ratios):\n",
    "    zonotope_data_mean_dict[radius_ratio] = np.append([1], robustness_zonotope_mean.iloc[i, :].to_numpy())\n",
    "    zonotope_data_std_dict[radius_ratio] = np.append([0], robustness_zonotope_std.iloc[i, :].to_numpy())\n",
    "\n",
    "interval_data_mean_dict = dict()\n",
    "interval_data_std_dict = dict()\n",
    "for i, radius_ratio in enumerate(uncertain_radius_ratios):\n",
    "    interval_data_mean_dict[radius_ratio] = np.append([1], robustness_interval_mean.iloc[i, :].to_numpy())\n",
    "    interval_data_std_dict[radius_ratio] = np.append([0], robustness_interval_std.iloc[i, :].to_numpy())\n",
    "    \n",
    "fig, axes = plt.subplots(nrows=1, ncols=4, figsize=(12, 2), sharex=True, dpi=200)\n",
    "\n",
    "for i in range(4):\n",
    "    uncertain_radius_ratio = uncertain_radius_ratios[i]\n",
    "    axes[i].errorbar(uncertain_pcts, zonotope_data_mean_dict[uncertain_radius_ratio],\n",
    "                     yerr=3*zonotope_data_std_dict[uncertain_radius_ratio],\n",
    "                     marker='o', color='red', label='ZORRO', linestyle='-')\n",
    "    axes[i].errorbar(uncertain_pcts, interval_data_mean_dict[uncertain_radius_ratio],\n",
    "                     yerr=3*interval_data_std_dict[uncertain_radius_ratio],\n",
    "                     marker='s', color='green', label='Meyer et al.', linestyle='--')\n",
    "    axes[i].set_title(f'Uncertain Radius: {int(uncertain_radius_ratio*100)} %')\n",
    "    if i == 0:\n",
    "        axes[i].set_ylabel('Robustness Ratio', fontsize=12)\n",
    "    axes[i].set_ylim(-0.05, 1.05)\n",
    "    axes[i].grid(True)\n",
    "\n",
    "# Adjust layout\n",
    "lines_labels = [axes[0].get_legend_handles_labels()]\n",
    "lines, labels = [sum(lol, []) for lol in zip(*lines_labels)]\n",
    "fig.legend(lines, labels, loc = (0.73, 0.03), ncol=2, frameon=False)\n",
    "\n",
    "plt.subplots_adjust(wspace=0.2, top=0.8, bottom=0.25, left=0.1, right=0.9)\n",
    "fig.supxlabel('Uncertain Data Percentage (%)', fontsize=12, verticalalignment='bottom')\n",
    "# plt.tight_layout()\n",
    "# plt.show()\n",
    "plt.savefig('mpg-labels-lineplot.pdf', bbox_inches='tight')"
   ]
  },
  {
   "cell_type": "code",
   "execution_count": null,
   "id": "53cfb55f",
   "metadata": {},
   "outputs": [],
   "source": []
  },
  {
   "cell_type": "markdown",
   "id": "de25a109",
   "metadata": {},
   "source": [
    "### Uncertain Features"
   ]
  },
  {
   "cell_type": "code",
   "execution_count": 557,
   "id": "f7cb4fd4",
   "metadata": {
    "ExecuteTime": {
     "end_time": "2024-05-22T01:34:21.109745Z",
     "start_time": "2024-05-22T00:54:31.634021Z"
    },
    "scrolled": true
   },
   "outputs": [
    {
     "data": {
      "application/vnd.jupyter.widget-view+json": {
       "model_id": "",
       "version_major": 2,
       "version_minor": 0
      },
      "text/plain": [
       "Progess:   0%|          | 0/10 [00:00<?, ?it/s]"
      ]
     },
     "metadata": {},
     "output_type": "display_data"
    },
    {
     "data": {
      "application/vnd.jupyter.widget-view+json": {
       "model_id": "",
       "version_major": 2,
       "version_minor": 0
      },
      "text/plain": [
       "Uncertain Data PCT: 0.01:   0%|          | 0/4 [00:00<?, ?it/s]"
      ]
     },
     "metadata": {},
     "output_type": "display_data"
    },
    {
     "data": {
      "application/vnd.jupyter.widget-view+json": {
       "model_id": "",
       "version_major": 2,
       "version_minor": 0
      },
      "text/plain": [
       "Uncertain Data PCT: 0.02:   0%|          | 0/4 [00:00<?, ?it/s]"
      ]
     },
     "metadata": {},
     "output_type": "display_data"
    },
    {
     "data": {
      "application/vnd.jupyter.widget-view+json": {
       "model_id": "",
       "version_major": 2,
       "version_minor": 0
      },
      "text/plain": [
       "Uncertain Data PCT: 0.03:   0%|          | 0/4 [00:00<?, ?it/s]"
      ]
     },
     "metadata": {},
     "output_type": "display_data"
    },
    {
     "data": {
      "application/vnd.jupyter.widget-view+json": {
       "model_id": "",
       "version_major": 2,
       "version_minor": 0
      },
      "text/plain": [
       "Uncertain Data PCT: 0.04:   0%|          | 0/4 [00:00<?, ?it/s]"
      ]
     },
     "metadata": {},
     "output_type": "display_data"
    },
    {
     "data": {
      "application/vnd.jupyter.widget-view+json": {
       "model_id": "",
       "version_major": 2,
       "version_minor": 0
      },
      "text/plain": [
       "Uncertain Data PCT: 0.05:   0%|          | 0/4 [00:00<?, ?it/s]"
      ]
     },
     "metadata": {},
     "output_type": "display_data"
    },
    {
     "data": {
      "application/vnd.jupyter.widget-view+json": {
       "model_id": "",
       "version_major": 2,
       "version_minor": 0
      },
      "text/plain": [
       "Uncertain Data PCT: 0.06:   0%|          | 0/4 [00:00<?, ?it/s]"
      ]
     },
     "metadata": {},
     "output_type": "display_data"
    },
    {
     "data": {
      "application/vnd.jupyter.widget-view+json": {
       "model_id": "",
       "version_major": 2,
       "version_minor": 0
      },
      "text/plain": [
       "Uncertain Data PCT: 0.07:   0%|          | 0/4 [00:00<?, ?it/s]"
      ]
     },
     "metadata": {},
     "output_type": "display_data"
    },
    {
     "data": {
      "application/vnd.jupyter.widget-view+json": {
       "model_id": "",
       "version_major": 2,
       "version_minor": 0
      },
      "text/plain": [
       "Uncertain Data PCT: 0.08:   0%|          | 0/4 [00:00<?, ?it/s]"
      ]
     },
     "metadata": {},
     "output_type": "display_data"
    },
    {
     "data": {
      "application/vnd.jupyter.widget-view+json": {
       "model_id": "",
       "version_major": 2,
       "version_minor": 0
      },
      "text/plain": [
       "Uncertain Data PCT: 0.09:   0%|          | 0/4 [00:00<?, ?it/s]"
      ]
     },
     "metadata": {},
     "output_type": "display_data"
    },
    {
     "data": {
      "application/vnd.jupyter.widget-view+json": {
       "model_id": "",
       "version_major": 2,
       "version_minor": 0
      },
      "text/plain": [
       "Uncertain Data PCT: 0.1:   0%|          | 0/4 [00:00<?, ?it/s]"
      ]
     },
     "metadata": {},
     "output_type": "display_data"
    },
    {
     "data": {
      "application/vnd.jupyter.widget-view+json": {
       "model_id": "",
       "version_major": 2,
       "version_minor": 0
      },
      "text/plain": [
       "Progess:   0%|          | 0/10 [00:00<?, ?it/s]"
      ]
     },
     "metadata": {},
     "output_type": "display_data"
    },
    {
     "data": {
      "application/vnd.jupyter.widget-view+json": {
       "model_id": "",
       "version_major": 2,
       "version_minor": 0
      },
      "text/plain": [
       "Uncertain Data PCT: 0.01:   0%|          | 0/4 [00:00<?, ?it/s]"
      ]
     },
     "metadata": {},
     "output_type": "display_data"
    },
    {
     "data": {
      "application/vnd.jupyter.widget-view+json": {
       "model_id": "",
       "version_major": 2,
       "version_minor": 0
      },
      "text/plain": [
       "Uncertain Data PCT: 0.02:   0%|          | 0/4 [00:00<?, ?it/s]"
      ]
     },
     "metadata": {},
     "output_type": "display_data"
    },
    {
     "data": {
      "application/vnd.jupyter.widget-view+json": {
       "model_id": "",
       "version_major": 2,
       "version_minor": 0
      },
      "text/plain": [
       "Uncertain Data PCT: 0.03:   0%|          | 0/4 [00:00<?, ?it/s]"
      ]
     },
     "metadata": {},
     "output_type": "display_data"
    },
    {
     "data": {
      "application/vnd.jupyter.widget-view+json": {
       "model_id": "",
       "version_major": 2,
       "version_minor": 0
      },
      "text/plain": [
       "Uncertain Data PCT: 0.04:   0%|          | 0/4 [00:00<?, ?it/s]"
      ]
     },
     "metadata": {},
     "output_type": "display_data"
    },
    {
     "data": {
      "application/vnd.jupyter.widget-view+json": {
       "model_id": "",
       "version_major": 2,
       "version_minor": 0
      },
      "text/plain": [
       "Uncertain Data PCT: 0.05:   0%|          | 0/4 [00:00<?, ?it/s]"
      ]
     },
     "metadata": {},
     "output_type": "display_data"
    },
    {
     "data": {
      "application/vnd.jupyter.widget-view+json": {
       "model_id": "",
       "version_major": 2,
       "version_minor": 0
      },
      "text/plain": [
       "Uncertain Data PCT: 0.06:   0%|          | 0/4 [00:00<?, ?it/s]"
      ]
     },
     "metadata": {},
     "output_type": "display_data"
    },
    {
     "data": {
      "application/vnd.jupyter.widget-view+json": {
       "model_id": "",
       "version_major": 2,
       "version_minor": 0
      },
      "text/plain": [
       "Uncertain Data PCT: 0.07:   0%|          | 0/4 [00:00<?, ?it/s]"
      ]
     },
     "metadata": {},
     "output_type": "display_data"
    },
    {
     "data": {
      "application/vnd.jupyter.widget-view+json": {
       "model_id": "",
       "version_major": 2,
       "version_minor": 0
      },
      "text/plain": [
       "Uncertain Data PCT: 0.08:   0%|          | 0/4 [00:00<?, ?it/s]"
      ]
     },
     "metadata": {},
     "output_type": "display_data"
    },
    {
     "data": {
      "application/vnd.jupyter.widget-view+json": {
       "model_id": "",
       "version_major": 2,
       "version_minor": 0
      },
      "text/plain": [
       "Uncertain Data PCT: 0.09:   0%|          | 0/4 [00:00<?, ?it/s]"
      ]
     },
     "metadata": {},
     "output_type": "display_data"
    },
    {
     "data": {
      "application/vnd.jupyter.widget-view+json": {
       "model_id": "",
       "version_major": 2,
       "version_minor": 0
      },
      "text/plain": [
       "Uncertain Data PCT: 0.1:   0%|          | 0/4 [00:00<?, ?it/s]"
      ]
     },
     "metadata": {},
     "output_type": "display_data"
    },
    {
     "data": {
      "application/vnd.jupyter.widget-view+json": {
       "model_id": "",
       "version_major": 2,
       "version_minor": 0
      },
      "text/plain": [
       "Progess:   0%|          | 0/10 [00:00<?, ?it/s]"
      ]
     },
     "metadata": {},
     "output_type": "display_data"
    },
    {
     "data": {
      "application/vnd.jupyter.widget-view+json": {
       "model_id": "",
       "version_major": 2,
       "version_minor": 0
      },
      "text/plain": [
       "Uncertain Data PCT: 0.01:   0%|          | 0/4 [00:00<?, ?it/s]"
      ]
     },
     "metadata": {},
     "output_type": "display_data"
    },
    {
     "data": {
      "application/vnd.jupyter.widget-view+json": {
       "model_id": "",
       "version_major": 2,
       "version_minor": 0
      },
      "text/plain": [
       "Uncertain Data PCT: 0.02:   0%|          | 0/4 [00:00<?, ?it/s]"
      ]
     },
     "metadata": {},
     "output_type": "display_data"
    },
    {
     "data": {
      "application/vnd.jupyter.widget-view+json": {
       "model_id": "",
       "version_major": 2,
       "version_minor": 0
      },
      "text/plain": [
       "Uncertain Data PCT: 0.03:   0%|          | 0/4 [00:00<?, ?it/s]"
      ]
     },
     "metadata": {},
     "output_type": "display_data"
    },
    {
     "data": {
      "application/vnd.jupyter.widget-view+json": {
       "model_id": "",
       "version_major": 2,
       "version_minor": 0
      },
      "text/plain": [
       "Uncertain Data PCT: 0.04:   0%|          | 0/4 [00:00<?, ?it/s]"
      ]
     },
     "metadata": {},
     "output_type": "display_data"
    },
    {
     "data": {
      "application/vnd.jupyter.widget-view+json": {
       "model_id": "",
       "version_major": 2,
       "version_minor": 0
      },
      "text/plain": [
       "Uncertain Data PCT: 0.05:   0%|          | 0/4 [00:00<?, ?it/s]"
      ]
     },
     "metadata": {},
     "output_type": "display_data"
    },
    {
     "data": {
      "application/vnd.jupyter.widget-view+json": {
       "model_id": "",
       "version_major": 2,
       "version_minor": 0
      },
      "text/plain": [
       "Uncertain Data PCT: 0.06:   0%|          | 0/4 [00:00<?, ?it/s]"
      ]
     },
     "metadata": {},
     "output_type": "display_data"
    },
    {
     "data": {
      "application/vnd.jupyter.widget-view+json": {
       "model_id": "",
       "version_major": 2,
       "version_minor": 0
      },
      "text/plain": [
       "Uncertain Data PCT: 0.07:   0%|          | 0/4 [00:00<?, ?it/s]"
      ]
     },
     "metadata": {},
     "output_type": "display_data"
    },
    {
     "data": {
      "application/vnd.jupyter.widget-view+json": {
       "model_id": "",
       "version_major": 2,
       "version_minor": 0
      },
      "text/plain": [
       "Uncertain Data PCT: 0.08:   0%|          | 0/4 [00:00<?, ?it/s]"
      ]
     },
     "metadata": {},
     "output_type": "display_data"
    },
    {
     "data": {
      "application/vnd.jupyter.widget-view+json": {
       "model_id": "",
       "version_major": 2,
       "version_minor": 0
      },
      "text/plain": [
       "Uncertain Data PCT: 0.09:   0%|          | 0/4 [00:00<?, ?it/s]"
      ]
     },
     "metadata": {},
     "output_type": "display_data"
    },
    {
     "data": {
      "application/vnd.jupyter.widget-view+json": {
       "model_id": "",
       "version_major": 2,
       "version_minor": 0
      },
      "text/plain": [
       "Uncertain Data PCT: 0.1:   0%|          | 0/4 [00:00<?, ?it/s]"
      ]
     },
     "metadata": {},
     "output_type": "display_data"
    },
    {
     "data": {
      "application/vnd.jupyter.widget-view+json": {
       "model_id": "",
       "version_major": 2,
       "version_minor": 0
      },
      "text/plain": [
       "Progess:   0%|          | 0/10 [00:00<?, ?it/s]"
      ]
     },
     "metadata": {},
     "output_type": "display_data"
    },
    {
     "data": {
      "application/vnd.jupyter.widget-view+json": {
       "model_id": "",
       "version_major": 2,
       "version_minor": 0
      },
      "text/plain": [
       "Uncertain Data PCT: 0.01:   0%|          | 0/4 [00:00<?, ?it/s]"
      ]
     },
     "metadata": {},
     "output_type": "display_data"
    },
    {
     "data": {
      "application/vnd.jupyter.widget-view+json": {
       "model_id": "",
       "version_major": 2,
       "version_minor": 0
      },
      "text/plain": [
       "Uncertain Data PCT: 0.02:   0%|          | 0/4 [00:00<?, ?it/s]"
      ]
     },
     "metadata": {},
     "output_type": "display_data"
    },
    {
     "data": {
      "application/vnd.jupyter.widget-view+json": {
       "model_id": "",
       "version_major": 2,
       "version_minor": 0
      },
      "text/plain": [
       "Uncertain Data PCT: 0.03:   0%|          | 0/4 [00:00<?, ?it/s]"
      ]
     },
     "metadata": {},
     "output_type": "display_data"
    },
    {
     "data": {
      "application/vnd.jupyter.widget-view+json": {
       "model_id": "",
       "version_major": 2,
       "version_minor": 0
      },
      "text/plain": [
       "Uncertain Data PCT: 0.04:   0%|          | 0/4 [00:00<?, ?it/s]"
      ]
     },
     "metadata": {},
     "output_type": "display_data"
    },
    {
     "data": {
      "application/vnd.jupyter.widget-view+json": {
       "model_id": "",
       "version_major": 2,
       "version_minor": 0
      },
      "text/plain": [
       "Uncertain Data PCT: 0.05:   0%|          | 0/4 [00:00<?, ?it/s]"
      ]
     },
     "metadata": {},
     "output_type": "display_data"
    },
    {
     "data": {
      "application/vnd.jupyter.widget-view+json": {
       "model_id": "",
       "version_major": 2,
       "version_minor": 0
      },
      "text/plain": [
       "Uncertain Data PCT: 0.06:   0%|          | 0/4 [00:00<?, ?it/s]"
      ]
     },
     "metadata": {},
     "output_type": "display_data"
    },
    {
     "data": {
      "application/vnd.jupyter.widget-view+json": {
       "model_id": "",
       "version_major": 2,
       "version_minor": 0
      },
      "text/plain": [
       "Uncertain Data PCT: 0.07:   0%|          | 0/4 [00:00<?, ?it/s]"
      ]
     },
     "metadata": {},
     "output_type": "display_data"
    },
    {
     "data": {
      "application/vnd.jupyter.widget-view+json": {
       "model_id": "",
       "version_major": 2,
       "version_minor": 0
      },
      "text/plain": [
       "Uncertain Data PCT: 0.08:   0%|          | 0/4 [00:00<?, ?it/s]"
      ]
     },
     "metadata": {},
     "output_type": "display_data"
    },
    {
     "data": {
      "application/vnd.jupyter.widget-view+json": {
       "model_id": "",
       "version_major": 2,
       "version_minor": 0
      },
      "text/plain": [
       "Uncertain Data PCT: 0.09:   0%|          | 0/4 [00:00<?, ?it/s]"
      ]
     },
     "metadata": {},
     "output_type": "display_data"
    },
    {
     "data": {
      "application/vnd.jupyter.widget-view+json": {
       "model_id": "",
       "version_major": 2,
       "version_minor": 0
      },
      "text/plain": [
       "Uncertain Data PCT: 0.1:   0%|          | 0/4 [00:00<?, ?it/s]"
      ]
     },
     "metadata": {},
     "output_type": "display_data"
    },
    {
     "data": {
      "application/vnd.jupyter.widget-view+json": {
       "model_id": "",
       "version_major": 2,
       "version_minor": 0
      },
      "text/plain": [
       "Progess:   0%|          | 0/10 [00:00<?, ?it/s]"
      ]
     },
     "metadata": {},
     "output_type": "display_data"
    },
    {
     "data": {
      "application/vnd.jupyter.widget-view+json": {
       "model_id": "",
       "version_major": 2,
       "version_minor": 0
      },
      "text/plain": [
       "Uncertain Data PCT: 0.01:   0%|          | 0/4 [00:00<?, ?it/s]"
      ]
     },
     "metadata": {},
     "output_type": "display_data"
    },
    {
     "data": {
      "application/vnd.jupyter.widget-view+json": {
       "model_id": "",
       "version_major": 2,
       "version_minor": 0
      },
      "text/plain": [
       "Uncertain Data PCT: 0.02:   0%|          | 0/4 [00:00<?, ?it/s]"
      ]
     },
     "metadata": {},
     "output_type": "display_data"
    },
    {
     "data": {
      "application/vnd.jupyter.widget-view+json": {
       "model_id": "",
       "version_major": 2,
       "version_minor": 0
      },
      "text/plain": [
       "Uncertain Data PCT: 0.03:   0%|          | 0/4 [00:00<?, ?it/s]"
      ]
     },
     "metadata": {},
     "output_type": "display_data"
    },
    {
     "data": {
      "application/vnd.jupyter.widget-view+json": {
       "model_id": "",
       "version_major": 2,
       "version_minor": 0
      },
      "text/plain": [
       "Uncertain Data PCT: 0.04:   0%|          | 0/4 [00:00<?, ?it/s]"
      ]
     },
     "metadata": {},
     "output_type": "display_data"
    },
    {
     "data": {
      "application/vnd.jupyter.widget-view+json": {
       "model_id": "",
       "version_major": 2,
       "version_minor": 0
      },
      "text/plain": [
       "Uncertain Data PCT: 0.05:   0%|          | 0/4 [00:00<?, ?it/s]"
      ]
     },
     "metadata": {},
     "output_type": "display_data"
    },
    {
     "data": {
      "application/vnd.jupyter.widget-view+json": {
       "model_id": "",
       "version_major": 2,
       "version_minor": 0
      },
      "text/plain": [
       "Uncertain Data PCT: 0.06:   0%|          | 0/4 [00:00<?, ?it/s]"
      ]
     },
     "metadata": {},
     "output_type": "display_data"
    },
    {
     "data": {
      "application/vnd.jupyter.widget-view+json": {
       "model_id": "",
       "version_major": 2,
       "version_minor": 0
      },
      "text/plain": [
       "Uncertain Data PCT: 0.07:   0%|          | 0/4 [00:00<?, ?it/s]"
      ]
     },
     "metadata": {},
     "output_type": "display_data"
    },
    {
     "data": {
      "application/vnd.jupyter.widget-view+json": {
       "model_id": "",
       "version_major": 2,
       "version_minor": 0
      },
      "text/plain": [
       "Uncertain Data PCT: 0.08:   0%|          | 0/4 [00:00<?, ?it/s]"
      ]
     },
     "metadata": {},
     "output_type": "display_data"
    },
    {
     "data": {
      "application/vnd.jupyter.widget-view+json": {
       "model_id": "",
       "version_major": 2,
       "version_minor": 0
      },
      "text/plain": [
       "Uncertain Data PCT: 0.09:   0%|          | 0/4 [00:00<?, ?it/s]"
      ]
     },
     "metadata": {},
     "output_type": "display_data"
    },
    {
     "data": {
      "application/vnd.jupyter.widget-view+json": {
       "model_id": "",
       "version_major": 2,
       "version_minor": 0
      },
      "text/plain": [
       "Uncertain Data PCT: 0.1:   0%|          | 0/4 [00:00<?, ?it/s]"
      ]
     },
     "metadata": {},
     "output_type": "display_data"
    }
   ],
   "source": [
    "robustness_dicts = []\n",
    "for seed in range(5):\n",
    "    # mpg +- 2 is robust\n",
    "    robustness_radius = 2\n",
    "    weight_interval = X_train.weight.max()-X_train.weight.min()\n",
    "    uncertain_radius_ratios = [0.06, 0.08, 0.10, 0.12]\n",
    "    uncertain_radiuses = [ratio*weight_interval for ratio in uncertain_radius_ratios]\n",
    "    uncertain_pcts = list(np.arange(1, 11)/100)\n",
    "    robustness_dict = dict()\n",
    "    robustness_dict['uncertain_radius'] = uncertain_radiuses\n",
    "    robustness_dict['uncertain_radius_ratios'] = uncertain_radius_ratios\n",
    "    for uncertain_pct in tqdm(uncertain_pcts, desc='Progess'):\n",
    "        robustness_dict[uncertain_pct] = list()\n",
    "        uncertain_num = int(uncertain_pct*len(y_train))\n",
    "        for uncertain_radius_ratio in tqdm(uncertain_radius_ratios, desc=f'Uncertain Data PCT: {uncertain_pct}'):\n",
    "            robustness_ratio = compute_robustness_ratio(X_train, y_train, X_test, y_test, \n",
    "                                                        uncertain_attr='weight', \n",
    "                                                        uncertain_num=uncertain_num, \n",
    "                                                        uncertain_radius_ratio=uncertain_radius_ratio, \n",
    "                                                        robustness_radius=robustness_radius, seed=seed)\n",
    "            if robustness_ratio==0:\n",
    "                trials_left = len(uncertain_radius_ratios)-uncertain_radius_ratios.index(uncertain_radius_ratio)\n",
    "                for _ in range(trials_left):\n",
    "                    robustness_dict[uncertain_pct].append(0)\n",
    "                break\n",
    "            robustness_dict[uncertain_pct].append(robustness_ratio)\n",
    "    robustness_dicts.append(robustness_dict)"
   ]
  },
  {
   "cell_type": "code",
   "execution_count": 564,
   "id": "f0504215",
   "metadata": {
    "ExecuteTime": {
     "end_time": "2024-05-22T01:48:54.674408Z",
     "start_time": "2024-05-22T01:48:54.644691Z"
    }
   },
   "outputs": [
    {
     "data": {
      "text/html": [
       "<div>\n",
       "<style scoped>\n",
       "    .dataframe tbody tr th:only-of-type {\n",
       "        vertical-align: middle;\n",
       "    }\n",
       "\n",
       "    .dataframe tbody tr th {\n",
       "        vertical-align: top;\n",
       "    }\n",
       "\n",
       "    .dataframe thead th {\n",
       "        text-align: right;\n",
       "    }\n",
       "</style>\n",
       "<table border=\"1\" class=\"dataframe\">\n",
       "  <thead>\n",
       "    <tr style=\"text-align: right;\">\n",
       "      <th></th>\n",
       "      <th>uncertain_radius</th>\n",
       "      <th>uncertain_radius_ratios</th>\n",
       "      <th>0.01</th>\n",
       "      <th>0.02</th>\n",
       "      <th>0.03</th>\n",
       "      <th>0.04</th>\n",
       "      <th>0.05</th>\n",
       "      <th>0.06</th>\n",
       "      <th>0.07</th>\n",
       "      <th>0.08</th>\n",
       "      <th>0.09</th>\n",
       "      <th>0.1</th>\n",
       "    </tr>\n",
       "  </thead>\n",
       "  <tbody>\n",
       "    <tr>\n",
       "      <th>0</th>\n",
       "      <td>211.62</td>\n",
       "      <td>0.06</td>\n",
       "      <td>1.0</td>\n",
       "      <td>1.0</td>\n",
       "      <td>1.0</td>\n",
       "      <td>1.0</td>\n",
       "      <td>1.0</td>\n",
       "      <td>1.0000</td>\n",
       "      <td>1.0000</td>\n",
       "      <td>1.0000</td>\n",
       "      <td>1.0000</td>\n",
       "      <td>1.000</td>\n",
       "    </tr>\n",
       "    <tr>\n",
       "      <th>1</th>\n",
       "      <td>282.16</td>\n",
       "      <td>0.08</td>\n",
       "      <td>1.0</td>\n",
       "      <td>1.0</td>\n",
       "      <td>1.0</td>\n",
       "      <td>1.0</td>\n",
       "      <td>1.0</td>\n",
       "      <td>1.0000</td>\n",
       "      <td>1.0000</td>\n",
       "      <td>1.0000</td>\n",
       "      <td>1.0000</td>\n",
       "      <td>0.975</td>\n",
       "    </tr>\n",
       "    <tr>\n",
       "      <th>2</th>\n",
       "      <td>352.70</td>\n",
       "      <td>0.10</td>\n",
       "      <td>1.0</td>\n",
       "      <td>1.0</td>\n",
       "      <td>1.0</td>\n",
       "      <td>1.0</td>\n",
       "      <td>1.0</td>\n",
       "      <td>1.0000</td>\n",
       "      <td>0.9875</td>\n",
       "      <td>0.9375</td>\n",
       "      <td>0.8000</td>\n",
       "      <td>0.600</td>\n",
       "    </tr>\n",
       "    <tr>\n",
       "      <th>3</th>\n",
       "      <td>423.24</td>\n",
       "      <td>0.12</td>\n",
       "      <td>1.0</td>\n",
       "      <td>1.0</td>\n",
       "      <td>1.0</td>\n",
       "      <td>1.0</td>\n",
       "      <td>1.0</td>\n",
       "      <td>0.9375</td>\n",
       "      <td>0.7750</td>\n",
       "      <td>0.5000</td>\n",
       "      <td>0.1625</td>\n",
       "      <td>0.000</td>\n",
       "    </tr>\n",
       "  </tbody>\n",
       "</table>\n",
       "</div>"
      ],
      "text/plain": [
       "   uncertain_radius  uncertain_radius_ratios  0.01  0.02  0.03  0.04  0.05  \\\n",
       "0            211.62                     0.06   1.0   1.0   1.0   1.0   1.0   \n",
       "1            282.16                     0.08   1.0   1.0   1.0   1.0   1.0   \n",
       "2            352.70                     0.10   1.0   1.0   1.0   1.0   1.0   \n",
       "3            423.24                     0.12   1.0   1.0   1.0   1.0   1.0   \n",
       "\n",
       "     0.06    0.07    0.08    0.09    0.1  \n",
       "0  1.0000  1.0000  1.0000  1.0000  1.000  \n",
       "1  1.0000  1.0000  1.0000  1.0000  0.975  \n",
       "2  1.0000  0.9875  0.9375  0.8000  0.600  \n",
       "3  0.9375  0.7750  0.5000  0.1625  0.000  "
      ]
     },
     "execution_count": 564,
     "metadata": {},
     "output_type": "execute_result"
    }
   ],
   "source": [
    "pd.DataFrame(robustness_dicts[0])"
   ]
  },
  {
   "cell_type": "code",
   "execution_count": 565,
   "id": "9b3d9ebb",
   "metadata": {
    "ExecuteTime": {
     "end_time": "2024-05-22T01:49:00.995496Z",
     "start_time": "2024-05-22T01:49:00.968058Z"
    }
   },
   "outputs": [
    {
     "data": {
      "text/html": [
       "<div>\n",
       "<style scoped>\n",
       "    .dataframe tbody tr th:only-of-type {\n",
       "        vertical-align: middle;\n",
       "    }\n",
       "\n",
       "    .dataframe tbody tr th {\n",
       "        vertical-align: top;\n",
       "    }\n",
       "\n",
       "    .dataframe thead th {\n",
       "        text-align: right;\n",
       "    }\n",
       "</style>\n",
       "<table border=\"1\" class=\"dataframe\">\n",
       "  <thead>\n",
       "    <tr style=\"text-align: right;\">\n",
       "      <th></th>\n",
       "      <th>uncertain_radius</th>\n",
       "      <th>uncertain_radius_ratios</th>\n",
       "      <th>0.01</th>\n",
       "      <th>0.02</th>\n",
       "      <th>0.03</th>\n",
       "      <th>0.04</th>\n",
       "      <th>0.05</th>\n",
       "      <th>0.06</th>\n",
       "      <th>0.07</th>\n",
       "      <th>0.08</th>\n",
       "      <th>0.09</th>\n",
       "      <th>0.1</th>\n",
       "    </tr>\n",
       "  </thead>\n",
       "  <tbody>\n",
       "    <tr>\n",
       "      <th>0</th>\n",
       "      <td>211.62</td>\n",
       "      <td>0.06</td>\n",
       "      <td>1.0</td>\n",
       "      <td>1.0</td>\n",
       "      <td>1.0</td>\n",
       "      <td>1.0</td>\n",
       "      <td>1.0</td>\n",
       "      <td>1.0000</td>\n",
       "      <td>1.0000</td>\n",
       "      <td>1.0000</td>\n",
       "      <td>1.0000</td>\n",
       "      <td>1.000</td>\n",
       "    </tr>\n",
       "    <tr>\n",
       "      <th>1</th>\n",
       "      <td>282.16</td>\n",
       "      <td>0.08</td>\n",
       "      <td>1.0</td>\n",
       "      <td>1.0</td>\n",
       "      <td>1.0</td>\n",
       "      <td>1.0</td>\n",
       "      <td>1.0</td>\n",
       "      <td>1.0000</td>\n",
       "      <td>1.0000</td>\n",
       "      <td>1.0000</td>\n",
       "      <td>1.0000</td>\n",
       "      <td>0.975</td>\n",
       "    </tr>\n",
       "    <tr>\n",
       "      <th>2</th>\n",
       "      <td>352.70</td>\n",
       "      <td>0.10</td>\n",
       "      <td>1.0</td>\n",
       "      <td>1.0</td>\n",
       "      <td>1.0</td>\n",
       "      <td>1.0</td>\n",
       "      <td>1.0</td>\n",
       "      <td>1.0000</td>\n",
       "      <td>0.9875</td>\n",
       "      <td>0.9375</td>\n",
       "      <td>0.8000</td>\n",
       "      <td>0.600</td>\n",
       "    </tr>\n",
       "    <tr>\n",
       "      <th>3</th>\n",
       "      <td>423.24</td>\n",
       "      <td>0.12</td>\n",
       "      <td>1.0</td>\n",
       "      <td>1.0</td>\n",
       "      <td>1.0</td>\n",
       "      <td>1.0</td>\n",
       "      <td>1.0</td>\n",
       "      <td>0.9375</td>\n",
       "      <td>0.7750</td>\n",
       "      <td>0.5000</td>\n",
       "      <td>0.1625</td>\n",
       "      <td>0.000</td>\n",
       "    </tr>\n",
       "  </tbody>\n",
       "</table>\n",
       "</div>"
      ],
      "text/plain": [
       "   uncertain_radius  uncertain_radius_ratios  0.01  0.02  0.03  0.04  0.05  \\\n",
       "0            211.62                     0.06   1.0   1.0   1.0   1.0   1.0   \n",
       "1            282.16                     0.08   1.0   1.0   1.0   1.0   1.0   \n",
       "2            352.70                     0.10   1.0   1.0   1.0   1.0   1.0   \n",
       "3            423.24                     0.12   1.0   1.0   1.0   1.0   1.0   \n",
       "\n",
       "     0.06    0.07    0.08    0.09    0.1  \n",
       "0  1.0000  1.0000  1.0000  1.0000  1.000  \n",
       "1  1.0000  1.0000  1.0000  1.0000  0.975  \n",
       "2  1.0000  0.9875  0.9375  0.8000  0.600  \n",
       "3  0.9375  0.7750  0.5000  0.1625  0.000  "
      ]
     },
     "execution_count": 565,
     "metadata": {},
     "output_type": "execute_result"
    }
   ],
   "source": [
    "pd.DataFrame(robustness_dicts[1])"
   ]
  },
  {
   "cell_type": "code",
   "execution_count": 566,
   "id": "f1388337",
   "metadata": {
    "ExecuteTime": {
     "end_time": "2024-05-22T01:49:57.555286Z",
     "start_time": "2024-05-22T01:49:57.527682Z"
    }
   },
   "outputs": [],
   "source": [
    "robustness_zonotope_mean = sum([pd.DataFrame(robustness_dicts[i]).iloc[:, 2:] for i in range(5)])/5\n",
    "robustness_zonotope_std = (sum([(pd.DataFrame(robustness_dicts[i]).iloc[:, 2:]-robustness_zonotope_mean)**2 for i in range(5)])/5).apply(np.sqrt)\n"
   ]
  },
  {
   "cell_type": "code",
   "execution_count": 568,
   "id": "240627f0",
   "metadata": {
    "ExecuteTime": {
     "end_time": "2024-05-22T01:50:11.972072Z",
     "start_time": "2024-05-22T01:50:11.442999Z"
    }
   },
   "outputs": [
    {
     "data": {
      "image/png": "[encoded data removed]",
      "text/plain": [
       "<Figure size 2400x400 with 4 Axes>"
      ]
     },
     "metadata": {
      "needs_background": "light"
     },
     "output_type": "display_data"
    }
   ],
   "source": [
    "uncertain_pcts = (np.array([0, 0.01, 0.02, 0.03, 0.04, 0.05, 0.06, 0.07, 0.08, 0.09, 0.1])*100)\n",
    "# uncertain_radius_ratios = [0.06, 0.08, 0.10, 0.12]\n",
    "\n",
    "zonotope_data_mean_dict = dict()\n",
    "zonotope_data_std_dict = dict()\n",
    "for i, radius_ratio in enumerate(uncertain_radius_ratios):\n",
    "    zonotope_data_mean_dict[radius_ratio] = np.append([1], robustness_zonotope_mean.iloc[i, :].to_numpy())\n",
    "    zonotope_data_std_dict[radius_ratio] = np.append([0], robustness_zonotope_std.iloc[i, :].to_numpy())\n",
    "\n",
    "fig, axes = plt.subplots(nrows=1, ncols=4, figsize=(12, 2), sharex=True, dpi=200)\n",
    "\n",
    "for i in range(4):\n",
    "    uncertain_radius = uncertain_radiuses[i]\n",
    "    uncertain_radius_ratio = uncertain_radius_ratios[i]\n",
    "    axes[i].errorbar(uncertain_pcts, zonotope_data_mean_dict[uncertain_radius_ratio],\n",
    "                     yerr=3*zonotope_data_std_dict[uncertain_radius_ratio],\n",
    "                     marker='o', color='red', label='ZORRO', linestyle='-')\n",
    "    radius_title = str(int(uncertain_radius_ratio*100))\n",
    "    if uncertain_radius_ratio == 0.1:\n",
    "        radius_title = '10'\n",
    "    axes[i].set_title(f'Uncertain Radius: {radius_title} %')\n",
    "    if i == 0:\n",
    "        axes[i].set_ylabel('Robustness Ratio', fontsize=12)\n",
    "    axes[i].set_ylim(-0.05, 1.05)\n",
    "    axes[i].xaxis.set_major_formatter(FormatStrFormatter('%.1f'))\n",
    "    axes[i].grid(True)\n",
    "\n",
    "# Adjust layout\n",
    "lines_labels = [axes[0].get_legend_handles_labels()]\n",
    "lines, labels = [sum(lol, []) for lol in zip(*lines_labels)]\n",
    "fig.legend(lines, labels, loc = (0.85, 0.03), ncol=2, frameon=False)\n",
    "\n",
    "plt.subplots_adjust(wspace=0.2, top=0.8, bottom=0.25, left=0.1, right=0.9)\n",
    "fig.supxlabel('Uncertain Data Percentage (%)', fontsize=12, verticalalignment='bottom')\n",
    "# plt.tight_layout()\n",
    "# plt.show()\n",
    "plt.savefig('mpg-features-lineplot.pdf', bbox_inches='tight')"
   ]
  },
  {
   "cell_type": "code",
   "execution_count": null,
   "id": "78e8b407",
   "metadata": {},
   "outputs": [],
   "source": []
  },
  {
   "cell_type": "code",
   "execution_count": null,
   "id": "6672de78",
   "metadata": {},
   "outputs": [],
   "source": []
  },
  {
   "cell_type": "markdown",
   "id": "23e995d9",
   "metadata": {},
   "source": [
    "## Regularization"
   ]
  },
  {
   "cell_type": "code",
   "execution_count": 424,
   "id": "3f24e7a1",
   "metadata": {
    "ExecuteTime": {
     "end_time": "2024-05-08T23:52:08.199857Z",
     "start_time": "2024-05-08T23:52:08.162315Z"
    },
    "code_folding": [
     1
    ]
   },
   "outputs": [],
   "source": [
    "# use interval hull for order reduction\n",
    "def compute_robustness_ratio_IH(X_train, y_train, X_test, y_test, robustness_radius, uncertain_attr, \n",
    "                                uncertain_num, uncertain_radius=None, uncertain_radius_ratio=None, \n",
    "                                lamb=0.1, seed=42):\n",
    "    X, y, symbols_in_data, ss = inject_ranges(X=X_train, y=y_train, uncertain_attr=uncertain_attr, \n",
    "                                              uncertain_num=uncertain_num, uncertain_radius=uncertain_radius, \n",
    "                                              uncertain_radius_pct=uncertain_radius_ratio, seed=seed)\n",
    "    \n",
    "    n = X.shape[0]\n",
    "    XS = copy.deepcopy(X)\n",
    "    XR = copy.deepcopy(X)\n",
    "    yS = copy.deepcopy(y)\n",
    "    yR = copy.deepcopy(y)\n",
    "\n",
    "    for row in range(X.shape[0]):\n",
    "        for col in range(X.shape[1]):\n",
    "            expr = X[row, col]\n",
    "            if isinstance(expr, sympy.Expr) and expr.free_symbols:\n",
    "                XR[row, col] = expr.subs(dict([(symb, 0) for symb in expr.free_symbols]))\n",
    "                XS[row, col] = expr - XR[row, col]\n",
    "            else:\n",
    "                XR[row, col] = expr\n",
    "                XS[row, col] = 0\n",
    "\n",
    "    for row in range(y.shape[0]):\n",
    "        expr = y[row]\n",
    "        if isinstance(expr, sympy.Expr) and expr.free_symbols:\n",
    "            yR[row] = expr.subs(dict([(symb, 0) for symb in expr.free_symbols]))\n",
    "            yS[row] = expr - yR[row]\n",
    "        else:\n",
    "            yR[row] = expr\n",
    "            yS[row] = 0\n",
    "\n",
    "    sigma = np.ones(X.shape[1])\n",
    "    V = sympy.Matrix(np.identity(X.shape[1]))\n",
    "\n",
    "    wR = (XR.T*XR).inv()*XR.T*yR\n",
    "    wS_non_data = 0.0*XR.row(0).T\n",
    "    for i in range(X.shape[1]):\n",
    "        wS_non_data = wS_non_data + sb(f'k{i}')*sb(f'ep{i}')*V.row(i).T\n",
    "    \n",
    "    eigenvalues = 1 - sigma/n*2*lamb\n",
    "    for eigenvalue in eigenvalues:\n",
    "        assert abs(eigenvalue) <= 1\n",
    "    \n",
    "    A = V.T*np.diag(eigenvalues)*V\n",
    "\n",
    "    wS_data = (np.identity(X.shape[1])-A).inv()*((XS.T*XR + XR.T*XS)*wR - XS.T*yR - XR.T*yS)*(-lamb*2/n)\n",
    "\n",
    "    wS = wS_non_data + wS_data\n",
    "    w = wS + wR\n",
    "    w_prime = (-lamb*2/n)*((XS.T*XR + XR.T*XS + XS.T*XS)*wS + XS.T*XS*wR - XS.T*yS).expand()\n",
    "    w_prime_projected = V*w_prime\n",
    "    \n",
    "    eqs = []\n",
    "    for d in range(X.shape[1]):\n",
    "        eq1 = (1-abs(eigenvalues[d]))*sb(f'k{d}')\n",
    "        eq2 = 0\n",
    "        coef_dict = dict()\n",
    "        coef_dict['const'] = 0\n",
    "        for i in range(X.shape[1]):\n",
    "            coef_dict[sb(f'k{i}')] = 0\n",
    "        for arg in w_prime_projected[d].args:\n",
    "            contain_k = False\n",
    "            for i in range(X.shape[1]):\n",
    "                symb_k = sb(f'k{i}')\n",
    "                if symb_k in arg.free_symbols:\n",
    "                    coef_dict[symb_k] = coef_dict[symb_k] + abs(arg.args[0])\n",
    "                    contain_k = True\n",
    "                    break\n",
    "            if not(contain_k):\n",
    "                coef_dict['const'] = coef_dict['const'] + abs(arg.args[0])\n",
    "        eq2 = coef_dict['const']\n",
    "        for i in range(X.shape[1]):\n",
    "            eq2 = eq2 + sb(f'k{i}')*coef_dict[sb(f'k{i}')]\n",
    "        eqs.append(sympy.Eq(eq1, eq2))\n",
    "        \n",
    "    result = sympy.solve(eqs, [sb(f'k{i}') for i in range(X.shape[1])])\n",
    "    print(eqs)\n",
    "    print(result)\n",
    "    param = wR + wS.subs(result)\n",
    "    \n",
    "    test_preds = sympy.Matrix(np.append(np.ones((len(X_test), 1)), ss.transform(X_test), axis=1))*param\n",
    "    robustness_ls = []\n",
    "    for pred in test_preds:\n",
    "        pred_range_radius = 0\n",
    "        for arg in pred.args:\n",
    "            if arg.free_symbols:\n",
    "                pred_range_radius += abs(arg.args[0])\n",
    "        if pred_range_radius <= robustness_radius:\n",
    "            robustness_ls.append(1)\n",
    "        else:\n",
    "            robustness_ls.append(0)\n",
    "    \n",
    "#     print(param)\n",
    "    return np.mean(robustness_ls)\n"
   ]
  },
  {
   "cell_type": "code",
   "execution_count": 51,
   "id": "827cc21c",
   "metadata": {
    "ExecuteTime": {
     "end_time": "2024-05-13T06:35:18.346564Z",
     "start_time": "2024-05-13T06:35:18.305918Z"
    },
    "code_folding": [
     0
    ]
   },
   "outputs": [
    {
     "name": "stdout",
     "output_type": "stream",
     "text": [
      "Minimum Value: 0\n",
      "Maximum Value: 4\n"
     ]
    }
   ],
   "source": [
    "def min_max_sympy_expression(expr):\n",
    "    \"\"\"\n",
    "    Calculates the minimum and maximum values of a second order polynomial \n",
    "    expression with one symbol, where the symbol ranges from -1 to 1.\n",
    "    \n",
    "    Args:\n",
    "    expr (sympy.Expr): A SymPy expression.\n",
    "    \n",
    "    Returns:\n",
    "    tuple: (minimum value, maximum value) of the expression over the interval [-1, 1].\n",
    "    \"\"\"\n",
    "    # Extract the symbol from the expression\n",
    "    if len(expr.free_symbols) != 1:\n",
    "        raise ValueError(\"The expression must contain exactly one symbol.\")\n",
    "    \n",
    "    symbol = list(expr.free_symbols)[0]\n",
    "    \n",
    "    # Derivative of the expression\n",
    "    df = sympy.diff(expr, symbol)\n",
    "    \n",
    "    # Find critical points\n",
    "    critical_points = sympy.solveset(df, symbol, domain=sympy.Interval(-1, 1))\n",
    "    \n",
    "    # Evaluate the expression at critical points and at the interval boundaries\n",
    "    critical_values = [expr.subs(symbol, cp) for cp in critical_points]\n",
    "    boundary_values = [expr.subs(symbol, b) for b in [-1, 1]]\n",
    "    \n",
    "    # Combine all values to determine the min and max\n",
    "    all_values = critical_values + boundary_values\n",
    "    min_value = min(all_values)\n",
    "    max_value = max(all_values)\n",
    "    \n",
    "    return min_value, max_value\n",
    "\n",
    "\n",
    "# Example usage:\n",
    "x = sympy.symbols('x')\n",
    "expr = x**2 - 2*x + 1\n",
    "min_val, max_val = min_max_sympy_expression(expr)\n",
    "print(\"Minimum Value:\", min_val)\n",
    "print(\"Maximum Value:\", max_val)"
   ]
  },
  {
   "cell_type": "code",
   "execution_count": 106,
   "id": "47e11b86",
   "metadata": {
    "ExecuteTime": {
     "end_time": "2024-05-13T19:07:14.128323Z",
     "start_time": "2024-05-13T19:07:14.089822Z"
    },
    "code_folding": [
     10
    ]
   },
   "outputs": [],
   "source": [
    "def get_expr_range_radius(expr):\n",
    "    expr_range_radius = 0\n",
    "    for arg in expr.args:\n",
    "        if arg.free_symbols:\n",
    "            expr_range_radius += abs(arg.args[0])\n",
    "    return expr_range_radius\n",
    "\n",
    "def get_expr_center(expr):\n",
    "    return expr.subs(dict([(symb, 0) for symb in expr.free_symbols]))\n",
    "    \n",
    "def compute_robustness_ratio_reg(X_train, y_train, X_test, y_test, robustness_radius, uncertain_attr, \n",
    "                                 uncertain_num, uncertain_radius=None, uncertain_radius_ratio=None, \n",
    "                                 lr=0.03, reg=0, seed=42):\n",
    "    X, y, symbols_in_data, ss = inject_ranges(X=X_train, y=y_train, uncertain_attr=uncertain_attr, \n",
    "                                              uncertain_num=uncertain_num, uncertain_radius=uncertain_radius, \n",
    "                                              uncertain_radius_pct=uncertain_radius_ratio, seed=seed)\n",
    "    \n",
    "    n = X.shape[0]\n",
    "    XS = copy.deepcopy(X)\n",
    "    XR = copy.deepcopy(X)\n",
    "    yS = copy.deepcopy(y)\n",
    "    yR = copy.deepcopy(y)\n",
    "    y_test = sympy.Matrix(y_test.to_numpy().reshape(-1, 1))\n",
    "    X_test = sympy.Matrix(np.append(np.ones((len(X_test), 1)), ss.transform(X_test), axis=1))\n",
    "\n",
    "    for row in range(X.shape[0]):\n",
    "        for col in range(X.shape[1]):\n",
    "            expr = X[row, col]\n",
    "            if isinstance(expr, sympy.Expr) and expr.free_symbols:\n",
    "                XR[row, col] = expr.subs(dict([(symb, 0) for symb in expr.free_symbols]))\n",
    "                XS[row, col] = expr - XR[row, col]\n",
    "            else:\n",
    "                XR[row, col] = expr\n",
    "                XS[row, col] = 0\n",
    "\n",
    "    for row in range(y.shape[0]):\n",
    "        expr = y[row]\n",
    "        if isinstance(expr, sympy.Expr) and expr.free_symbols:\n",
    "            yR[row] = expr.subs(dict([(symb, 0) for symb in expr.free_symbols]))\n",
    "            yS[row] = expr - yR[row]\n",
    "        else:\n",
    "            yR[row] = expr\n",
    "            yS[row] = 0\n",
    "    \n",
    "    common_inv = (XR.T*XR + reg*n*np.identity(X.shape[1])).inv()\n",
    "    \n",
    "    V, sigma, VT = np.linalg.svd(np.array((XR.T*XR).tolist()).astype(float))\n",
    "    V = sympy.Matrix(V)\n",
    "    VT = sympy.Matrix(VT)\n",
    "\n",
    "    wR = common_inv*XR.T*yR\n",
    "    wS_data = common_inv*((XS.T*XR + XR.T*XS)*wR - XS.T*yR - XR.T*yS)\n",
    "    wS_non_data = 0.0*VT.row(0).T\n",
    "    for i in range(X.shape[1]):\n",
    "        wS_non_data = wS_non_data + sb(f'k{i}')*sb(f'ep{i}')*VT.row(i).T\n",
    "\n",
    "    eigenvalues = 1 - 2*lr*reg - 2*lr*sigma/n\n",
    "    for eigenvalue in eigenvalues:\n",
    "        assert eigenvalue <= 1\n",
    "        assert eigenvalue >= 0\n",
    "    \n",
    "    wS = wS_non_data + wS_data\n",
    "    w = wS + wR\n",
    "    w_prime = (-lr*2/n)*((XS.T*XR + XR.T*XS + XS.T*XS)*wS + XS.T*XS*wR - XS.T*yS).expand()\n",
    "    w_prime_projected = VT*w_prime\n",
    "    \n",
    "    eqs = []\n",
    "    for d in range(X.shape[1]):\n",
    "        eq1 = (1-abs(eigenvalues[d]))*sb(f'k{d}')\n",
    "        eq2 = 0\n",
    "        coef_dict = dict()\n",
    "        coef_dict['const'] = 0\n",
    "        for i in range(X.shape[1]):\n",
    "            coef_dict[sb(f'k{i}')] = 0\n",
    "        for arg in w_prime_projected[d].args:\n",
    "            contain_k = False\n",
    "            for i in range(X.shape[1]):\n",
    "                symb_k = sb(f'k{i}')\n",
    "                if symb_k in arg.free_symbols:\n",
    "                    coef_dict[symb_k] = coef_dict[symb_k] + abs(arg.args[0])\n",
    "                    contain_k = True\n",
    "                    break\n",
    "            if not(contain_k):\n",
    "                coef_dict['const'] = coef_dict['const'] + abs(arg.args[0])\n",
    "        eq2 = coef_dict['const']\n",
    "        for i in range(X.shape[1]):\n",
    "            eq2 = eq2 + sb(f'k{i}')*coef_dict[sb(f'k{i}')]\n",
    "        eqs.append(sympy.Eq(eq1, eq2))\n",
    "        \n",
    "    result = sympy.solve(eqs, [sb(f'k{i}') for i in range(X.shape[1])])\n",
    "    for ki in result:\n",
    "        assert result[ki] >= 0\n",
    "    param = wR + wS.subs(result)\n",
    "    \n",
    "    center_preds = X_test*get_expr_center(param)\n",
    "    print('one-poss-world:', [((center_preds - y_test).T*(center_preds - y_test)/n)[0]])\n",
    "    \n",
    "    test_preds = X_test*param\n",
    "    robustness_ls = []\n",
    "#     se_min_ls = []\n",
    "#     se_max_ls = []\n",
    "    for pred_id, pred in enumerate(test_preds):\n",
    "        label_test = y_test[pred_id]\n",
    "        pred_range_radius = get_expr_range_radius(pred)\n",
    "        if pred_range_radius <= robustness_radius:\n",
    "            robustness_ls.append(1)\n",
    "        else:\n",
    "            robustness_ls.append(0)\n",
    "#         pred_center = get_expr_center(pred)\n",
    "#         rewrite_pred = pred_center+pred_range_radius*sb('err_pred')\n",
    "#         se_min, se_max = min_max_sympy_expression((rewrite_pred-label_test)**2)\n",
    "#         se_min_ls.append(se_min)\n",
    "#         se_max_ls.append(se_max)\n",
    "    preds_diff = linearization([((test_preds - y_test).T*(test_preds - y_test)/n)[0]])[0]\n",
    "    preds_diff_center = get_expr_center(preds_diff)\n",
    "    preds_diff_radius = get_expr_range_radius(preds_diff)\n",
    "#     print(preds_diff_center)\n",
    "#     print(preds_diff_radius)\n",
    "    \n",
    "#     print(param)\n",
    "    return np.mean(robustness_ls), preds_diff_center - preds_diff_radius, \\\n",
    "           preds_diff_center + preds_diff_radius\n"
   ]
  },
  {
   "cell_type": "code",
   "execution_count": null,
   "id": "f14d1a32",
   "metadata": {
    "ExecuteTime": {
     "end_time": "2024-05-13T06:24:47.535457Z",
     "start_time": "2024-05-13T06:24:47.524260Z"
    }
   },
   "outputs": [],
   "source": []
  },
  {
   "cell_type": "markdown",
   "id": "3f453852",
   "metadata": {},
   "source": [
    "### Uncertain Labels"
   ]
  },
  {
   "cell_type": "code",
   "execution_count": 12,
   "id": "b8395430",
   "metadata": {
    "ExecuteTime": {
     "end_time": "2024-05-22T03:24:55.407597Z",
     "start_time": "2024-05-22T02:03:59.275967Z"
    },
    "scrolled": true
   },
   "outputs": [
    {
     "data": {
      "application/vnd.jupyter.widget-view+json": {
       "model_id": "",
       "version_major": 2,
       "version_minor": 0
      },
      "text/plain": [
       "Progess:   0%|          | 0/4 [00:00<?, ?it/s]"
      ]
     },
     "metadata": {},
     "output_type": "display_data"
    },
    {
     "data": {
      "application/vnd.jupyter.widget-view+json": {
       "model_id": "",
       "version_major": 2,
       "version_minor": 0
      },
      "text/plain": [
       "Varying Regularization Coefficient:   0%|          | 0/7 [00:00<?, ?it/s]"
      ]
     },
     "metadata": {},
     "output_type": "display_data"
    },
    {
     "name": "stdout",
     "output_type": "stream",
     "text": [
      "one-poss-world: [1.93532098061252]\n",
      "(0.825, 1.28055036425234, 2.59009159697269)\n",
      "one-poss-world: [1.94280212875598]\n",
      "(0.825, 1.29555815043546, 2.59004610707651)\n",
      "one-poss-world: [1.95728486456244]\n",
      "(0.825, 1.31097905115891, 2.60359067796597)\n",
      "one-poss-world: [1.97819786772122]\n",
      "(0.8625, 1.32730681332948, 2.62908892211296)\n",
      "one-poss-world: [2.00525926677026]\n",
      "(0.8625, 1.34292863550359, 2.66758989803692)\n",
      "one-poss-world: [2.03829695460416]\n",
      "(0.875, 1.36019084629971, 2.71640306290862)\n",
      "one-poss-world: [2.07717879672616]\n",
      "(0.8875, 1.38079813714375, 2.77355945630856)\n"
     ]
    },
    {
     "data": {
      "application/vnd.jupyter.widget-view+json": {
       "model_id": "",
       "version_major": 2,
       "version_minor": 0
      },
      "text/plain": [
       "Varying Regularization Coefficient:   0%|          | 0/7 [00:00<?, ?it/s]"
      ]
     },
     "metadata": {},
     "output_type": "display_data"
    },
    {
     "name": "stdout",
     "output_type": "stream",
     "text": [
      "one-poss-world: [1.93532098061252]\n",
      "(0.525, 1.10477649775506, 2.76586546346997)\n",
      "one-poss-world: [1.94280212875598]\n",
      "(0.5625, 1.13598311961051, 2.74962113790146)\n",
      "one-poss-world: [1.95728486456244]\n",
      "(0.6, 1.16585988348375, 2.74870984564114)\n",
      "one-poss-world: [1.97819786772122]\n",
      "(0.6375, 1.19539384065483, 2.76100189478761)\n",
      "one-poss-world: [2.00525926677026]\n",
      "(0.6875, 1.21931658859081, 2.79120194494970)\n",
      "one-poss-world: [2.03829695460416]\n",
      "(0.7125, 1.23721455467466, 2.83937935453367)\n",
      "one-poss-world: [2.07717879672616]\n",
      "(0.725, 1.25800067747787, 2.89635691597445)\n"
     ]
    },
    {
     "data": {
      "application/vnd.jupyter.widget-view+json": {
       "model_id": "",
       "version_major": 2,
       "version_minor": 0
      },
      "text/plain": [
       "Varying Regularization Coefficient:   0%|          | 0/7 [00:00<?, ?it/s]"
      ]
     },
     "metadata": {},
     "output_type": "display_data"
    },
    {
     "name": "stdout",
     "output_type": "stream",
     "text": [
      "one-poss-world: [1.93532098061252]\n",
      "(0.15, 0.727313417489940, 3.14332854373509)\n",
      "one-poss-world: [1.94280212875598]\n",
      "(0.1625, 0.768968310225549, 3.11663594728642)\n",
      "one-poss-world: [1.95728486456244]\n",
      "(0.2375, 0.807457636897024, 3.10711209222786)\n",
      "one-poss-world: [1.97819786772122]\n",
      "(0.25, 0.843302302669575, 3.11309343277287)\n",
      "one-poss-world: [2.00525926677026]\n",
      "(0.25, 0.871121232589150, 3.13939730095137)\n",
      "one-poss-world: [2.03829695460416]\n",
      "(0.275, 0.890597001647393, 3.18599690756094)\n",
      "one-poss-world: [2.07717879672616]\n",
      "(0.3, 0.911880904161893, 3.24247668929042)\n"
     ]
    },
    {
     "data": {
      "application/vnd.jupyter.widget-view+json": {
       "model_id": "",
       "version_major": 2,
       "version_minor": 0
      },
      "text/plain": [
       "Varying Regularization Coefficient:   0%|          | 0/7 [00:00<?, ?it/s]"
      ]
     },
     "metadata": {},
     "output_type": "display_data"
    },
    {
     "name": "stdout",
     "output_type": "stream",
     "text": [
      "one-poss-world: [1.93532098061252]\n",
      "(0.0625, 0.400783600312755, 3.46985836091228)\n",
      "one-poss-world: [1.94280212875598]\n",
      "(0.0625, 0.447388984528396, 3.43821527298357)\n",
      "one-poss-world: [1.95728486456244]\n",
      "(0.0625, 0.488592965401954, 3.42597676372293)\n",
      "one-poss-world: [1.97819786772122]\n",
      "(0.075, 0.525731040989752, 3.43066469445269)\n",
      "one-poss-world: [2.00525926677026]\n",
      "(0.075, 0.553645150385453, 3.45687338315506)\n",
      "one-poss-world: [2.03829695460416]\n",
      "(0.075, 0.572932771112296, 3.50366113809603)\n",
      "one-poss-world: [2.07717879672616]\n",
      "(0.0875, 0.593207462253185, 3.56115013119913)\n"
     ]
    },
    {
     "data": {
      "application/vnd.jupyter.widget-view+json": {
       "model_id": "",
       "version_major": 2,
       "version_minor": 0
      },
      "text/plain": [
       "Progess:   0%|          | 0/4 [00:00<?, ?it/s]"
      ]
     },
     "metadata": {},
     "output_type": "display_data"
    },
    {
     "data": {
      "application/vnd.jupyter.widget-view+json": {
       "model_id": "",
       "version_major": 2,
       "version_minor": 0
      },
      "text/plain": [
       "Varying Regularization Coefficient:   0%|          | 0/7 [00:00<?, ?it/s]"
      ]
     },
     "metadata": {},
     "output_type": "display_data"
    },
    {
     "name": "stdout",
     "output_type": "stream",
     "text": [
      "one-poss-world: [1.93532098061252]\n",
      "(0.8625, 1.16921743883460, 2.70142452239043)\n",
      "one-poss-world: [1.94280212875598]\n",
      "(0.8875, 1.22324877470657, 2.66235548280540)\n",
      "one-poss-world: [1.95728486456244]\n",
      "(0.9, 1.27697692706452, 2.63759280206036)\n",
      "one-poss-world: [1.97819786772122]\n",
      "(0.9, 1.32592006377807, 2.63047567166437)\n",
      "one-poss-world: [2.00525926677026]\n",
      "(0.9125, 1.37503627541913, 2.63548225812139)\n",
      "one-poss-world: [2.03829695460416]\n",
      "(0.9125, 1.41988858180660, 2.65670532740173)\n",
      "one-poss-world: [2.07717879672616]\n",
      "(0.9125, 1.45616918304933, 2.69818841040299)\n"
     ]
    },
    {
     "data": {
      "application/vnd.jupyter.widget-view+json": {
       "model_id": "",
       "version_major": 2,
       "version_minor": 0
      },
      "text/plain": [
       "Varying Regularization Coefficient:   0%|          | 0/7 [00:00<?, ?it/s]"
      ]
     },
     "metadata": {},
     "output_type": "display_data"
    },
    {
     "name": "stdout",
     "output_type": "stream",
     "text": [
      "one-poss-world: [1.93532098061252]\n",
      "(0.5875, 1.01900752317093, 2.85163443805410)\n",
      "one-poss-world: [1.94280212875598]\n",
      "(0.6125, 1.06570022278641, 2.81990403472555)\n",
      "one-poss-world: [1.95728486456244]\n",
      "(0.65, 1.11349957898708, 2.80107015013780)\n",
      "one-poss-world: [1.97819786772122]\n",
      "(0.6875, 1.15739042157738, 2.79900531386506)\n",
      "one-poss-world: [2.00525926677026]\n",
      "(0.7, 1.20168381976954, 2.80883471377097)\n",
      "one-poss-world: [2.03829695460416]\n",
      "(0.7125, 1.24211136462036, 2.83448254458797)\n",
      "one-poss-world: [2.07717879672616]\n",
      "(0.7625, 1.27421903904600, 2.88013855440631)\n"
     ]
    },
    {
     "data": {
      "application/vnd.jupyter.widget-view+json": {
       "model_id": "",
       "version_major": 2,
       "version_minor": 0
      },
      "text/plain": [
       "Varying Regularization Coefficient:   0%|          | 0/7 [00:00<?, ?it/s]"
      ]
     },
     "metadata": {},
     "output_type": "display_data"
    },
    {
     "name": "stdout",
     "output_type": "stream",
     "text": [
      "one-poss-world: [1.93532098061252]\n",
      "(0.2, 0.733078820189072, 3.13756314103596)\n",
      "one-poss-world: [1.94280212875598]\n",
      "(0.25, 0.788097359167097, 3.09750689834487)\n",
      "one-poss-world: [1.95728486456244]\n",
      "(0.275, 0.843590602602299, 3.07097912652259)\n",
      "one-poss-world: [1.97819786772122]\n",
      "(0.275, 0.893862572842572, 3.06253316259987)\n",
      "one-poss-world: [2.00525926677026]\n",
      "(0.3, 0.944057933754565, 3.06646059978595)\n",
      "one-poss-world: [2.03829695460416]\n",
      "(0.325, 0.989790286217465, 3.08680362299086)\n",
      "one-poss-world: [2.07717879672616]\n",
      "(0.35, 1.02657439785346, 3.12778319559885)\n"
     ]
    },
    {
     "data": {
      "application/vnd.jupyter.widget-view+json": {
       "model_id": "",
       "version_major": 2,
       "version_minor": 0
      },
      "text/plain": [
       "Varying Regularization Coefficient:   0%|          | 0/7 [00:00<?, ?it/s]"
      ]
     },
     "metadata": {},
     "output_type": "display_data"
    },
    {
     "name": "stdout",
     "output_type": "stream",
     "text": [
      "one-poss-world: [1.93532098061252]\n",
      "(0.075, 0.577004691554629, 3.29363726967040)\n",
      "one-poss-world: [1.94280212875598]\n",
      "(0.075, 0.634513808791827, 3.25109044872014)\n",
      "one-poss-world: [1.95728486456244]\n",
      "(0.0875, 0.689726457066778, 3.22484327205811)\n",
      "one-poss-world: [1.97819786772122]\n",
      "(0.0875, 0.738013418710821, 3.21838231673162)\n",
      "one-poss-world: [2.00525926677026]\n",
      "(0.1, 0.785971796116817, 3.22454673742370)\n",
      "one-poss-world: [2.03829695460416]\n",
      "(0.125, 0.828880614103006, 3.24771329510532)\n",
      "one-poss-world: [2.07717879672616]\n",
      "(0.1375, 0.858694158435560, 3.29566343501675)\n"
     ]
    },
    {
     "data": {
      "application/vnd.jupyter.widget-view+json": {
       "model_id": "",
       "version_major": 2,
       "version_minor": 0
      },
      "text/plain": [
       "Progess:   0%|          | 0/4 [00:00<?, ?it/s]"
      ]
     },
     "metadata": {},
     "output_type": "display_data"
    },
    {
     "data": {
      "application/vnd.jupyter.widget-view+json": {
       "model_id": "",
       "version_major": 2,
       "version_minor": 0
      },
      "text/plain": [
       "Varying Regularization Coefficient:   0%|          | 0/7 [00:00<?, ?it/s]"
      ]
     },
     "metadata": {},
     "output_type": "display_data"
    },
    {
     "name": "stdout",
     "output_type": "stream",
     "text": [
      "one-poss-world: [1.93532098061252]\n",
      "(0.825, 1.25450001439985, 2.61614194682519)\n",
      "one-poss-world: [1.94280212875598]\n",
      "(0.85, 1.28084518188284, 2.60475907562913)\n",
      "one-poss-world: [1.95728486456244]\n",
      "(0.8625, 1.30886073464178, 2.60570899448310)\n",
      "one-poss-world: [1.97819786772122]\n",
      "(0.875, 1.33606039618796, 2.62033533925448)\n",
      "one-poss-world: [2.00525926677026]\n",
      "(0.9125, 1.36717385237755, 2.64334468116297)\n",
      "one-poss-world: [2.03829695460416]\n",
      "(0.925, 1.39908198084021, 2.67751192836812)\n",
      "one-poss-world: [2.07717879672616]\n",
      "(0.95, 1.42827015593832, 2.72608743751399)\n"
     ]
    },
    {
     "data": {
      "application/vnd.jupyter.widget-view+json": {
       "model_id": "",
       "version_major": 2,
       "version_minor": 0
      },
      "text/plain": [
       "Varying Regularization Coefficient:   0%|          | 0/7 [00:00<?, ?it/s]"
      ]
     },
     "metadata": {},
     "output_type": "display_data"
    },
    {
     "name": "stdout",
     "output_type": "stream",
     "text": [
      "one-poss-world: [1.93532098061252]\n",
      "(0.5375, 1.02669866571413, 2.84394329551090)\n",
      "one-poss-world: [1.94280212875598]\n",
      "(0.5875, 1.05473642205400, 2.83086783545797)\n",
      "one-poss-world: [1.95728486456244]\n",
      "(0.6125, 1.08409434926434, 2.83047537986055)\n",
      "one-poss-world: [1.97819786772122]\n",
      "(0.6125, 1.11268115115226, 2.84371458429018)\n",
      "one-poss-world: [2.00525926677026]\n",
      "(0.625, 1.14514256610601, 2.86537596743450)\n",
      "one-poss-world: [2.03829695460416]\n",
      "(0.6375, 1.17419378555163, 2.90240012365670)\n",
      "one-poss-world: [2.07717879672616]\n",
      "(0.65, 1.19720575771665, 2.95715183573566)\n"
     ]
    },
    {
     "data": {
      "application/vnd.jupyter.widget-view+json": {
       "model_id": "",
       "version_major": 2,
       "version_minor": 0
      },
      "text/plain": [
       "Varying Regularization Coefficient:   0%|          | 0/7 [00:00<?, ?it/s]"
      ]
     },
     "metadata": {},
     "output_type": "display_data"
    },
    {
     "name": "stdout",
     "output_type": "stream",
     "text": [
      "one-poss-world: [1.93532098061252]\n",
      "(0.2375, 0.800961084245648, 3.06968087697938)\n",
      "one-poss-world: [1.94280212875598]\n",
      "(0.2625, 0.834284994667461, 3.05131926284450)\n",
      "one-poss-world: [1.95728486456244]\n",
      "(0.275, 0.868579619196844, 3.04599010992804)\n",
      "one-poss-world: [1.97819786772122]\n",
      "(0.3125, 0.896689433405258, 3.05970630203718)\n",
      "one-poss-world: [2.00525926677026]\n",
      "(0.375, 0.923226042051432, 3.08729249148908)\n",
      "one-poss-world: [2.03829695460416]\n",
      "(0.3875, 0.946346814023471, 3.13024709518486)\n",
      "one-poss-world: [2.07717879672616]\n",
      "(0.4, 0.963271334224379, 3.19108625922793)\n"
     ]
    },
    {
     "data": {
      "application/vnd.jupyter.widget-view+json": {
       "model_id": "",
       "version_major": 2,
       "version_minor": 0
      },
      "text/plain": [
       "Varying Regularization Coefficient:   0%|          | 0/7 [00:00<?, ?it/s]"
      ]
     },
     "metadata": {},
     "output_type": "display_data"
    },
    {
     "name": "stdout",
     "output_type": "stream",
     "text": [
      "one-poss-world: [1.93532098061252]\n",
      "(0.1375, 0.634114723453208, 3.23652723777182)\n",
      "one-poss-world: [1.94280212875598]\n",
      "(0.15, 0.670380256297800, 3.21522400121416)\n",
      "one-poss-world: [1.95728486456244]\n",
      "(0.15, 0.707373244061499, 3.20719648506339)\n",
      "one-poss-world: [1.97819786772122]\n",
      "(0.15, 0.736119592778494, 3.22027614266395)\n",
      "one-poss-world: [2.00525926677026]\n",
      "(0.1625, 0.762611863288386, 3.24790667025213)\n",
      "one-poss-world: [2.03829695460416]\n",
      "(0.175, 0.786043410802426, 3.29055049840590)\n",
      "one-poss-world: [2.07717879672616]\n",
      "(0.1875, 0.803658566374771, 3.35069902707754)\n"
     ]
    },
    {
     "data": {
      "application/vnd.jupyter.widget-view+json": {
       "model_id": "",
       "version_major": 2,
       "version_minor": 0
      },
      "text/plain": [
       "Progess:   0%|          | 0/4 [00:00<?, ?it/s]"
      ]
     },
     "metadata": {},
     "output_type": "display_data"
    },
    {
     "data": {
      "application/vnd.jupyter.widget-view+json": {
       "model_id": "",
       "version_major": 2,
       "version_minor": 0
      },
      "text/plain": [
       "Varying Regularization Coefficient:   0%|          | 0/7 [00:00<?, ?it/s]"
      ]
     },
     "metadata": {},
     "output_type": "display_data"
    },
    {
     "name": "stdout",
     "output_type": "stream",
     "text": [
      "one-poss-world: [1.93532098061252]\n",
      "(0.875, 1.38302864483815, 2.48761331638689)\n",
      "one-poss-world: [1.94280212875598]\n",
      "(0.875, 1.39076022934213, 2.49484402816984)\n",
      "one-poss-world: [1.95728486456244]\n",
      "(0.9, 1.39808475882766, 2.51648497029723)\n",
      "one-poss-world: [1.97819786772122]\n",
      "(0.9125, 1.40270039600493, 2.55369533943751)\n",
      "one-poss-world: [2.00525926677026]\n",
      "(0.9375, 1.41024839444656, 2.60027013909395)\n",
      "one-poss-world: [2.03829695460416]\n",
      "(0.9375, 1.41764026447266, 2.65895364473567)\n",
      "one-poss-world: [2.07717879672616]\n",
      "(0.9625, 1.43116829486022, 2.72318929859209)\n"
     ]
    },
    {
     "data": {
      "application/vnd.jupyter.widget-view+json": {
       "model_id": "",
       "version_major": 2,
       "version_minor": 0
      },
      "text/plain": [
       "Varying Regularization Coefficient:   0%|          | 0/7 [00:00<?, ?it/s]"
      ]
     },
     "metadata": {},
     "output_type": "display_data"
    },
    {
     "name": "stdout",
     "output_type": "stream",
     "text": [
      "one-poss-world: [1.93532098061252]\n",
      "(0.625, 1.25126049968473, 2.61938146154030)\n",
      "one-poss-world: [1.94280212875598]\n",
      "(0.65, 1.26216162838110, 2.62344262913086)\n",
      "one-poss-world: [1.95728486456244]\n",
      "(0.7, 1.27306054692731, 2.64150918219758)\n",
      "one-poss-world: [1.97819786772122]\n",
      "(0.7375, 1.28137562509039, 2.67502011035205)\n",
      "one-poss-world: [2.00525926677026]\n",
      "(0.7875, 1.28487244739586, 2.72564608614466)\n",
      "one-poss-world: [2.03829695460416]\n",
      "(0.8, 1.28707378972831, 2.78952011948002)\n",
      "one-poss-world: [2.07717879672616]\n",
      "(0.8125, 1.29535071416034, 2.85900687929197)\n"
     ]
    },
    {
     "data": {
      "application/vnd.jupyter.widget-view+json": {
       "model_id": "",
       "version_major": 2,
       "version_minor": 0
      },
      "text/plain": [
       "Varying Regularization Coefficient:   0%|          | 0/7 [00:00<?, ?it/s]"
      ]
     },
     "metadata": {},
     "output_type": "display_data"
    },
    {
     "name": "stdout",
     "output_type": "stream",
     "text": [
      "one-poss-world: [1.93532098061252]\n",
      "(0.225, 0.916345906610961, 2.95429605461407)\n",
      "one-poss-world: [1.94280212875598]\n",
      "(0.225, 0.929178974406291, 2.95642528310567)\n",
      "one-poss-world: [1.95728486456244]\n",
      "(0.25, 0.937633635328111, 2.97693609379677)\n",
      "one-poss-world: [1.97819786772122]\n",
      "(0.275, 0.942152812083535, 3.01424292335891)\n",
      "one-poss-world: [2.00525926677026]\n",
      "(0.35, 0.941258365383807, 3.06926016815671)\n",
      "one-poss-world: [2.03829695460416]\n",
      "(0.3875, 0.934476636633817, 3.14211727257451)\n",
      "one-poss-world: [2.07717879672616]\n",
      "(0.4, 0.933856901110675, 3.22050069234164)\n"
     ]
    },
    {
     "data": {
      "application/vnd.jupyter.widget-view+json": {
       "model_id": "",
       "version_major": 2,
       "version_minor": 0
      },
      "text/plain": [
       "Varying Regularization Coefficient:   0%|          | 0/7 [00:00<?, ?it/s]"
      ]
     },
     "metadata": {},
     "output_type": "display_data"
    },
    {
     "name": "stdout",
     "output_type": "stream",
     "text": [
      "one-poss-world: [1.93532098061252]\n",
      "(0.075, 0.743217633428116, 3.12742432779692)\n",
      "one-poss-world: [1.94280212875598]\n",
      "(0.1, 0.750939543835758, 3.13466471367621)\n",
      "one-poss-world: [1.95728486456244]\n",
      "(0.1, 0.757415150356835, 3.15715457876805)\n",
      "one-poss-world: [1.97819786772122]\n",
      "(0.1125, 0.760374386872079, 3.19602134857036)\n",
      "one-poss-world: [2.00525926677026]\n",
      "(0.1125, 0.755365956190936, 3.25515257734958)\n",
      "one-poss-world: [2.03829695460416]\n",
      "(0.1125, 0.741194292007542, 3.33539961720079)\n",
      "one-poss-world: [2.07717879672616]\n",
      "(0.1125, 0.732823113485182, 3.42153447996713)\n"
     ]
    },
    {
     "data": {
      "application/vnd.jupyter.widget-view+json": {
       "model_id": "",
       "version_major": 2,
       "version_minor": 0
      },
      "text/plain": [
       "Progess:   0%|          | 0/4 [00:00<?, ?it/s]"
      ]
     },
     "metadata": {},
     "output_type": "display_data"
    },
    {
     "data": {
      "application/vnd.jupyter.widget-view+json": {
       "model_id": "",
       "version_major": 2,
       "version_minor": 0
      },
      "text/plain": [
       "Varying Regularization Coefficient:   0%|          | 0/7 [00:00<?, ?it/s]"
      ]
     },
     "metadata": {},
     "output_type": "display_data"
    },
    {
     "name": "stdout",
     "output_type": "stream",
     "text": [
      "one-poss-world: [1.93532098061252]\n",
      "(0.8, 1.20332292086009, 2.66731904036495)\n",
      "one-poss-world: [1.94280212875598]\n",
      "(0.8125, 1.23916397797086, 2.64644027954111)\n",
      "one-poss-world: [1.95728486456244]\n",
      "(0.8375, 1.27073864206027, 2.64383108706462)\n",
      "one-poss-world: [1.97819786772122]\n",
      "(0.85, 1.30122123936302, 2.65517449607942)\n",
      "one-poss-world: [2.00525926677026]\n",
      "(0.8875, 1.32564254385909, 2.68487598968142)\n",
      "one-poss-world: [2.03829695460416]\n",
      "(0.8875, 1.35021014077549, 2.72638376843283)\n",
      "one-poss-world: [2.07717879672616]\n",
      "(0.9375, 1.37935589630669, 2.77500169714562)\n"
     ]
    },
    {
     "data": {
      "application/vnd.jupyter.widget-view+json": {
       "model_id": "",
       "version_major": 2,
       "version_minor": 0
      },
      "text/plain": [
       "Varying Regularization Coefficient:   0%|          | 0/7 [00:00<?, ?it/s]"
      ]
     },
     "metadata": {},
     "output_type": "display_data"
    },
    {
     "name": "stdout",
     "output_type": "stream",
     "text": [
      "one-poss-world: [1.93532098061252]\n",
      "(0.5625, 1.00866259207352, 2.86197936915151)\n",
      "one-poss-world: [1.94280212875598]\n",
      "(0.625, 1.05101864316469, 2.83458561434727)\n",
      "one-poss-world: [1.95728486456244]\n",
      "(0.6375, 1.08431412317448, 2.83025560595040)\n",
      "one-poss-world: [1.97819786772122]\n",
      "(0.6375, 1.11534839100632, 2.84104734443612)\n",
      "one-poss-world: [2.00525926677026]\n",
      "(0.6625, 1.13968792316917, 2.87083061037135)\n",
      "one-poss-world: [2.03829695460416]\n",
      "(0.6875, 1.16255747497356, 2.91403643423476)\n",
      "one-poss-world: [2.07717879672616]\n",
      "(0.725, 1.18915821856875, 2.96519937488356)\n"
     ]
    },
    {
     "data": {
      "application/vnd.jupyter.widget-view+json": {
       "model_id": "",
       "version_major": 2,
       "version_minor": 0
      },
      "text/plain": [
       "Varying Regularization Coefficient:   0%|          | 0/7 [00:00<?, ?it/s]"
      ]
     },
     "metadata": {},
     "output_type": "display_data"
    },
    {
     "name": "stdout",
     "output_type": "stream",
     "text": [
      "one-poss-world: [1.93532098061252]\n",
      "(0.175, 0.739768732988275, 3.13087322823676)\n",
      "one-poss-world: [1.94280212875598]\n",
      "(0.2125, 0.782542714284653, 3.10306154322731)\n",
      "one-poss-world: [1.95728486456244]\n",
      "(0.2125, 0.815021690678673, 3.09954803844621)\n",
      "one-poss-world: [1.97819786772122]\n",
      "(0.225, 0.841564029089949, 3.11483170635249)\n",
      "one-poss-world: [2.00525926677026]\n",
      "(0.25, 0.855586089075202, 3.15493244446531)\n",
      "one-poss-world: [2.03829695460416]\n",
      "(0.3, 0.868189572250771, 3.20840433695756)\n",
      "one-poss-world: [2.07717879672616]\n",
      "(0.35, 0.883878515299292, 3.27047907815302)\n"
     ]
    },
    {
     "data": {
      "application/vnd.jupyter.widget-view+json": {
       "model_id": "",
       "version_major": 2,
       "version_minor": 0
      },
      "text/plain": [
       "Varying Regularization Coefficient:   0%|          | 0/7 [00:00<?, ?it/s]"
      ]
     },
     "metadata": {},
     "output_type": "display_data"
    },
    {
     "name": "stdout",
     "output_type": "stream",
     "text": [
      "one-poss-world: [1.93532098061252]\n",
      "(0.0375, 0.545036934099701, 3.32560502712533)\n",
      "one-poss-world: [1.94280212875598]\n",
      "(0.05, 0.579108977210539, 3.30649528030143)\n",
      "one-poss-world: [1.95728486456244]\n",
      "(0.075, 0.604782402761523, 3.30978732636336)\n",
      "one-poss-world: [1.97819786772122]\n",
      "(0.075, 0.624079447471401, 3.33231628797104)\n",
      "one-poss-world: [2.00525926677026]\n",
      "(0.075, 0.630754129786373, 3.37976440375414)\n",
      "one-poss-world: [2.03829695460416]\n",
      "(0.125, 0.636045832865051, 3.44054807634328)\n",
      "one-poss-world: [2.07717879672616]\n",
      "(0.1375, 0.644845176303887, 3.50951241714843)\n"
     ]
    }
   ],
   "source": [
    "robustness_ratio_dicts = []\n",
    "max_mse_dicts = []\n",
    "min_mse_dicts = []\n",
    "for seed in range(5):\n",
    "    # mpg +- 2 is robust\n",
    "    robustness_radius = 2\n",
    "    # uncertain label +- 10\n",
    "    uncertain_radius = 10\n",
    "    uncertain_pcts = [0.08, 0.10, 0.12, 0.14]\n",
    "    # regs = [0, 0.001, 0.003, 0.01, 0.03]\n",
    "    regs = [0, 0.005, 0.01, 0.015, 0.02, 0.025, 0.03]\n",
    "\n",
    "    robustness_ratio_dict = dict()\n",
    "    max_mse_dict = dict()\n",
    "    min_mse_dict = dict()\n",
    "    # robustness_dict['uncertain_radius'] = uncertain_radiuses\n",
    "    robustness_ratio_dict['Reg. Coef.'] = regs\n",
    "    for uncertain_pct in tqdm(uncertain_pcts, desc='Progess'):\n",
    "        robustness_ratio_dict[uncertain_pct] = list()\n",
    "        max_mse_dict[uncertain_pct] = list()\n",
    "        min_mse_dict[uncertain_pct] = list()\n",
    "        uncertain_num = int(uncertain_pct*len(y_train))\n",
    "        for reg in tqdm(regs, desc=f'Varying Regularization Coefficient'):\n",
    "            res = compute_robustness_ratio_reg(X_train, y_train, X_test, y_test, \n",
    "                                               uncertain_attr='y', uncertain_num=uncertain_num, \n",
    "                                               uncertain_radius=uncertain_radius, \n",
    "                                               robustness_radius=robustness_radius, \n",
    "                                               reg=reg, seed=seed)\n",
    "            robustness_ratio, min_mse, max_mse = res\n",
    "            print(res)\n",
    "            robustness_ratio_dict[uncertain_pct].append(robustness_ratio)\n",
    "            max_mse_dict[uncertain_pct].append(max_mse)\n",
    "            min_mse_dict[uncertain_pct].append(min_mse)\n",
    "    robustness_ratio_dicts.append(robustness_ratio_dict)\n",
    "    max_mse_dicts.append(max_mse_dict)\n",
    "    min_mse_dicts.append(min_mse_dict)"
   ]
  },
  {
   "cell_type": "code",
   "execution_count": 40,
   "id": "719d80ec",
   "metadata": {
    "ExecuteTime": {
     "end_time": "2024-05-22T05:26:02.128742Z",
     "start_time": "2024-05-22T05:26:02.109634Z"
    }
   },
   "outputs": [],
   "source": [
    "robustness_ratio_zonotope_mean = (sum([pd.DataFrame(robustness_ratio_dicts[i]).iloc[:, 1:] for i in range(5)])/5).astype(float)\n",
    "robustness_ratio_zonotope_std = (sum([(pd.DataFrame(robustness_ratio_dicts[i]).iloc[:, 1:]-robustness_ratio_zonotope_mean)**2 for i in range(5)])/5).astype(float).apply(np.sqrt)\n",
    "max_mse_zonotope_mean = (sum([pd.DataFrame(max_mse_dicts[i]) for i in range(5)])/5).astype(float)\n",
    "max_mse_zonotope_std = (sum([(pd.DataFrame(max_mse_dicts[i])-max_mse_zonotope_mean)**2 for i in range(5)])/5).astype(float).apply(np.sqrt)\n"
   ]
  },
  {
   "cell_type": "code",
   "execution_count": 46,
   "id": "900ce2a7",
   "metadata": {
    "ExecuteTime": {
     "end_time": "2024-05-22T06:46:29.375109Z",
     "start_time": "2024-05-22T06:46:28.694275Z"
    }
   },
   "outputs": [
    {
     "data": {
      "image/png": "[encoded data removed]",
      "text/plain": [
       "<Figure size 2400x400 with 8 Axes>"
      ]
     },
     "metadata": {
      "needs_background": "light"
     },
     "output_type": "display_data"
    }
   ],
   "source": [
    "from matplotlib.ticker import FormatStrFormatter\n",
    "\n",
    "fig, axes = plt.subplots(nrows=1, ncols=4, figsize=(12, 2), sharex=True, dpi=200)\n",
    "color1 = 'tab:red'\n",
    "color2 = 'tab:green'\n",
    "\n",
    "for i in range(4):\n",
    "    ax1 = axes[i]\n",
    "    ax1.set_xlabel('$\\lambda$', fontsize=12)\n",
    "    if i==0:\n",
    "        ax1.set_ylabel('Worst-case Loss', color=color1, fontsize=12)\n",
    "    ax1.errorbar(regs, max_mse_zonotope_mean.iloc[:, i],\n",
    "                 yerr=3*max_mse_zonotope_std.iloc[:, i],\n",
    "                 color=color1, marker='o', linestyle='-')\n",
    "#     ax1.plot(regs, pd.DataFrame(max_mse_dict)[uncertain_pcts[i]], color=color1, marker='o')\n",
    "    ax1.tick_params(axis='y', labelcolor=color1)\n",
    "\n",
    "    ax2 = ax1.twinx()\n",
    "\n",
    "    if i==3:\n",
    "        ax2.set_ylabel('Robustness Ratio', color=color2, fontsize=12)\n",
    "    ax2.errorbar(regs, robustness_ratio_zonotope_mean.iloc[:, i],\n",
    "                 yerr=3*robustness_ratio_zonotope_std.iloc[:, i],\n",
    "                 color=color2, marker='s', linestyle='-')\n",
    "#     ax2.plot(regs, (pd.DataFrame(robustness_ratio_dict))[uncertain_pcts[i]], color=color2, marker='s')\n",
    "    ax2.tick_params(axis='y', labelcolor=color2)\n",
    "    ax1.set_title(f'Uncertain Data: {int(uncertain_pcts[i]*100)}%')\n",
    "    ax1.grid(True)\n",
    "#     ax1.xaxis.set_major_formatter(FormatStrFormatter('%.2f'))\n",
    "    ax1.yaxis.set_major_formatter(FormatStrFormatter('%.2f'))\n",
    "    \n",
    "plt.subplots_adjust(wspace=0.4, top=0.8, bottom=0.25, left=0.1, right=0.9)\n",
    "plt.savefig('mpg-regularization-labels-3sigma-lineplot.pdf', bbox_inches='tight')\n"
   ]
  },
  {
   "cell_type": "code",
   "execution_count": 47,
   "id": "73f75919",
   "metadata": {
    "ExecuteTime": {
     "end_time": "2024-05-22T06:46:30.235904Z",
     "start_time": "2024-05-22T06:46:29.543328Z"
    }
   },
   "outputs": [
    {
     "data": {
      "image/png": "[encoded data removed]",
      "text/plain": [
       "<Figure size 2400x400 with 8 Axes>"
      ]
     },
     "metadata": {
      "needs_background": "light"
     },
     "output_type": "display_data"
    }
   ],
   "source": [
    "from matplotlib.ticker import FormatStrFormatter\n",
    "\n",
    "fig, axes = plt.subplots(nrows=1, ncols=4, figsize=(12, 2), sharex=True, dpi=200)\n",
    "color1 = 'tab:red'\n",
    "color2 = 'tab:green'\n",
    "\n",
    "for i in range(4):\n",
    "    ax1 = axes[i]\n",
    "    ax1.set_xlabel('$\\lambda$', fontsize=12)\n",
    "    if i==0:\n",
    "        ax1.set_ylabel('Worst-case Loss', color=color1, fontsize=12)\n",
    "    ax1.errorbar(regs, max_mse_zonotope_mean.iloc[:, i],\n",
    "                 yerr=max_mse_zonotope_std.iloc[:, i],\n",
    "                 color=color1, marker='o', linestyle='-')\n",
    "#     ax1.plot(regs, pd.DataFrame(max_mse_dict)[uncertain_pcts[i]], color=color1, marker='o')\n",
    "    ax1.tick_params(axis='y', labelcolor=color1)\n",
    "\n",
    "    ax2 = ax1.twinx()\n",
    "\n",
    "    if i==3:\n",
    "        ax2.set_ylabel('Robustness Ratio', color=color2, fontsize=12)\n",
    "    ax2.errorbar(regs, robustness_ratio_zonotope_mean.iloc[:, i],\n",
    "                 yerr=robustness_ratio_zonotope_std.iloc[:, i],\n",
    "                 color=color2, marker='s', linestyle='-')\n",
    "#     ax2.plot(regs, (pd.DataFrame(robustness_ratio_dict))[uncertain_pcts[i]], color=color2, marker='s')\n",
    "    ax2.tick_params(axis='y', labelcolor=color2)\n",
    "    ax1.set_title(f'Uncertain Data: {int(uncertain_pcts[i]*100)}%')\n",
    "    ax1.grid(True)\n",
    "#     ax1.xaxis.set_major_formatter(FormatStrFormatter('%.2f'))\n",
    "    ax1.yaxis.set_major_formatter(FormatStrFormatter('%.2f'))\n",
    "    \n",
    "plt.subplots_adjust(wspace=0.4, top=0.8, bottom=0.25, left=0.1, right=0.9)\n",
    "plt.savefig('mpg-regularization-labels-1sigma-lineplot.pdf', bbox_inches='tight')\n"
   ]
  },
  {
   "cell_type": "code",
   "execution_count": 245,
   "id": "792b50b7",
   "metadata": {
    "ExecuteTime": {
     "end_time": "2024-05-16T18:14:44.298409Z",
     "start_time": "2024-05-16T18:14:44.277791Z"
    }
   },
   "outputs": [],
   "source": []
  },
  {
   "cell_type": "code",
   "execution_count": null,
   "id": "aa42d0f2",
   "metadata": {},
   "outputs": [],
   "source": []
  },
  {
   "cell_type": "code",
   "execution_count": null,
   "id": "8102438a",
   "metadata": {},
   "outputs": [],
   "source": []
  },
  {
   "cell_type": "markdown",
   "id": "a02b787d",
   "metadata": {},
   "source": [
    "### Uncertain Features"
   ]
  },
  {
   "cell_type": "code",
   "execution_count": 569,
   "id": "e7e7b726",
   "metadata": {
    "ExecuteTime": {
     "end_time": "2024-05-22T05:41:53.914051Z",
     "start_time": "2024-05-22T01:53:55.384424Z"
    },
    "scrolled": true
   },
   "outputs": [
    {
     "data": {
      "application/vnd.jupyter.widget-view+json": {
       "model_id": "",
       "version_major": 2,
       "version_minor": 0
      },
      "text/plain": [
       "Progess:   0%|          | 0/4 [00:00<?, ?it/s]"
      ]
     },
     "metadata": {},
     "output_type": "display_data"
    },
    {
     "data": {
      "application/vnd.jupyter.widget-view+json": {
       "model_id": "",
       "version_major": 2,
       "version_minor": 0
      },
      "text/plain": [
       "Varying Regularization Coefficient:   0%|          | 0/7 [00:00<?, ?it/s]"
      ]
     },
     "metadata": {},
     "output_type": "display_data"
    },
    {
     "name": "stdout",
     "output_type": "stream",
     "text": [
      "one-poss-world: [1.93532098061252]\n",
      "(0.9875, 1.65036432709415, 2.22027763413088)\n",
      "one-poss-world: [1.95728486456244]\n",
      "(1.0, 1.73495777160102, 2.17961195752387)\n",
      "one-poss-world: [2.00525926677026]\n",
      "(1.0, 1.81974360893695, 2.19077492460357)\n",
      "one-poss-world: [2.07717879672616]\n",
      "(1.0, 1.91168979064390, 2.24266780280841)\n",
      "one-poss-world: [2.17199693301695]\n",
      "(1.0, 2.01579710922863, 2.32819675680527)\n",
      "one-poss-world: [2.28875343008631]\n",
      "(1.0, 2.13832841151760, 2.43917844865502)\n",
      "one-poss-world: [2.42645058359078]\n",
      "(1.0, 2.27855734792733, 2.57434381925423)\n"
     ]
    },
    {
     "data": {
      "application/vnd.jupyter.widget-view+json": {
       "model_id": "",
       "version_major": 2,
       "version_minor": 0
      },
      "text/plain": [
       "Varying Regularization Coefficient:   0%|          | 0/7 [00:00<?, ?it/s]"
      ]
     },
     "metadata": {},
     "output_type": "display_data"
    },
    {
     "name": "stdout",
     "output_type": "stream",
     "text": [
      "one-poss-world: [1.93532098061252]\n",
      "(0.825, 1.44840540177684, 2.42223655944819)\n",
      "one-poss-world: [1.95728486456244]\n",
      "(0.975, 1.60906716842351, 2.30550256070137)\n",
      "one-poss-world: [2.00525926677026]\n",
      "(1.0, 1.73223516698698, 2.27828336655354)\n",
      "one-poss-world: [2.07717879672616]\n",
      "(1.0, 1.84430939523356, 2.31004819821876)\n",
      "one-poss-world: [2.17199693301695]\n",
      "(1.0, 1.95752515790042, 2.38646870813348)\n",
      "one-poss-world: [2.28875343008631]\n",
      "(1.0, 2.08444084292598, 2.49306601724663)\n",
      "one-poss-world: [2.42645058359078]\n",
      "(1.0, 2.22720778031807, 2.62569338686348)\n"
     ]
    },
    {
     "data": {
      "application/vnd.jupyter.widget-view+json": {
       "model_id": "",
       "version_major": 2,
       "version_minor": 0
      },
      "text/plain": [
       "Varying Regularization Coefficient:   0%|          | 0/7 [00:00<?, ?it/s]"
      ]
     },
     "metadata": {},
     "output_type": "display_data"
    },
    {
     "name": "stdout",
     "output_type": "stream",
     "text": [
      "one-poss-world: [1.93532098061252]\n",
      "(0.275, 0.949187023537453, 2.92145493768758)\n",
      "one-poss-world: [1.95728486456244]\n",
      "(0.7375, 1.33203745037110, 2.58253227875379)\n",
      "one-poss-world: [2.00525926677026]\n",
      "(0.9, 1.54588538124766, 2.46463315229285)\n",
      "one-poss-world: [2.07717879672616]\n",
      "(0.975, 1.70180579427973, 2.45255179917258)\n",
      "one-poss-world: [2.17199693301695]\n",
      "(1.0, 1.83833659267462, 2.50565727335928)\n",
      "one-poss-world: [2.28875343008631]\n",
      "(1.0, 1.97964681488873, 2.59786004528388)\n",
      "one-poss-world: [2.42645058359078]\n",
      "(1.0, 2.13190171750771, 2.72099944967385)\n"
     ]
    },
    {
     "data": {
      "application/vnd.jupyter.widget-view+json": {
       "model_id": "",
       "version_major": 2,
       "version_minor": 0
      },
      "text/plain": [
       "Varying Regularization Coefficient:   0%|          | 0/7 [00:00<?, ?it/s]"
      ]
     },
     "metadata": {},
     "output_type": "display_data"
    },
    {
     "name": "stdout",
     "output_type": "stream",
     "text": [
      "one-poss-world: [1.93532098061252]\n",
      "(0.0, 0.0940590321201706, 3.77658292910486)\n",
      "one-poss-world: [1.95728486456244]\n",
      "(0.25, 0.924423327986391, 2.99014640113850)\n",
      "one-poss-world: [2.00525926677026]\n",
      "(0.6625, 1.29459796603982, 2.71592056750070)\n",
      "one-poss-world: [2.07717879672616]\n",
      "(0.825, 1.52092678223215, 2.63343081122016)\n",
      "one-poss-world: [2.17199693301695]\n",
      "(0.9625, 1.69356921615141, 2.65042464988250)\n",
      "one-poss-world: [2.28875343008631]\n",
      "(0.9875, 1.85678648877789, 2.72072037139472)\n",
      "one-poss-world: [2.42645058359078]\n",
      "(1.0, 2.02334171018283, 2.82955945699873)\n"
     ]
    },
    {
     "data": {
      "application/vnd.jupyter.widget-view+json": {
       "model_id": "",
       "version_major": 2,
       "version_minor": 0
      },
      "text/plain": [
       "Progess:   0%|          | 0/4 [00:00<?, ?it/s]"
      ]
     },
     "metadata": {},
     "output_type": "display_data"
    },
    {
     "data": {
      "application/vnd.jupyter.widget-view+json": {
       "model_id": "",
       "version_major": 2,
       "version_minor": 0
      },
      "text/plain": [
       "Varying Regularization Coefficient:   0%|          | 0/7 [00:00<?, ?it/s]"
      ]
     },
     "metadata": {},
     "output_type": "display_data"
    },
    {
     "name": "stdout",
     "output_type": "stream",
     "text": [
      "one-poss-world: [1.93532098061252]\n",
      "(1.0, 1.68480923128443, 2.18583272994060)\n",
      "one-poss-world: [1.95728486456244]\n",
      "(1.0, 1.76119845573914, 2.15337127338575)\n",
      "one-poss-world: [2.00525926677026]\n",
      "(1.0, 1.84252502095194, 2.16799351258857)\n",
      "one-poss-world: [2.07717879672616]\n",
      "(1.0, 1.93625376650148, 2.21810382695083)\n",
      "one-poss-world: [2.17199693301695]\n",
      "(1.0, 2.04251150507385, 2.30148236096005)\n",
      "one-poss-world: [2.28875343008631]\n",
      "(1.0, 2.16354257586117, 2.41396428431145)\n",
      "one-poss-world: [2.42645058359078]\n",
      "(1.0, 2.30161620046891, 2.55128496671265)\n"
     ]
    },
    {
     "data": {
      "application/vnd.jupyter.widget-view+json": {
       "model_id": "",
       "version_major": 2,
       "version_minor": 0
      },
      "text/plain": [
       "Varying Regularization Coefficient:   0%|          | 0/7 [00:00<?, ?it/s]"
      ]
     },
     "metadata": {},
     "output_type": "display_data"
    },
    {
     "name": "stdout",
     "output_type": "stream",
     "text": [
      "one-poss-world: [1.93532098061252]\n",
      "(0.925, 1.52416172552520, 2.34648023569983)\n",
      "one-poss-world: [1.95728486456244]\n",
      "(0.9875, 1.64674284539981, 2.26782688372507)\n",
      "one-poss-world: [2.00525926677026]\n",
      "(1.0, 1.75308647249393, 2.25743206104658)\n",
      "one-poss-world: [2.07717879672616]\n",
      "(1.0, 1.86123662949503, 2.29312096395728)\n",
      "one-poss-world: [2.17199693301695]\n",
      "(1.0, 1.97624079978529, 2.36775306624862)\n",
      "one-poss-world: [2.28875343008631]\n",
      "(1.0, 2.10289279602873, 2.47461406414389)\n",
      "one-poss-world: [2.42645058359078]\n",
      "(1.0, 2.24457458189560, 2.60832658528596)\n"
     ]
    },
    {
     "data": {
      "application/vnd.jupyter.widget-view+json": {
       "model_id": "",
       "version_major": 2,
       "version_minor": 0
      },
      "text/plain": [
       "Varying Regularization Coefficient:   0%|          | 0/7 [00:00<?, ?it/s]"
      ]
     },
     "metadata": {},
     "output_type": "display_data"
    },
    {
     "name": "stdout",
     "output_type": "stream",
     "text": [
      "one-poss-world: [1.93532098061252]\n",
      "(0.625, 1.22323134392995, 2.64741061729508)\n",
      "one-poss-world: [1.95728486456244]\n",
      "(0.85, 1.45801104953658, 2.45655867958831)\n",
      "one-poss-world: [2.00525926677026]\n",
      "(0.975, 1.61662868475722, 2.39388984878330)\n",
      "one-poss-world: [2.07717879672616]\n",
      "(1.0, 1.75197484309531, 2.40238275035700)\n",
      "one-poss-world: [2.17199693301695]\n",
      "(1.0, 1.88209886879500, 2.46189499723890)\n",
      "one-poss-world: [2.28875343008631]\n",
      "(1.0, 2.01836070742873, 2.55914615274389)\n",
      "one-poss-world: [2.42645058359078]\n",
      "(1.0, 2.16644101766242, 2.68646014951914)\n"
     ]
    },
    {
     "data": {
      "application/vnd.jupyter.widget-view+json": {
       "model_id": "",
       "version_major": 2,
       "version_minor": 0
      },
      "text/plain": [
       "Varying Regularization Coefficient:   0%|          | 0/7 [00:00<?, ?it/s]"
      ]
     },
     "metadata": {},
     "output_type": "display_data"
    },
    {
     "name": "stdout",
     "output_type": "stream",
     "text": [
      "one-poss-world: [1.93532098061252]\n",
      "(0.0875, 0.744301257057440, 3.12634070416759)\n",
      "one-poss-world: [1.95728486456244]\n",
      "(0.5625, 1.19397792708065, 2.72059180204424)\n",
      "one-poss-world: [2.00525926677026]\n",
      "(0.8, 1.44182456400301, 2.56869396953751)\n",
      "one-poss-world: [2.07717879672616]\n",
      "(0.9625, 1.61996608322112, 2.53439151023120)\n",
      "one-poss-world: [2.17199693301695]\n",
      "(0.9875, 1.77317446009856, 2.57081940593535)\n",
      "one-poss-world: [2.28875343008631]\n",
      "(1.0, 1.92385578299833, 2.65365107717429)\n",
      "one-poss-world: [2.42645058359078]\n",
      "(1.0, 2.08137042969521, 2.77153073748635)\n"
     ]
    },
    {
     "data": {
      "application/vnd.jupyter.widget-view+json": {
       "model_id": "",
       "version_major": 2,
       "version_minor": 0
      },
      "text/plain": [
       "Progess:   0%|          | 0/4 [00:00<?, ?it/s]"
      ]
     },
     "metadata": {},
     "output_type": "display_data"
    },
    {
     "data": {
      "application/vnd.jupyter.widget-view+json": {
       "model_id": "",
       "version_major": 2,
       "version_minor": 0
      },
      "text/plain": [
       "Varying Regularization Coefficient:   0%|          | 0/7 [00:00<?, ?it/s]"
      ]
     },
     "metadata": {},
     "output_type": "display_data"
    },
    {
     "name": "stdout",
     "output_type": "stream",
     "text": [
      "one-poss-world: [1.93532098061252]\n",
      "(0.975, 1.65303977237877, 2.21760218884627)\n",
      "one-poss-world: [1.95728486456244]\n",
      "(1.0, 1.73624176950453, 2.17832795962036)\n",
      "one-poss-world: [2.00525926677026]\n",
      "(1.0, 1.82276034057024, 2.18775819297028)\n",
      "one-poss-world: [2.07717879672616]\n",
      "(1.0, 1.91488987289583, 2.23946772055648)\n",
      "one-poss-world: [2.17199693301695]\n",
      "(1.0, 2.02007399243590, 2.32391987359800)\n",
      "one-poss-world: [2.28875343008631]\n",
      "(1.0, 2.14205862786692, 2.43544823230569)\n",
      "one-poss-world: [2.42645058359078]\n",
      "(1.0, 2.28241938791293, 2.57048177926862)\n"
     ]
    },
    {
     "data": {
      "application/vnd.jupyter.widget-view+json": {
       "model_id": "",
       "version_major": 2,
       "version_minor": 0
      },
      "text/plain": [
       "Varying Regularization Coefficient:   0%|          | 0/7 [00:00<?, ?it/s]"
      ]
     },
     "metadata": {},
     "output_type": "display_data"
    },
    {
     "name": "stdout",
     "output_type": "stream",
     "text": [
      "one-poss-world: [1.93532098061252]\n",
      "(0.8125, 1.40857114547464, 2.46207081575039)\n",
      "one-poss-world: [1.95728486456244]\n",
      "(0.975, 1.57746003871653, 2.33710969040836)\n",
      "one-poss-world: [2.00525926677026]\n",
      "(0.9875, 1.70655022584571, 2.30396830769480)\n",
      "one-poss-world: [2.07717879672616]\n",
      "(1.0, 1.82145402526798, 2.33290356818434)\n",
      "one-poss-world: [2.17199693301695]\n",
      "(1.0, 1.93868357544578, 2.40531029058812)\n",
      "one-poss-world: [2.28875343008631]\n",
      "(1.0, 2.06877882308996, 2.50872803708265)\n",
      "one-poss-world: [2.42645058359078]\n",
      "(1.0, 2.21482955816663, 2.63807160901492)\n"
     ]
    },
    {
     "data": {
      "application/vnd.jupyter.widget-view+json": {
       "model_id": "",
       "version_major": 2,
       "version_minor": 0
      },
      "text/plain": [
       "Varying Regularization Coefficient:   0%|          | 0/7 [00:00<?, ?it/s]"
      ]
     },
     "metadata": {},
     "output_type": "display_data"
    },
    {
     "name": "stdout",
     "output_type": "stream",
     "text": [
      "one-poss-world: [1.93532098061252]\n",
      "(0.35, 0.987885066063993, 2.88275689516104)\n",
      "one-poss-world: [1.95728486456244]\n",
      "(0.7375, 1.33517207610099, 2.57939765302390)\n",
      "one-poss-world: [2.00525926677026]\n",
      "(0.925, 1.54192412971794, 2.46859440382258)\n",
      "one-poss-world: [2.07717879672616]\n",
      "(0.9875, 1.69567768486928, 2.45867990858303)\n",
      "one-poss-world: [2.17199693301695]\n",
      "(1.0, 1.83344186992215, 2.51055199611176)\n",
      "one-poss-world: [2.28875343008631]\n",
      "(1.0, 1.97665125908170, 2.60085560109091)\n",
      "one-poss-world: [2.42645058359078]\n",
      "(1.0, 2.13156918064634, 2.72133198653522)\n"
     ]
    },
    {
     "data": {
      "application/vnd.jupyter.widget-view+json": {
       "model_id": "",
       "version_major": 2,
       "version_minor": 0
      },
      "text/plain": [
       "Varying Regularization Coefficient:   0%|          | 0/7 [00:00<?, ?it/s]"
      ]
     },
     "metadata": {},
     "output_type": "display_data"
    },
    {
     "name": "stdout",
     "output_type": "stream",
     "text": [
      "one-poss-world: [1.93532098061252]\n",
      "(0.0, 0.236427760992697, 3.63421420023233)\n",
      "one-poss-world: [1.95728486456244]\n",
      "(0.3, 0.959732680432186, 2.95483704869270)\n",
      "one-poss-world: [2.00525926677026]\n",
      "(0.6375, 1.31053600095620, 2.69998253258432)\n",
      "one-poss-world: [2.07717879672616]\n",
      "(0.875, 1.53118972977274, 2.62316786367957)\n",
      "one-poss-world: [2.17199693301695]\n",
      "(0.9625, 1.70295981835070, 2.64103404768320)\n",
      "one-poss-world: [2.28875343008631]\n",
      "(0.9875, 1.86712769769282, 2.71037916247979)\n",
      "one-poss-world: [2.42645058359078]\n",
      "(1.0, 2.03575414461992, 2.81714702256163)\n"
     ]
    },
    {
     "data": {
      "application/vnd.jupyter.widget-view+json": {
       "model_id": "",
       "version_major": 2,
       "version_minor": 0
      },
      "text/plain": [
       "Progess:   0%|          | 0/4 [00:00<?, ?it/s]"
      ]
     },
     "metadata": {},
     "output_type": "display_data"
    },
    {
     "data": {
      "application/vnd.jupyter.widget-view+json": {
       "model_id": "",
       "version_major": 2,
       "version_minor": 0
      },
      "text/plain": [
       "Varying Regularization Coefficient:   0%|          | 0/7 [00:00<?, ?it/s]"
      ]
     },
     "metadata": {},
     "output_type": "display_data"
    },
    {
     "name": "stdout",
     "output_type": "stream",
     "text": [
      "one-poss-world: [1.93532098061252]\n",
      "(0.9875, 1.68801311680943, 2.18262884441560)\n",
      "one-poss-world: [1.95728486456244]\n",
      "(1.0, 1.76146020651394, 2.15310952261094)\n",
      "one-poss-world: [2.00525926677026]\n",
      "(1.0, 1.83669385877385, 2.17382467476667)\n",
      "one-poss-world: [2.07717879672616]\n",
      "(1.0, 1.92289676920513, 2.23146082424719)\n",
      "one-poss-world: [2.17199693301695]\n",
      "(1.0, 2.02550105153788, 2.31849281449603)\n",
      "one-poss-world: [2.28875343008631]\n",
      "(1.0, 2.14698170933937, 2.43052515083324)\n",
      "one-poss-world: [2.42645058359078]\n",
      "(1.0, 2.28689124425471, 2.56600992292684)\n"
     ]
    },
    {
     "data": {
      "application/vnd.jupyter.widget-view+json": {
       "model_id": "",
       "version_major": 2,
       "version_minor": 0
      },
      "text/plain": [
       "Varying Regularization Coefficient:   0%|          | 0/7 [00:00<?, ?it/s]"
      ]
     },
     "metadata": {},
     "output_type": "display_data"
    },
    {
     "name": "stdout",
     "output_type": "stream",
     "text": [
      "one-poss-world: [1.93532098061252]\n",
      "(0.9, 1.52250389908074, 2.34813806214429)\n",
      "one-poss-world: [1.95728486456244]\n",
      "(0.9875, 1.65291053210116, 2.26165919702373)\n",
      "one-poss-world: [2.00525926677026]\n",
      "(1.0, 1.75809449897462, 2.25242403456590)\n",
      "one-poss-world: [2.07717879672616]\n",
      "(1.0, 1.86063668836592, 2.29372090508639)\n",
      "one-poss-world: [2.17199693301695]\n",
      "(1.0, 1.97095905638158, 2.37303480965233)\n",
      "one-poss-world: [2.28875343008631]\n",
      "(1.0, 2.09648535443882, 2.48102150573379)\n",
      "one-poss-world: [2.42645058359078]\n",
      "(1.0, 2.23897442846962, 2.61392673871194)\n"
     ]
    },
    {
     "data": {
      "application/vnd.jupyter.widget-view+json": {
       "model_id": "",
       "version_major": 2,
       "version_minor": 0
      },
      "text/plain": [
       "Varying Regularization Coefficient:   0%|          | 0/7 [00:00<?, ?it/s]"
      ]
     },
     "metadata": {},
     "output_type": "display_data"
    },
    {
     "name": "stdout",
     "output_type": "stream",
     "text": [
      "one-poss-world: [1.93532098061252]\n",
      "(0.4375, 1.07778091910765, 2.79286104211738)\n",
      "one-poss-world: [1.95728486456244]\n",
      "(0.8125, 1.39249955934001, 2.52207016978487)\n",
      "one-poss-world: [2.00525926677026]\n",
      "(0.975, 1.57691706283816, 2.43360147070236)\n",
      "one-poss-world: [2.07717879672616]\n",
      "(0.9875, 1.71935145465771, 2.43500613879460)\n",
      "one-poss-world: [2.17199693301695]\n",
      "(1.0, 1.85139432119490, 2.49259954483901)\n",
      "one-poss-world: [2.28875343008631]\n",
      "(1.0, 1.99080925615165, 2.58669760402096)\n",
      "one-poss-world: [2.42645058359078]\n",
      "(1.0, 2.14275039065107, 2.71015077653048)\n"
     ]
    },
    {
     "data": {
      "application/vnd.jupyter.widget-view+json": {
       "model_id": "",
       "version_major": 2,
       "version_minor": 0
      },
      "text/plain": [
       "Varying Regularization Coefficient:   0%|          | 0/7 [00:00<?, ?it/s]"
      ]
     },
     "metadata": {},
     "output_type": "display_data"
    },
    {
     "name": "stdout",
     "output_type": "stream",
     "text": [
      "one-poss-world: [1.93532098061252]\n",
      "(0.0375, 0.436331186725398, 3.43431077449963)\n",
      "one-poss-world: [1.95728486456244]\n",
      "(0.425, 1.07921552530566, 2.83535420381923)\n",
      "one-poss-world: [2.00525926677026]\n",
      "(0.7625, 1.38218640646637, 2.62833212707415)\n",
      "one-poss-world: [2.07717879672616]\n",
      "(0.95, 1.57835336389941, 2.57600422955290)\n",
      "one-poss-world: [2.17199693301695]\n",
      "(0.975, 1.73773590915778, 2.60625795687612)\n",
      "one-poss-world: [2.28875343008631]\n",
      "(1.0, 1.89371045891230, 2.68379640126031)\n",
      "one-poss-world: [2.42645058359078]\n",
      "(1.0, 2.05617136455542, 2.79672980262614)\n"
     ]
    },
    {
     "data": {
      "application/vnd.jupyter.widget-view+json": {
       "model_id": "",
       "version_major": 2,
       "version_minor": 0
      },
      "text/plain": [
       "Progess:   0%|          | 0/4 [00:00<?, ?it/s]"
      ]
     },
     "metadata": {},
     "output_type": "display_data"
    },
    {
     "data": {
      "application/vnd.jupyter.widget-view+json": {
       "model_id": "",
       "version_major": 2,
       "version_minor": 0
      },
      "text/plain": [
       "Varying Regularization Coefficient:   0%|          | 0/7 [00:00<?, ?it/s]"
      ]
     },
     "metadata": {},
     "output_type": "display_data"
    },
    {
     "name": "stdout",
     "output_type": "stream",
     "text": [
      "one-poss-world: [1.93532098061252]\n",
      "(0.9875, 1.67351575777141, 2.19712620345362)\n",
      "one-poss-world: [1.95728486456244]\n",
      "(1.0, 1.74914368403132, 2.16542604509357)\n",
      "one-poss-world: [2.00525926677026]\n",
      "(1.0, 1.82978711652080, 2.18073141701971)\n",
      "one-poss-world: [2.07717879672616]\n",
      "(1.0, 1.92078792122459, 2.23356967222772)\n",
      "one-poss-world: [2.17199693301695]\n",
      "(1.0, 2.02546474029888, 2.31852912573502)\n",
      "one-poss-world: [2.28875343008631]\n",
      "(1.0, 2.14689593500203, 2.43061092517058)\n",
      "one-poss-world: [2.42645058359078]\n",
      "(1.0, 2.28697004495314, 2.56593112222842)\n"
     ]
    },
    {
     "data": {
      "application/vnd.jupyter.widget-view+json": {
       "model_id": "",
       "version_major": 2,
       "version_minor": 0
      },
      "text/plain": [
       "Varying Regularization Coefficient:   0%|          | 0/7 [00:00<?, ?it/s]"
      ]
     },
     "metadata": {},
     "output_type": "display_data"
    },
    {
     "name": "stdout",
     "output_type": "stream",
     "text": [
      "one-poss-world: [1.93532098061252]\n",
      "(0.825, 1.40678173833602, 2.46386022288901)\n",
      "one-poss-world: [1.95728486456244]\n",
      "(0.975, 1.58156607866931, 2.33300365045557)\n",
      "one-poss-world: [2.00525926677026]\n",
      "(0.9875, 1.70937902072256, 2.30113951281796)\n",
      "one-poss-world: [2.07717879672616]\n",
      "(1.0, 1.82525180865759, 2.32910578479472)\n",
      "one-poss-world: [2.17199693301695]\n",
      "(1.0, 1.94407354777604, 2.39992031825787)\n",
      "one-poss-world: [2.28875343008631]\n",
      "(1.0, 2.07475508858342, 2.50275177158920)\n",
      "one-poss-world: [2.42645058359078]\n",
      "(1.0, 2.22118477212601, 2.63171639505554)\n"
     ]
    },
    {
     "data": {
      "application/vnd.jupyter.widget-view+json": {
       "model_id": "",
       "version_major": 2,
       "version_minor": 0
      },
      "text/plain": [
       "Varying Regularization Coefficient:   0%|          | 0/7 [00:00<?, ?it/s]"
      ]
     },
     "metadata": {},
     "output_type": "display_data"
    },
    {
     "name": "stdout",
     "output_type": "stream",
     "text": [
      "one-poss-world: [1.93532098061252]\n",
      "(0.3, 0.914944278991967, 2.95569768223306)\n",
      "one-poss-world: [1.95728486456244]\n",
      "(0.7625, 1.31083736603878, 2.60373236308611)\n",
      "one-poss-world: [2.00525926677026]\n",
      "(0.9375, 1.52667878846213, 2.48383974507838)\n",
      "one-poss-world: [2.07717879672616]\n",
      "(0.975, 1.68467962607742, 2.46967796737490)\n",
      "one-poss-world: [2.17199693301695]\n",
      "(1.0, 1.82596476575248, 2.51802910028142)\n",
      "one-poss-world: [2.28875343008631]\n",
      "(1.0, 1.97056387217429, 2.60694298799833)\n",
      "one-poss-world: [2.42645058359078]\n",
      "(1.0, 2.12624010042483, 2.72666106675673)\n"
     ]
    },
    {
     "data": {
      "application/vnd.jupyter.widget-view+json": {
       "model_id": "",
       "version_major": 2,
       "version_minor": 0
      },
      "text/plain": [
       "Varying Regularization Coefficient:   0%|          | 0/7 [00:00<?, ?it/s]"
      ]
     },
     "metadata": {},
     "output_type": "display_data"
    },
    {
     "name": "stdout",
     "output_type": "stream",
     "text": [
      "one-poss-world: [1.93532098061252]\n",
      "(0.0, 0.0382339064244248, 3.83240805480061)\n",
      "one-poss-world: [1.95728486456244]\n",
      "(0.3, 0.928955884099740, 2.98561384502515)\n",
      "one-poss-world: [2.00525926677026]\n",
      "(0.725, 1.30389273859042, 2.70662579495009)\n",
      "one-poss-world: [2.07717879672616]\n",
      "(0.9125, 1.52963194290947, 2.62472565054284)\n",
      "one-poss-world: [2.17199693301695]\n",
      "(0.975, 1.70482252693896, 2.63917133909494)\n",
      "one-poss-world: [2.28875343008631]\n",
      "(0.9875, 1.86933978407990, 2.70816707609272)\n",
      "one-poss-world: [2.42645058359078]\n",
      "(1.0, 2.03767007807300, 2.81523108910856)\n"
     ]
    }
   ],
   "source": [
    "robustness_ratio_dicts = []\n",
    "max_mse_dicts = []\n",
    "min_mse_dicts = []\n",
    "for seed in range(5):\n",
    "    # mpg +- 2 is robust\n",
    "    robustness_radius = 2\n",
    "    # uncertain label +- 10\n",
    "    uncertain_radius = 300\n",
    "    weight_interval = X_train.weight.max()-X_train.weight.min()\n",
    "    uncertain_radius_ratio = uncertain_radius/weight_interval\n",
    "    uncertain_pcts = [0.08, 0.10, 0.12, 0.14]\n",
    "    regs = [0, 0.01, 0.02, 0.03, 0.04, 0.05, 0.06]\n",
    "\n",
    "    robustness_ratio_dict = dict()\n",
    "    max_mse_dict = dict()\n",
    "    min_mse_dict = dict()\n",
    "    # robustness_dict['uncertain_radius'] = uncertain_radiuses\n",
    "    robustness_ratio_dict['Reg. Coef.'] = regs\n",
    "    for uncertain_pct in tqdm(uncertain_pcts, desc='Progess'):\n",
    "        robustness_ratio_dict[uncertain_pct] = list()\n",
    "        max_mse_dict[uncertain_pct] = list()\n",
    "        min_mse_dict[uncertain_pct] = list()\n",
    "        uncertain_num = int(uncertain_pct*len(y_train))\n",
    "        for reg in tqdm(regs, desc=f'Varying Regularization Coefficient'):\n",
    "            res = compute_robustness_ratio_reg(X_train, y_train, X_test, y_test, \n",
    "                                               uncertain_attr='weight', uncertain_num=uncertain_num, \n",
    "                                               uncertain_radius_ratio=uncertain_radius_ratio, \n",
    "                                               robustness_radius=robustness_radius, reg=reg, seed=seed)\n",
    "            robustness_ratio, min_mse, max_mse = res\n",
    "            print(res)\n",
    "            robustness_ratio_dict[uncertain_pct].append(robustness_ratio)\n",
    "            max_mse_dict[uncertain_pct].append(max_mse)\n",
    "            min_mse_dict[uncertain_pct].append(min_mse)\n",
    "    robustness_ratio_dicts.append(robustness_ratio_dict)\n",
    "    max_mse_dicts.append(max_mse_dict)\n",
    "    min_mse_dicts.append(min_mse_dict)"
   ]
  },
  {
   "cell_type": "code",
   "execution_count": 570,
   "id": "cfdfab2a",
   "metadata": {
    "ExecuteTime": {
     "end_time": "2024-05-22T06:29:04.464763Z",
     "start_time": "2024-05-22T06:29:04.375156Z"
    }
   },
   "outputs": [],
   "source": [
    "robustness_ratio_zonotope_mean = (sum([pd.DataFrame(robustness_ratio_dicts[i]).iloc[:, 1:] for i in range(5)])/5).astype(float)\n",
    "robustness_ratio_zonotope_std = (sum([(pd.DataFrame(robustness_ratio_dicts[i]).iloc[:, 1:]-robustness_ratio_zonotope_mean)**2 for i in range(5)])/5).astype(float).apply(np.sqrt)\n",
    "max_mse_zonotope_mean = (sum([pd.DataFrame(max_mse_dicts[i]) for i in range(5)])/5).astype(float)\n",
    "max_mse_zonotope_std = (sum([(pd.DataFrame(max_mse_dicts[i])-max_mse_zonotope_mean)**2 for i in range(5)])/5).astype(float).apply(np.sqrt)\n"
   ]
  },
  {
   "cell_type": "code",
   "execution_count": 572,
   "id": "27849379",
   "metadata": {
    "ExecuteTime": {
     "end_time": "2024-05-22T06:47:12.777590Z",
     "start_time": "2024-05-22T06:47:12.058486Z"
    }
   },
   "outputs": [
    {
     "data": {
      "image/png": "[encoded data removed]",
      "text/plain": [
       "<Figure size 2400x400 with 8 Axes>"
      ]
     },
     "metadata": {
      "needs_background": "light"
     },
     "output_type": "display_data"
    }
   ],
   "source": [
    "from matplotlib.ticker import FormatStrFormatter\n",
    "\n",
    "fig, axes = plt.subplots(nrows=1, ncols=4, figsize=(12, 2), sharex=True, dpi=200)\n",
    "color1 = 'tab:red'\n",
    "color2 = 'tab:green'\n",
    "\n",
    "for i in range(4):\n",
    "    ax1 = axes[i]\n",
    "    ax1.set_xlabel('$\\lambda$', fontsize=12)\n",
    "    if i==0:\n",
    "        ax1.set_ylabel('Worst-case Loss', color=color1, fontsize=12)\n",
    "    ax1.errorbar(regs, max_mse_zonotope_mean.iloc[:, i],\n",
    "                 yerr=3*max_mse_zonotope_std.iloc[:, i],\n",
    "                 color=color1, marker='o', linestyle='-')\n",
    "#     ax1.plot(regs, pd.DataFrame(max_mse_dict)[uncertain_pcts[i]], color=color1, marker='o')\n",
    "    ax1.tick_params(axis='y', labelcolor=color1)\n",
    "\n",
    "    ax2 = ax1.twinx()\n",
    "\n",
    "    if i==3:\n",
    "        ax2.set_ylabel('Robustness Ratio', color=color2, fontsize=12)\n",
    "    ax2.errorbar(regs, robustness_ratio_zonotope_mean.iloc[:, i],\n",
    "                 yerr=3*robustness_ratio_zonotope_std.iloc[:, i],\n",
    "                 color=color2, marker='s', linestyle='-')\n",
    "#     ax2.plot(regs, (pd.DataFrame(robustness_ratio_dict))[uncertain_pcts[i]], color=color2, marker='s')\n",
    "    ax2.tick_params(axis='y', labelcolor=color2)\n",
    "    ax1.set_title(f'Uncertain Data: {int(uncertain_pcts[i]*100)}%')\n",
    "    ax1.grid(True)\n",
    "#     ax1.xaxis.set_major_formatter(FormatStrFormatter('%.2f'))\n",
    "    ax1.yaxis.set_major_formatter(FormatStrFormatter('%.2f'))\n",
    "    \n",
    "plt.subplots_adjust(wspace=0.4, top=0.8, bottom=0.25, left=0.1, right=0.9)\n",
    "\n",
    "plt.savefig('mpg-regularization-features-3sigma-lineplot.pdf', bbox_inches='tight')\n"
   ]
  },
  {
   "cell_type": "code",
   "execution_count": 573,
   "id": "1de78c32",
   "metadata": {
    "ExecuteTime": {
     "end_time": "2024-05-22T06:47:29.264107Z",
     "start_time": "2024-05-22T06:47:28.558143Z"
    }
   },
   "outputs": [
    {
     "data": {
      "image/png": "[encoded data removed]",
      "text/plain": [
       "<Figure size 2400x400 with 8 Axes>"
      ]
     },
     "metadata": {
      "needs_background": "light"
     },
     "output_type": "display_data"
    }
   ],
   "source": [
    "from matplotlib.ticker import FormatStrFormatter\n",
    "\n",
    "fig, axes = plt.subplots(nrows=1, ncols=4, figsize=(12, 2), sharex=True, dpi=200)\n",
    "color1 = 'tab:red'\n",
    "color2 = 'tab:green'\n",
    "\n",
    "for i in range(4):\n",
    "    ax1 = axes[i]\n",
    "    ax1.set_xlabel('$\\lambda$', fontsize=12)\n",
    "    if i==0:\n",
    "        ax1.set_ylabel('Worst-case Loss', color=color1, fontsize=12)\n",
    "    ax1.errorbar(regs, max_mse_zonotope_mean.iloc[:, i],\n",
    "                 yerr=max_mse_zonotope_std.iloc[:, i],\n",
    "                 color=color1, marker='o', linestyle='-')\n",
    "#     ax1.plot(regs, pd.DataFrame(max_mse_dict)[uncertain_pcts[i]], color=color1, marker='o')\n",
    "    ax1.tick_params(axis='y', labelcolor=color1)\n",
    "\n",
    "    ax2 = ax1.twinx()\n",
    "\n",
    "    if i==3:\n",
    "        ax2.set_ylabel('Robustness Ratio', color=color2, fontsize=12)\n",
    "    ax2.errorbar(regs, robustness_ratio_zonotope_mean.iloc[:, i],\n",
    "                 yerr=robustness_ratio_zonotope_std.iloc[:, i],\n",
    "                 color=color2, marker='s', linestyle='-')\n",
    "#     ax2.plot(regs, (pd.DataFrame(robustness_ratio_dict))[uncertain_pcts[i]], color=color2, marker='s')\n",
    "    ax2.tick_params(axis='y', labelcolor=color2)\n",
    "    ax1.set_title(f'Uncertain Data: {int(uncertain_pcts[i]*100)}%')\n",
    "    ax1.grid(True)\n",
    "#     ax1.xaxis.set_major_formatter(FormatStrFormatter('%.2f'))\n",
    "    ax1.yaxis.set_major_formatter(FormatStrFormatter('%.2f'))\n",
    "    \n",
    "plt.subplots_adjust(wspace=0.4, top=0.8, bottom=0.25, left=0.1, right=0.9)\n",
    "\n",
    "plt.savefig('mpg-regularization-features-1sigma-lineplot.pdf', bbox_inches='tight')\n"
   ]
  },
  {
   "cell_type": "code",
   "execution_count": null,
   "id": "506c3aec",
   "metadata": {},
   "outputs": [],
   "source": []
  },
  {
   "cell_type": "code",
   "execution_count": null,
   "id": "55de45fb",
   "metadata": {},
   "outputs": [],
   "source": []
  },
  {
   "cell_type": "code",
   "execution_count": null,
   "id": "6029889d",
   "metadata": {},
   "outputs": [],
   "source": []
  },
  {
   "cell_type": "code",
   "execution_count": null,
   "id": "6ca1b200",
   "metadata": {},
   "outputs": [],
   "source": []
  }
 ],
 "metadata": {
  "kernelspec": {
   "display_name": "Python 3",
   "language": "python",
   "name": "python3"
  },
  "language_info": {
   "codemirror_mode": {
    "name": "ipython",
    "version": 3
   },
   "file_extension": ".py",
   "mimetype": "text/x-python",
   "name": "python",
   "nbconvert_exporter": "python",
   "pygments_lexer": "ipython3",
   "version": "3.9.6"
  },
  "latex_envs": {
   "LaTeX_envs_menu_present": true,
   "autoclose": true,
   "autocomplete": true,
   "bibliofile": "biblio.bib",
   "cite_by": "apalike",
   "current_citInitial": 1,
   "eqLabelWithNumbers": true,
   "eqNumInitial": 1,
   "hotkeys": {
    "equation": "Ctrl-E",
    "itemize": "Ctrl-I"
   },
   "labels_anchors": false,
   "latex_user_defs": false,
   "report_style_numbering": false,
   "user_envs_cfg": false
  }
 },
 "nbformat": 4,
 "nbformat_minor": 5
}
