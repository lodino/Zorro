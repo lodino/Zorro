{
 "cells": [
  {
   "cell_type": "code",
   "execution_count": 1,
   "id": "b58143ff",
   "metadata": {
    "ExecuteTime": {
     "end_time": "2024-05-10T20:12:46.210800Z",
     "start_time": "2024-05-10T20:12:43.874561Z"
    }
   },
   "outputs": [],
   "source": [
    "import os\n",
    "import copy\n",
    "import pickle\n",
    "import sympy\n",
    "import functools\n",
    "import itertools\n",
    "\n",
    "import numpy as np\n",
    "import pandas as pd\n",
    "import matplotlib.pyplot as plt\n",
    "\n",
    "from error_injection import MissingValueError, SamplingError, Injector\n",
    "from sklearn.decomposition import PCA\n",
    "from sklearn.model_selection import train_test_split\n",
    "from sklearn.preprocessing import StandardScaler\n",
    "from sklearn.experimental import enable_iterative_imputer\n",
    "from sklearn.impute import SimpleImputer, KNNImputer, IterativeImputer\n",
    "from sklearn.metrics import mutual_info_score, auc, roc_curve, roc_auc_score, f1_score\n",
    "from scipy.optimize import minimize as scipy_min\n",
    "from scipy.spatial import ConvexHull\n",
    "from scipy.optimize import minimize, Bounds, linprog\n",
    "from sympy import Symbol as sb\n",
    "from sympy import lambdify\n",
    "from tqdm.notebook import trange,tqdm\n",
    "from IPython.display import display,clear_output\n",
    "from random import choice\n",
    "\n",
    "class style():\n",
    "    RED = '\\033[31m'\n",
    "    GREEN = '\\033[32m'\n",
    "    BLUE = '\\033[34m'\n",
    "    RESET = '\\033[0m'\n",
    "\n",
    "np.random.seed(1)"
   ]
  },
  {
   "cell_type": "code",
   "execution_count": 2,
   "id": "06f5243d",
   "metadata": {
    "ExecuteTime": {
     "end_time": "2024-05-10T20:12:46.215935Z",
     "start_time": "2024-05-10T20:12:46.212995Z"
    }
   },
   "outputs": [],
   "source": [
    "# ignore all the warnings\n",
    "import warnings\n",
    "warnings.filterwarnings('ignore')"
   ]
  },
  {
   "cell_type": "code",
   "execution_count": 3,
   "id": "362c5be1",
   "metadata": {
    "ExecuteTime": {
     "end_time": "2024-05-10T20:23:27.365911Z",
     "start_time": "2024-05-10T20:23:27.348184Z"
    },
    "code_folding": []
   },
   "outputs": [],
   "source": [
    "def load_ins():\n",
    "    # fetch dataset\n",
    "    auto_mpg = pd.read_csv('insurance.csv').drop('sex', axis=1).drop('smoker', axis=1).drop('region', axis=1).replace('?', np.nan)\n",
    "    features = ['age', 'bmi', 'children']\n",
    "    X = auto_mpg[features].astype(float)\n",
    "    y = auto_mpg['charges']\n",
    "    \n",
    "    # with this random seed, no null value is included in the test data\n",
    "    X_train, X_test, y_train, y_test = train_test_split(X, y, test_size=0.2, random_state=1)\n",
    "    X_train = copy.deepcopy(X_train).reset_index(drop=True)\n",
    "    X_test = copy.deepcopy(X_test).reset_index(drop=True)\n",
    "    y_train = y_train.reset_index(drop=True)\n",
    "    y_test = y_test.reset_index(drop=True)\n",
    "\n",
    "    return X_train, X_test, y_train, y_test\n",
    "\n",
    "\n",
    "# first impute the data and make it hypothetically clean\n",
    "def load_ins_cleaned():\n",
    "    # fetch dataset\n",
    "    auto_mpg = pd.read_csv('insurance.csv').drop('sex', axis=1).drop('smoker', axis=1).drop('region', axis=1).replace('?', np.nan)\n",
    "    features = ['age', 'bmi', 'children']\n",
    "    X = auto_mpg[features].astype(float)\n",
    "    y = auto_mpg['charges']\n",
    "    \n",
    "    # assumed gt imputation\n",
    "    imputer = KNNImputer(n_neighbors=10)\n",
    "    X = pd.DataFrame(imputer.fit_transform(X), columns=X.columns)\n",
    "\n",
    "    X_train, X_test, y_train, y_test = train_test_split(X, y, test_size=0.2, random_state=1)\n",
    "    X_train = copy.deepcopy(X_train).reset_index(drop=True)\n",
    "    X_test = copy.deepcopy(X_test).reset_index(drop=True)\n",
    "    y_train = y_train.reset_index(drop=True)\n",
    "    y_test = y_test.reset_index(drop=True)\n",
    "\n",
    "    return X_train, X_test, y_train, y_test"
   ]
  },
  {
   "cell_type": "code",
   "execution_count": 4,
   "id": "974015e9",
   "metadata": {
    "ExecuteTime": {
     "end_time": "2024-05-10T20:23:27.803991Z",
     "start_time": "2024-05-10T20:23:27.778300Z"
    }
   },
   "outputs": [],
   "source": [
    "X_train, X_test, y_train, y_test = load_ins_cleaned()"
   ]
  },
  {
   "cell_type": "code",
   "execution_count": 5,
   "id": "aca5aff5",
   "metadata": {
    "ExecuteTime": {
     "end_time": "2024-05-10T20:23:32.394030Z",
     "start_time": "2024-05-10T20:23:32.363300Z"
    }
   },
   "outputs": [
    {
     "data": {
      "text/html": [
       "<div>\n",
       "<style scoped>\n",
       "    .dataframe tbody tr th:only-of-type {\n",
       "        vertical-align: middle;\n",
       "    }\n",
       "\n",
       "    .dataframe tbody tr th {\n",
       "        vertical-align: top;\n",
       "    }\n",
       "\n",
       "    .dataframe thead th {\n",
       "        text-align: right;\n",
       "    }\n",
       "</style>\n",
       "<table border=\"1\" class=\"dataframe\">\n",
       "  <thead>\n",
       "    <tr style=\"text-align: right;\">\n",
       "      <th></th>\n",
       "      <th>age</th>\n",
       "      <th>bmi</th>\n",
       "      <th>children</th>\n",
       "    </tr>\n",
       "  </thead>\n",
       "  <tbody>\n",
       "    <tr>\n",
       "      <th>0</th>\n",
       "      <td>53.0</td>\n",
       "      <td>26.600</td>\n",
       "      <td>0.0</td>\n",
       "    </tr>\n",
       "    <tr>\n",
       "      <th>1</th>\n",
       "      <td>53.0</td>\n",
       "      <td>21.400</td>\n",
       "      <td>1.0</td>\n",
       "    </tr>\n",
       "    <tr>\n",
       "      <th>2</th>\n",
       "      <td>18.0</td>\n",
       "      <td>37.290</td>\n",
       "      <td>0.0</td>\n",
       "    </tr>\n",
       "    <tr>\n",
       "      <th>3</th>\n",
       "      <td>60.0</td>\n",
       "      <td>24.035</td>\n",
       "      <td>0.0</td>\n",
       "    </tr>\n",
       "    <tr>\n",
       "      <th>4</th>\n",
       "      <td>45.0</td>\n",
       "      <td>33.700</td>\n",
       "      <td>1.0</td>\n",
       "    </tr>\n",
       "    <tr>\n",
       "      <th>...</th>\n",
       "      <td>...</td>\n",
       "      <td>...</td>\n",
       "      <td>...</td>\n",
       "    </tr>\n",
       "    <tr>\n",
       "      <th>1065</th>\n",
       "      <td>60.0</td>\n",
       "      <td>28.900</td>\n",
       "      <td>0.0</td>\n",
       "    </tr>\n",
       "    <tr>\n",
       "      <th>1066</th>\n",
       "      <td>26.0</td>\n",
       "      <td>29.355</td>\n",
       "      <td>2.0</td>\n",
       "    </tr>\n",
       "    <tr>\n",
       "      <th>1067</th>\n",
       "      <td>51.0</td>\n",
       "      <td>34.960</td>\n",
       "      <td>2.0</td>\n",
       "    </tr>\n",
       "    <tr>\n",
       "      <th>1068</th>\n",
       "      <td>40.0</td>\n",
       "      <td>22.220</td>\n",
       "      <td>2.0</td>\n",
       "    </tr>\n",
       "    <tr>\n",
       "      <th>1069</th>\n",
       "      <td>57.0</td>\n",
       "      <td>27.940</td>\n",
       "      <td>1.0</td>\n",
       "    </tr>\n",
       "  </tbody>\n",
       "</table>\n",
       "<p>1070 rows × 3 columns</p>\n",
       "</div>"
      ],
      "text/plain": [
       "       age     bmi  children\n",
       "0     53.0  26.600       0.0\n",
       "1     53.0  21.400       1.0\n",
       "2     18.0  37.290       0.0\n",
       "3     60.0  24.035       0.0\n",
       "4     45.0  33.700       1.0\n",
       "...    ...     ...       ...\n",
       "1065  60.0  28.900       0.0\n",
       "1066  26.0  29.355       2.0\n",
       "1067  51.0  34.960       2.0\n",
       "1068  40.0  22.220       2.0\n",
       "1069  57.0  27.940       1.0\n",
       "\n",
       "[1070 rows x 3 columns]"
      ]
     },
     "execution_count": 5,
     "metadata": {},
     "output_type": "execute_result"
    }
   ],
   "source": [
    "X_train"
   ]
  },
  {
   "cell_type": "code",
   "execution_count": 6,
   "id": "95afa79d",
   "metadata": {
    "ExecuteTime": {
     "end_time": "2024-05-10T20:23:38.374392Z",
     "start_time": "2024-05-10T20:23:38.314234Z"
    },
    "code_folding": [
     3,
     27,
     71
    ]
   },
   "outputs": [],
   "source": [
    "# useful functions\n",
    "\n",
    "symbol_id = -1\n",
    "def create_symbol(suffix=''):\n",
    "    global symbol_id\n",
    "    symbol_id += 1\n",
    "    name = f'e{symbol_id}_{suffix}' if suffix else f'e{symbol_id}'\n",
    "    return sympy.Symbol(name=name)\n",
    "\n",
    "\n",
    "scaler_symbols = set([sb(f'k{i}') for i in range(X_train.shape[1]+1)])\n",
    "linearization_dict = dict()\n",
    "reverse_linearization_dict = dict()\n",
    "\n",
    "\n",
    "def sample_data(imputed_datasets, uncert_inds=[], seed=42):\n",
    "    imp_np = np.array(imputed_datasets)\n",
    "    if len(uncert_inds) == 0:\n",
    "        uncert_inds = list(itertools.product(range(imp_np.shape[1]),range(imp_np.shape[2])))\n",
    "    np.random.seed(seed)\n",
    "    choices = np.random.choice(np.arange(imp_np.shape[0]), len(uncert_inds), replace=True)\n",
    "    sample_result = imputed_datasets[0].copy()\n",
    "    for i, ind in enumerate(uncert_inds):\n",
    "        sample_result[ind[0]][ind[1]] = imputed_datasets[choices[i]][ind[0]][ind[1]]\n",
    "    return sample_result\n",
    "\n",
    "\n",
    "def linearization(expr_ls):\n",
    "    processed_expr_ls = [0 for _ in range(len(expr_ls))]\n",
    "    for expr_id, expr in enumerate(expr_ls):\n",
    "        # Do not support monomial expr currently, e.g., expr = 1.5*e1. \n",
    "        # At lease two monomials in expr, e.g., expr = 1.5*e1 + 2.\n",
    "        if not(expr.free_symbols):\n",
    "            processed_expr_ls[expr_id] += expr\n",
    "            continue\n",
    "        expr = expr.expand()\n",
    "        for arg in expr.args:\n",
    "            if not(arg.free_symbols):\n",
    "                processed_expr_ls[expr_id] += arg\n",
    "                continue\n",
    "            p = arg.as_poly()\n",
    "            monomial_exponents = p.monoms()[0]\n",
    "            \n",
    "            # only deal with non-linear monomials (order > 2)\n",
    "            if sum(monomial_exponents) <= 1:\n",
    "                processed_expr_ls[expr_id] += arg\n",
    "                continue\n",
    "\n",
    "            monomial = sympy.prod(x**k for x, k in zip(p.gens, monomial_exponents) \n",
    "                                  if not(x in scaler_symbols))\n",
    "            # check global substitution dictionary\n",
    "            if monomial in linearization_dict:\n",
    "                processed_expr_ls[expr_id] += arg.coeff(monomial)*linearization_dict[monomial]\n",
    "            else:\n",
    "                found = False\n",
    "                subs_monomial = create_symbol()\n",
    "                for symb in monomial.free_symbols:\n",
    "                    if symb in reverse_linearization_dict:\n",
    "                        equivalent_monomial = monomial.subs(symb, reverse_linearization_dict[symb])\n",
    "                        if equivalent_monomial in linearization_dict:\n",
    "                            subs_monomial = linearization_dict[equivalent_monomial]\n",
    "                            found = True\n",
    "                            break\n",
    "                linearization_dict[monomial] = subs_monomial\n",
    "                if not(found):\n",
    "                    reverse_linearization_dict[subs_monomial] = monomial\n",
    "                processed_expr_ls[expr_id] += arg.coeff(monomial)*subs_monomial\n",
    "                \n",
    "    return processed_expr_ls\n",
    "\n",
    "\n",
    "def merge_small_components_pca(expr_ls, budget=10):\n",
    "    if not(isinstance(expr_ls, sympy.Expr)):\n",
    "        expr_ls = sympy.Matrix(expr_ls)\n",
    "    if expr_ls.free_symbols:\n",
    "        center = expr_ls.subs(dict([(symb, 0) for symb in expr_ls.free_symbols]))\n",
    "    else:\n",
    "        return expr_ls\n",
    "    monomials_dict = get_generators(expr_ls)\n",
    "    generators = np.array([monomials_dict[m] for m in monomials_dict])\n",
    "    if len(generators) <= budget:\n",
    "        return expr_ls\n",
    "    monomials = [m for m in monomials_dict]\n",
    "    pca = PCA(n_components=len(generators[0]))\n",
    "    pca.fit(np.concatenate([generators, -generators]))\n",
    "    transformed_generators = pca.transform(generators)\n",
    "    transformed_generator_norms = np.linalg.norm(transformed_generators, axis=1, ord=2)\n",
    "    # from largest to lowest norm\n",
    "    sorted_indices = transformed_generator_norms.argsort()[::-1].astype(int)\n",
    "    sorted_transformed_generators = transformed_generators[sorted_indices]\n",
    "    sorted_monomials = [monomials[idx] for idx in sorted_indices]\n",
    "    new_transformed_generators = np.concatenate([sorted_transformed_generators[:budget], \n",
    "                                                 np.diag(np.sum(np.abs(sorted_transformed_generators[budget:]), \n",
    "                                                                axis=0))])\n",
    "    new_generators = pca.inverse_transform(new_transformed_generators)\n",
    "    new_monomials = sorted_monomials[:budget] + [create_symbol() for _ in range(len(generators[0]))]\n",
    "    \n",
    "    processed_expr_ls = center\n",
    "    for monomial_id in range(len(new_monomials)):\n",
    "        processed_expr_ls += sympy.Matrix(new_generators[monomial_id])*new_monomials[monomial_id]\n",
    "    \n",
    "    return processed_expr_ls\n",
    "\n",
    "\n",
    "def get_vertices(affset):\n",
    "    l = len(affset)\n",
    "    distinct_symbols = set()\n",
    "    for expr in affset:\n",
    "        if not(isinstance(expr, sympy.Expr)):\n",
    "            assert isinstance(expr, int) or isinstance(expr, float)\n",
    "        else:\n",
    "            if distinct_symbols:\n",
    "                distinct_symbols = distinct_symbols.union(expr.free_symbols)\n",
    "            else:\n",
    "                distinct_symbols = expr.free_symbols\n",
    "    distinct_symbols = list(distinct_symbols)\n",
    "    # print(distinct_symbols)\n",
    "    combs = [list(zip(distinct_symbols,list(l))) for l in list(itertools.product([-1, 1], repeat=len(distinct_symbols)))]\n",
    "    res = set()\n",
    "    for assignment in combs:\n",
    "        res.add(tuple([expr.subs(assignment) for expr in affset]))\n",
    "    return(res)\n",
    "\n",
    "\n",
    "# take a list of expressions as input, output the list of monomials and generator vectors,\n",
    "def get_generators(expr_ls):\n",
    "    monomials = dict()\n",
    "    for expr_id, expr in enumerate(expr_ls):\n",
    "        if not(isinstance(expr, sympy.Expr)) or not(expr.free_symbols):\n",
    "            continue\n",
    "        expr = expr.expand()\n",
    "        p = sympy.Poly(expr)\n",
    "        monomials_in_expr = [sympy.prod(x**k for x, k in zip(p.gens, mon)) \n",
    "                             for mon in p.monoms() if sum(mon) >= 1]\n",
    "        for monomial in monomials_in_expr:\n",
    "            coef = float(p.coeff_monomial(monomial))\n",
    "            if monomial in monomials:\n",
    "                if len(monomials[monomial]) < expr_id:\n",
    "                    monomials[monomial] = monomials[monomial] + [0 for _ in range(expr_id-len(monomials[monomial]))]\n",
    "                monomials[monomial].append(coef)\n",
    "            else:\n",
    "                monomials[monomial] = [0 for _ in range(expr_id)] + [coef]\n",
    "\n",
    "    for monomial in monomials:\n",
    "        if len(monomials[monomial]) < len(expr_ls):\n",
    "            monomials[monomial] = monomials[monomial] + [0 for _ in range(len(expr_ls)-len(monomials[monomial]))]\n",
    "    \n",
    "    return monomials\n",
    "\n",
    "\n",
    "def plot_conretiztion(affset, alpha = 0.5, color='red', budget=-1):\n",
    "    if budget > -1:\n",
    "        affset = merge_small_components_pca(affset, budget=budget)\n",
    "    pts = np.array(list(map(list, get_vertices(affset))))\n",
    "    hull = ConvexHull(pts)\n",
    "    plt.fill(pts[hull.vertices,0], pts[hull.vertices,1],color,alpha=alpha)"
   ]
  },
  {
   "cell_type": "code",
   "execution_count": 7,
   "id": "7aa6f24a",
   "metadata": {
    "ExecuteTime": {
     "end_time": "2024-05-10T20:23:43.854357Z",
     "start_time": "2024-05-10T20:23:43.834979Z"
    },
    "code_folding": []
   },
   "outputs": [],
   "source": [
    "def inject_ranges(X, y, uncertain_attr, uncertain_num, uncertain_radius_pct=None, uncertain_radius=None, seed=42):\n",
    "    global symbol_id\n",
    "    symbol_id = -1\n",
    "    \n",
    "    X_extended = np.append(np.ones((len(X), 1)), X, axis=1)\n",
    "    ss = StandardScaler()\n",
    "    X_extended[:, 1:] = ss.fit_transform(X_extended[:, 1:])\n",
    "    X_extended_symb = sympy.Matrix(X_extended)\n",
    "    \n",
    "    if not(uncertain_attr=='y'):\n",
    "        uncertain_attr_idx = X.columns.to_list().index(uncertain_attr) + 1\n",
    "        if not(uncertain_radius):\n",
    "            uncertain_radius = uncertain_radius_pct*(np.max(X_extended[:, uncertain_attr_idx])-\\\n",
    "                                                     np.min(X_extended[:, uncertain_attr_idx]))\n",
    "    else:\n",
    "        if not(uncertain_radius):\n",
    "            uncertain_radius = uncertain_radius_pct*(y_train.max()-y_train.min())[0]\n",
    "    \n",
    "    np.random.seed(seed)\n",
    "    uncertain_indices = np.random.choice(range(len(y)), uncertain_num, replace=False)\n",
    "    y_symb = sympy.Matrix(y)\n",
    "    symbols_in_data = set()\n",
    "    for uncertain_idx in uncertain_indices:\n",
    "        new_symb = create_symbol()\n",
    "        symbols_in_data.add(new_symb)\n",
    "        if uncertain_attr=='y':\n",
    "            y_symb[uncertain_idx] = y_symb[uncertain_idx] + uncertain_radius*new_symb\n",
    "        else:\n",
    "            X_extended_symb[uncertain_idx, uncertain_attr_idx] = X_extended_symb[uncertain_idx, uncertain_attr_idx] + uncertain_radius*new_symb\n",
    "    return X_extended_symb, y_symb, symbols_in_data, ss\n",
    "\n",
    "\n",
    "def sample_data_from_ranges(X, y, seed=42):\n",
    "    all_free_symbols = X.free_symbols.union(y.free_symbols)\n",
    "    subs_dict = dict()\n",
    "    np.random.seed(seed)\n",
    "    for symb in all_free_symbols:\n",
    "        subs_dict[symb] = (np.random.uniform()-.5)*2\n",
    "    return X.subs(subs_dict), y.subs(subs_dict)"
   ]
  },
  {
   "cell_type": "markdown",
   "id": "e69b2c92",
   "metadata": {},
   "source": [
    "## Verification"
   ]
  },
  {
   "cell_type": "code",
   "execution_count": 8,
   "id": "d26613a8",
   "metadata": {
    "ExecuteTime": {
     "end_time": "2024-05-10T20:27:11.642576Z",
     "start_time": "2024-05-10T20:27:11.598845Z"
    },
    "code_folding": []
   },
   "outputs": [],
   "source": [
    "def compute_robustness_ratio(X_train, y_train, X_test, y_test, robustness_radius, uncertain_attr, \n",
    "                             uncertain_num, uncertain_radius=None, uncertain_radius_ratio=None, \n",
    "                             lamb=0.1, seed=42):\n",
    "    X, y, symbols_in_data, ss = inject_ranges(X=X_train, y=y_train, uncertain_attr=uncertain_attr, \n",
    "                                              uncertain_num=uncertain_num, uncertain_radius=uncertain_radius, \n",
    "                                              uncertain_radius_pct=uncertain_radius_ratio, seed=seed)\n",
    "    \n",
    "    n = X.shape[0]\n",
    "    XS = copy.deepcopy(X)\n",
    "    XR = copy.deepcopy(X)\n",
    "    yS = copy.deepcopy(y)\n",
    "    yR = copy.deepcopy(y)\n",
    "\n",
    "    for row in range(X.shape[0]):\n",
    "        for col in range(X.shape[1]):\n",
    "            expr = X[row, col]\n",
    "            if isinstance(expr, sympy.Expr) and expr.free_symbols:\n",
    "                XR[row, col] = expr.subs(dict([(symb, 0) for symb in expr.free_symbols]))\n",
    "                XS[row, col] = expr - XR[row, col]\n",
    "            else:\n",
    "                XR[row, col] = expr\n",
    "                XS[row, col] = 0\n",
    "\n",
    "    for row in range(y.shape[0]):\n",
    "        expr = y[row]\n",
    "        if isinstance(expr, sympy.Expr) and expr.free_symbols:\n",
    "            yR[row] = expr.subs(dict([(symb, 0) for symb in expr.free_symbols]))\n",
    "            yS[row] = expr - yR[row]\n",
    "        else:\n",
    "            yR[row] = expr\n",
    "            yS[row] = 0\n",
    "\n",
    "    VT, sigma, V = np.linalg.svd(np.array((XR.T*XR).tolist()).astype(float))\n",
    "    V = sympy.Matrix(V)\n",
    "\n",
    "    wR = (XR.T*XR).inv()*XR.T*yR\n",
    "    wS_non_data = 0.0*V.row(0).T\n",
    "    for i in range(X.shape[1]):\n",
    "        wS_non_data = wS_non_data + sb(f'k{i}')*sb(f'ep{i}')*V.row(i).T\n",
    "\n",
    "    eigenvalues = 1 - sigma/n*2*lamb\n",
    "    for eigenvalue in eigenvalues:\n",
    "        assert abs(eigenvalue) <= 1\n",
    "    \n",
    "    A = V.T*np.diag(eigenvalues)*V\n",
    "\n",
    "    wS_data = (np.identity(X.shape[1])-A).inv()*((XS.T*XR + XR.T*XS)*wR - XS.T*yR - XR.T*yS)*(-lamb*2/n)\n",
    "\n",
    "    wS = wS_non_data + wS_data\n",
    "    w = wS + wR\n",
    "    w_prime = (-lamb*2/n)*((XS.T*XR + XR.T*XS + XS.T*XS)*wS + XS.T*XS*wR - XS.T*yS).expand()\n",
    "    w_prime_projected = V*w_prime\n",
    "    \n",
    "    eqs = []\n",
    "    for d in range(X.shape[1]):\n",
    "        eq1 = (1-abs(eigenvalues[d]))*sb(f'k{d}')\n",
    "        eq2 = 0\n",
    "        coef_dict = dict()\n",
    "        coef_dict['const'] = 0\n",
    "        for i in range(X.shape[1]):\n",
    "            coef_dict[sb(f'k{i}')] = 0\n",
    "        for arg in w_prime_projected[d].args:\n",
    "            contain_k = False\n",
    "            for i in range(X.shape[1]):\n",
    "                symb_k = sb(f'k{i}')\n",
    "                if symb_k in arg.free_symbols:\n",
    "                    coef_dict[symb_k] = coef_dict[symb_k] + abs(arg.args[0])\n",
    "                    contain_k = True\n",
    "                    break\n",
    "            if not(contain_k):\n",
    "                coef_dict['const'] = coef_dict['const'] + abs(arg.args[0])\n",
    "        eq2 = coef_dict['const']\n",
    "        for i in range(X.shape[1]):\n",
    "            eq2 = eq2 + sb(f'k{i}')*coef_dict[sb(f'k{i}')]\n",
    "        eqs.append(sympy.Eq(eq1, eq2))\n",
    "        \n",
    "    result = sympy.solve(eqs, [sb(f'k{i}') for i in range(X.shape[1])])\n",
    "    for ki in result:\n",
    "        assert result[ki] >= 0\n",
    "    param = wR + wS.subs(result)\n",
    "    \n",
    "    test_preds = sympy.Matrix(np.append(np.ones((len(X_test), 1)), ss.transform(X_test), axis=1))*param\n",
    "    robustness_ls = []\n",
    "    for pred in test_preds:\n",
    "        pred_range_radius = 0\n",
    "        for arg in pred.args:\n",
    "            if arg.free_symbols:\n",
    "                pred_range_radius += abs(arg.args[0])\n",
    "        if pred_range_radius <= robustness_radius:\n",
    "            robustness_ls.append(1)\n",
    "        else:\n",
    "            robustness_ls.append(0)\n",
    "    \n",
    "#     print(param)\n",
    "    return np.mean(robustness_ls)\n",
    "\n",
    "\n",
    "# if interval=True, use interval arithmetic, otherwise use zonotopes\n",
    "def compute_robustness_ratio_label_error(X_train, y_train, X_test, y_test, robustness_radius,\n",
    "                                         uncertain_num, uncertain_radius=None, \n",
    "                                         lamb=0.1, seed=42, interval=True):\n",
    "    X, y, symbols_in_data, ss = inject_ranges(X=X_train, y=y_train, uncertain_attr='y', \n",
    "                                              uncertain_num=uncertain_num, uncertain_radius=uncertain_radius, \n",
    "                                              uncertain_radius_pct=None, seed=seed)\n",
    "    \n",
    "    assert len(X.free_symbols)==0\n",
    "    # closed-form\n",
    "    param = (X.T*X).inv()*X.T*y\n",
    "    \n",
    "    if interval:\n",
    "        # make param intervals\n",
    "        for d in range(len(param)):\n",
    "            expr = param[d]\n",
    "            if not(expr.free_symbols):\n",
    "                continue\n",
    "            else:\n",
    "                constant_part = 0\n",
    "                interval_radius = 0\n",
    "                for arg in expr.args:\n",
    "                    if arg.free_symbols:\n",
    "                        interval_radius += abs(arg.args[0])\n",
    "                    else:\n",
    "                        assert constant_part == 0\n",
    "                        constant_part = arg\n",
    "                param[d] = constant_part + create_symbol()*interval_radius\n",
    "    \n",
    "    test_preds = sympy.Matrix(np.append(np.ones((len(X_test), 1)), ss.transform(X_test), axis=1))*param\n",
    "    robustness_ls = []\n",
    "    for pred in test_preds:\n",
    "        pred_range_radius = 0\n",
    "        for arg in pred.args:\n",
    "            if arg.free_symbols:\n",
    "                pred_range_radius += abs(arg.args[0])\n",
    "        if pred_range_radius <= robustness_radius:\n",
    "            robustness_ls.append(1)\n",
    "        else:\n",
    "            robustness_ls.append(0)\n",
    "    \n",
    "#     print(param)\n",
    "    return np.mean(robustness_ls)\n",
    "    "
   ]
  },
  {
   "cell_type": "markdown",
   "id": "6b592a66",
   "metadata": {},
   "source": [
    "**Zonotope + Label Error**"
   ]
  },
  {
   "cell_type": "code",
   "execution_count": 24,
   "id": "ea3d9c94",
   "metadata": {
    "ExecuteTime": {
     "end_time": "2024-05-10T20:30:59.820009Z",
     "start_time": "2024-05-10T20:27:45.117658Z"
    },
    "scrolled": true
   },
   "outputs": [
    {
     "data": {
      "application/vnd.jupyter.widget-view+json": {
       "model_id": "661c89c8d4554f5b899717ed87302ed4",
       "version_major": 2,
       "version_minor": 0
      },
      "text/plain": [
       "Progess:   0%|          | 0/10 [00:00<?, ?it/s]"
      ]
     },
     "metadata": {},
     "output_type": "display_data"
    },
    {
     "data": {
      "application/vnd.jupyter.widget-view+json": {
       "model_id": "d536326203f54dc789a1f64e0c4dd20b",
       "version_major": 2,
       "version_minor": 0
      },
      "text/plain": [
       "Varying Uncertain Radius:   0%|          | 0/6 [00:00<?, ?it/s]"
      ]
     },
     "metadata": {},
     "output_type": "display_data"
    },
    {
     "data": {
      "application/vnd.jupyter.widget-view+json": {
       "model_id": "e7c9c8de9d2d4075ab3b566d0721bb6c",
       "version_major": 2,
       "version_minor": 0
      },
      "text/plain": [
       "Varying Uncertain Radius:   0%|          | 0/6 [00:00<?, ?it/s]"
      ]
     },
     "metadata": {},
     "output_type": "display_data"
    },
    {
     "data": {
      "application/vnd.jupyter.widget-view+json": {
       "model_id": "c61df8a216704018a36656b7cf18f0ca",
       "version_major": 2,
       "version_minor": 0
      },
      "text/plain": [
       "Varying Uncertain Radius:   0%|          | 0/6 [00:00<?, ?it/s]"
      ]
     },
     "metadata": {},
     "output_type": "display_data"
    },
    {
     "data": {
      "application/vnd.jupyter.widget-view+json": {
       "model_id": "19041e7d0b694c13ae967e87b0e78fbe",
       "version_major": 2,
       "version_minor": 0
      },
      "text/plain": [
       "Varying Uncertain Radius:   0%|          | 0/6 [00:00<?, ?it/s]"
      ]
     },
     "metadata": {},
     "output_type": "display_data"
    },
    {
     "data": {
      "application/vnd.jupyter.widget-view+json": {
       "model_id": "51165bc167164d9e996ec9b13db4dfd6",
       "version_major": 2,
       "version_minor": 0
      },
      "text/plain": [
       "Varying Uncertain Radius:   0%|          | 0/6 [00:00<?, ?it/s]"
      ]
     },
     "metadata": {},
     "output_type": "display_data"
    },
    {
     "data": {
      "application/vnd.jupyter.widget-view+json": {
       "model_id": "40b6ba1bee5d41c1bb8a10aeecfeaabd",
       "version_major": 2,
       "version_minor": 0
      },
      "text/plain": [
       "Varying Uncertain Radius:   0%|          | 0/6 [00:00<?, ?it/s]"
      ]
     },
     "metadata": {},
     "output_type": "display_data"
    },
    {
     "data": {
      "application/vnd.jupyter.widget-view+json": {
       "model_id": "7f71b17f4ab0486ebecfa9f4d85a6282",
       "version_major": 2,
       "version_minor": 0
      },
      "text/plain": [
       "Varying Uncertain Radius:   0%|          | 0/6 [00:00<?, ?it/s]"
      ]
     },
     "metadata": {},
     "output_type": "display_data"
    },
    {
     "data": {
      "application/vnd.jupyter.widget-view+json": {
       "model_id": "12102789f145408b87d288c4457b56ea",
       "version_major": 2,
       "version_minor": 0
      },
      "text/plain": [
       "Varying Uncertain Radius:   0%|          | 0/6 [00:00<?, ?it/s]"
      ]
     },
     "metadata": {},
     "output_type": "display_data"
    },
    {
     "data": {
      "application/vnd.jupyter.widget-view+json": {
       "model_id": "345ae20e22e14af790617deccc238c65",
       "version_major": 2,
       "version_minor": 0
      },
      "text/plain": [
       "Varying Uncertain Radius:   0%|          | 0/6 [00:00<?, ?it/s]"
      ]
     },
     "metadata": {},
     "output_type": "display_data"
    },
    {
     "data": {
      "application/vnd.jupyter.widget-view+json": {
       "model_id": "e0763b3085d545dd9946dcc009d59e70",
       "version_major": 2,
       "version_minor": 0
      },
      "text/plain": [
       "Varying Uncertain Radius:   0%|          | 0/6 [00:00<?, ?it/s]"
      ]
     },
     "metadata": {},
     "output_type": "display_data"
    }
   ],
   "source": [
    "# mpg +- 2 is robust\n",
    "robustness_radius = 5\n",
    "ratios = [1, 3, 5, 7, 9, 11]\n",
    "uncertain_radiuses = [ratio*robustness_radius for ratio in ratios]\n",
    "uncertain_pcts = list(np.arange(1, 11)/100)\n",
    "robustness_dict = dict()\n",
    "robustness_dict['uncertain_radius'] = uncertain_radiuses\n",
    "robustness_dict['uncertain_radius_ratios'] = ratios\n",
    "for uncertain_pct in tqdm(uncertain_pcts, desc='Progess'):\n",
    "    robustness_dict[uncertain_pct] = list()\n",
    "    uncertain_num = int(uncertain_pct*len(y_train))\n",
    "    for uncertain_radius in tqdm(uncertain_radiuses, desc=f'Varying Uncertain Radius'):\n",
    "        robustness_ratio = compute_robustness_ratio(X_train, y_train, X_test, y_test, \n",
    "                                                    uncertain_attr='y', uncertain_num=uncertain_num, \n",
    "                                                    uncertain_radius=uncertain_radius, \n",
    "                                                    robustness_radius=robustness_radius)\n",
    "        robustness_dict[uncertain_pct].append(robustness_ratio)"
   ]
  },
  {
   "cell_type": "code",
   "execution_count": 25,
   "id": "bdcf47ea",
   "metadata": {
    "ExecuteTime": {
     "end_time": "2024-05-10T20:31:01.910214Z",
     "start_time": "2024-05-10T20:31:01.876574Z"
    }
   },
   "outputs": [
    {
     "data": {
      "text/html": [
       "<div>\n",
       "<style scoped>\n",
       "    .dataframe tbody tr th:only-of-type {\n",
       "        vertical-align: middle;\n",
       "    }\n",
       "\n",
       "    .dataframe tbody tr th {\n",
       "        vertical-align: top;\n",
       "    }\n",
       "\n",
       "    .dataframe thead th {\n",
       "        text-align: right;\n",
       "    }\n",
       "</style>\n",
       "<table border=\"1\" class=\"dataframe\">\n",
       "  <thead>\n",
       "    <tr style=\"text-align: right;\">\n",
       "      <th></th>\n",
       "      <th>uncertain_radius</th>\n",
       "      <th>uncertain_radius_ratios</th>\n",
       "      <th>0.01</th>\n",
       "      <th>0.02</th>\n",
       "      <th>0.03</th>\n",
       "      <th>0.04</th>\n",
       "      <th>0.05</th>\n",
       "      <th>0.06</th>\n",
       "      <th>0.07</th>\n",
       "      <th>0.08</th>\n",
       "      <th>0.09</th>\n",
       "      <th>0.1</th>\n",
       "    </tr>\n",
       "  </thead>\n",
       "  <tbody>\n",
       "    <tr>\n",
       "      <th>0</th>\n",
       "      <td>5</td>\n",
       "      <td>1</td>\n",
       "      <td>1.0</td>\n",
       "      <td>1.0</td>\n",
       "      <td>1.000000</td>\n",
       "      <td>1.000000</td>\n",
       "      <td>1.000000</td>\n",
       "      <td>1.000000</td>\n",
       "      <td>1.000000</td>\n",
       "      <td>1.000000</td>\n",
       "      <td>1.000000</td>\n",
       "      <td>1.000000</td>\n",
       "    </tr>\n",
       "    <tr>\n",
       "      <th>1</th>\n",
       "      <td>15</td>\n",
       "      <td>3</td>\n",
       "      <td>1.0</td>\n",
       "      <td>1.0</td>\n",
       "      <td>1.000000</td>\n",
       "      <td>1.000000</td>\n",
       "      <td>1.000000</td>\n",
       "      <td>1.000000</td>\n",
       "      <td>1.000000</td>\n",
       "      <td>1.000000</td>\n",
       "      <td>1.000000</td>\n",
       "      <td>1.000000</td>\n",
       "    </tr>\n",
       "    <tr>\n",
       "      <th>2</th>\n",
       "      <td>25</td>\n",
       "      <td>5</td>\n",
       "      <td>1.0</td>\n",
       "      <td>1.0</td>\n",
       "      <td>1.000000</td>\n",
       "      <td>1.000000</td>\n",
       "      <td>1.000000</td>\n",
       "      <td>1.000000</td>\n",
       "      <td>1.000000</td>\n",
       "      <td>0.996269</td>\n",
       "      <td>0.973881</td>\n",
       "      <td>0.914179</td>\n",
       "    </tr>\n",
       "    <tr>\n",
       "      <th>3</th>\n",
       "      <td>35</td>\n",
       "      <td>7</td>\n",
       "      <td>1.0</td>\n",
       "      <td>1.0</td>\n",
       "      <td>1.000000</td>\n",
       "      <td>1.000000</td>\n",
       "      <td>1.000000</td>\n",
       "      <td>0.996269</td>\n",
       "      <td>0.944030</td>\n",
       "      <td>0.787313</td>\n",
       "      <td>0.582090</td>\n",
       "      <td>0.417910</td>\n",
       "    </tr>\n",
       "    <tr>\n",
       "      <th>4</th>\n",
       "      <td>45</td>\n",
       "      <td>9</td>\n",
       "      <td>1.0</td>\n",
       "      <td>1.0</td>\n",
       "      <td>1.000000</td>\n",
       "      <td>0.996269</td>\n",
       "      <td>0.958955</td>\n",
       "      <td>0.791045</td>\n",
       "      <td>0.608209</td>\n",
       "      <td>0.365672</td>\n",
       "      <td>0.208955</td>\n",
       "      <td>0.126866</td>\n",
       "    </tr>\n",
       "    <tr>\n",
       "      <th>5</th>\n",
       "      <td>55</td>\n",
       "      <td>11</td>\n",
       "      <td>1.0</td>\n",
       "      <td>1.0</td>\n",
       "      <td>0.996269</td>\n",
       "      <td>0.970149</td>\n",
       "      <td>0.772388</td>\n",
       "      <td>0.496269</td>\n",
       "      <td>0.279851</td>\n",
       "      <td>0.145522</td>\n",
       "      <td>0.082090</td>\n",
       "      <td>0.014925</td>\n",
       "    </tr>\n",
       "  </tbody>\n",
       "</table>\n",
       "</div>"
      ],
      "text/plain": [
       "   uncertain_radius  uncertain_radius_ratios  0.01  0.02      0.03      0.04  \\\n",
       "0                 5                        1   1.0   1.0  1.000000  1.000000   \n",
       "1                15                        3   1.0   1.0  1.000000  1.000000   \n",
       "2                25                        5   1.0   1.0  1.000000  1.000000   \n",
       "3                35                        7   1.0   1.0  1.000000  1.000000   \n",
       "4                45                        9   1.0   1.0  1.000000  0.996269   \n",
       "5                55                       11   1.0   1.0  0.996269  0.970149   \n",
       "\n",
       "       0.05      0.06      0.07      0.08      0.09       0.1  \n",
       "0  1.000000  1.000000  1.000000  1.000000  1.000000  1.000000  \n",
       "1  1.000000  1.000000  1.000000  1.000000  1.000000  1.000000  \n",
       "2  1.000000  1.000000  1.000000  0.996269  0.973881  0.914179  \n",
       "3  1.000000  0.996269  0.944030  0.787313  0.582090  0.417910  \n",
       "4  0.958955  0.791045  0.608209  0.365672  0.208955  0.126866  \n",
       "5  0.772388  0.496269  0.279851  0.145522  0.082090  0.014925  "
      ]
     },
     "execution_count": 25,
     "metadata": {},
     "output_type": "execute_result"
    }
   ],
   "source": [
    "pd.DataFrame(robustness_dict)"
   ]
  },
  {
   "cell_type": "code",
   "execution_count": null,
   "id": "c11c1086",
   "metadata": {},
   "outputs": [],
   "source": []
  },
  {
   "cell_type": "markdown",
   "id": "b9c850ea",
   "metadata": {},
   "source": [
    "**Interval + Label Error**"
   ]
  },
  {
   "cell_type": "code",
   "execution_count": 26,
   "id": "2a0e2fe3",
   "metadata": {
    "ExecuteTime": {
     "end_time": "2024-04-26T22:28:16.912933Z",
     "start_time": "2024-04-26T22:27:35.714940Z"
    },
    "scrolled": true
   },
   "outputs": [
    {
     "data": {
      "application/vnd.jupyter.widget-view+json": {
       "model_id": "d6a90fffbad64e0aab2b1bedcd3ffb61",
       "version_major": 2,
       "version_minor": 0
      },
      "text/plain": [
       "Progess:   0%|          | 0/10 [00:00<?, ?it/s]"
      ]
     },
     "metadata": {},
     "output_type": "display_data"
    },
    {
     "data": {
      "application/vnd.jupyter.widget-view+json": {
       "model_id": "17367791e1f34a6caba41e3471a624bb",
       "version_major": 2,
       "version_minor": 0
      },
      "text/plain": [
       "Varying Uncertain Radius:   0%|          | 0/6 [00:00<?, ?it/s]"
      ]
     },
     "metadata": {},
     "output_type": "display_data"
    },
    {
     "data": {
      "application/vnd.jupyter.widget-view+json": {
       "model_id": "5ba3501ee3fb4f458526ae2b4ca598e6",
       "version_major": 2,
       "version_minor": 0
      },
      "text/plain": [
       "Varying Uncertain Radius:   0%|          | 0/6 [00:00<?, ?it/s]"
      ]
     },
     "metadata": {},
     "output_type": "display_data"
    },
    {
     "data": {
      "application/vnd.jupyter.widget-view+json": {
       "model_id": "99685c18b51d4c179de8b0ff03563894",
       "version_major": 2,
       "version_minor": 0
      },
      "text/plain": [
       "Varying Uncertain Radius:   0%|          | 0/6 [00:00<?, ?it/s]"
      ]
     },
     "metadata": {},
     "output_type": "display_data"
    },
    {
     "data": {
      "application/vnd.jupyter.widget-view+json": {
       "model_id": "49eeee8491fa4f67aa2fbb96afe30b14",
       "version_major": 2,
       "version_minor": 0
      },
      "text/plain": [
       "Varying Uncertain Radius:   0%|          | 0/6 [00:00<?, ?it/s]"
      ]
     },
     "metadata": {},
     "output_type": "display_data"
    },
    {
     "data": {
      "application/vnd.jupyter.widget-view+json": {
       "model_id": "8dbf1a56484b4c71a59d8ef0d5b3d0df",
       "version_major": 2,
       "version_minor": 0
      },
      "text/plain": [
       "Varying Uncertain Radius:   0%|          | 0/6 [00:00<?, ?it/s]"
      ]
     },
     "metadata": {},
     "output_type": "display_data"
    },
    {
     "data": {
      "application/vnd.jupyter.widget-view+json": {
       "model_id": "ab71e1657b7e4ab9ad33900caa31a839",
       "version_major": 2,
       "version_minor": 0
      },
      "text/plain": [
       "Varying Uncertain Radius:   0%|          | 0/6 [00:00<?, ?it/s]"
      ]
     },
     "metadata": {},
     "output_type": "display_data"
    },
    {
     "data": {
      "application/vnd.jupyter.widget-view+json": {
       "model_id": "bb81005adcaa4d86b0fd54a0c457d0e4",
       "version_major": 2,
       "version_minor": 0
      },
      "text/plain": [
       "Varying Uncertain Radius:   0%|          | 0/6 [00:00<?, ?it/s]"
      ]
     },
     "metadata": {},
     "output_type": "display_data"
    },
    {
     "data": {
      "application/vnd.jupyter.widget-view+json": {
       "model_id": "5e83b5bafabc4b34933ecbed1341f8da",
       "version_major": 2,
       "version_minor": 0
      },
      "text/plain": [
       "Varying Uncertain Radius:   0%|          | 0/6 [00:00<?, ?it/s]"
      ]
     },
     "metadata": {},
     "output_type": "display_data"
    },
    {
     "data": {
      "application/vnd.jupyter.widget-view+json": {
       "model_id": "1db302d2cbd1435fb91eef42b04663f5",
       "version_major": 2,
       "version_minor": 0
      },
      "text/plain": [
       "Varying Uncertain Radius:   0%|          | 0/6 [00:00<?, ?it/s]"
      ]
     },
     "metadata": {},
     "output_type": "display_data"
    },
    {
     "data": {
      "application/vnd.jupyter.widget-view+json": {
       "model_id": "aaa16c83552249fe8eac2e1529392e90",
       "version_major": 2,
       "version_minor": 0
      },
      "text/plain": [
       "Varying Uncertain Radius:   0%|          | 0/6 [00:00<?, ?it/s]"
      ]
     },
     "metadata": {},
     "output_type": "display_data"
    }
   ],
   "source": [
    "# mpg +- 2 is robust\n",
    "robustness_radius = 5\n",
    "ratios = [1, 3, 5, 7, 9, 11]\n",
    "uncertain_radiuses = [ratio*robustness_radius for ratio in ratios]\n",
    "uncertain_pcts = list(np.arange(1, 11)/100)\n",
    "robustness_dict_interval = dict()\n",
    "robustness_dict_interval['uncertain_radius'] = uncertain_radiuses\n",
    "robustness_dict_interval['uncertain_radius_ratios'] = ratios\n",
    "for uncertain_pct in tqdm(uncertain_pcts, desc='Progess'):\n",
    "    robustness_dict_interval[uncertain_pct] = list()\n",
    "    uncertain_num = int(uncertain_pct*len(y_train))\n",
    "    for uncertain_radius in tqdm(uncertain_radiuses, desc=f'Varying Uncertain Radius'):\n",
    "        robustness_ratio = compute_robustness_ratio_label_error(X_train, y_train, X_test, y_test, \n",
    "                                                                uncertain_num=uncertain_num,\n",
    "                                                                uncertain_radius=uncertain_radius, \n",
    "                                                                robustness_radius=robustness_radius,\n",
    "                                                                interval=True)\n",
    "        robustness_dict_interval[uncertain_pct].append(robustness_ratio)"
   ]
  },
  {
   "cell_type": "code",
   "execution_count": 29,
   "id": "9b71f4db",
   "metadata": {
    "ExecuteTime": {
     "end_time": "2024-04-26T22:28:16.925459Z",
     "start_time": "2024-04-26T22:28:16.914227Z"
    }
   },
   "outputs": [
    {
     "data": {
      "text/html": [
       "<div>\n",
       "<style scoped>\n",
       "    .dataframe tbody tr th:only-of-type {\n",
       "        vertical-align: middle;\n",
       "    }\n",
       "\n",
       "    .dataframe tbody tr th {\n",
       "        vertical-align: top;\n",
       "    }\n",
       "\n",
       "    .dataframe thead th {\n",
       "        text-align: right;\n",
       "    }\n",
       "</style>\n",
       "<table border=\"1\" class=\"dataframe\">\n",
       "  <thead>\n",
       "    <tr style=\"text-align: right;\">\n",
       "      <th></th>\n",
       "      <th>uncertain_radius</th>\n",
       "      <th>uncertain_radius_ratios</th>\n",
       "      <th>0.01</th>\n",
       "      <th>0.02</th>\n",
       "      <th>0.03</th>\n",
       "      <th>0.04</th>\n",
       "      <th>0.05</th>\n",
       "      <th>0.06</th>\n",
       "      <th>0.07</th>\n",
       "      <th>0.08</th>\n",
       "      <th>0.09</th>\n",
       "      <th>0.1</th>\n",
       "    </tr>\n",
       "  </thead>\n",
       "  <tbody>\n",
       "    <tr>\n",
       "      <th>0</th>\n",
       "      <td>5</td>\n",
       "      <td>1</td>\n",
       "      <td>1.0</td>\n",
       "      <td>1.000000</td>\n",
       "      <td>1.000000</td>\n",
       "      <td>1.000000</td>\n",
       "      <td>1.000000</td>\n",
       "      <td>1.000000</td>\n",
       "      <td>1.000000</td>\n",
       "      <td>1.000000</td>\n",
       "      <td>1.000000</td>\n",
       "      <td>1.000000</td>\n",
       "    </tr>\n",
       "    <tr>\n",
       "      <th>1</th>\n",
       "      <td>15</td>\n",
       "      <td>3</td>\n",
       "      <td>1.0</td>\n",
       "      <td>1.000000</td>\n",
       "      <td>1.000000</td>\n",
       "      <td>1.000000</td>\n",
       "      <td>1.000000</td>\n",
       "      <td>1.000000</td>\n",
       "      <td>0.992537</td>\n",
       "      <td>0.977612</td>\n",
       "      <td>0.832090</td>\n",
       "      <td>0.694030</td>\n",
       "    </tr>\n",
       "    <tr>\n",
       "      <th>2</th>\n",
       "      <td>25</td>\n",
       "      <td>5</td>\n",
       "      <td>1.0</td>\n",
       "      <td>1.000000</td>\n",
       "      <td>1.000000</td>\n",
       "      <td>0.992537</td>\n",
       "      <td>0.914179</td>\n",
       "      <td>0.671642</td>\n",
       "      <td>0.440299</td>\n",
       "      <td>0.268657</td>\n",
       "      <td>0.164179</td>\n",
       "      <td>0.108209</td>\n",
       "    </tr>\n",
       "    <tr>\n",
       "      <th>3</th>\n",
       "      <td>35</td>\n",
       "      <td>7</td>\n",
       "      <td>1.0</td>\n",
       "      <td>1.000000</td>\n",
       "      <td>0.973881</td>\n",
       "      <td>0.742537</td>\n",
       "      <td>0.384328</td>\n",
       "      <td>0.201493</td>\n",
       "      <td>0.134328</td>\n",
       "      <td>0.063433</td>\n",
       "      <td>0.037313</td>\n",
       "      <td>0.011194</td>\n",
       "    </tr>\n",
       "    <tr>\n",
       "      <th>4</th>\n",
       "      <td>45</td>\n",
       "      <td>9</td>\n",
       "      <td>1.0</td>\n",
       "      <td>0.996269</td>\n",
       "      <td>0.682836</td>\n",
       "      <td>0.320896</td>\n",
       "      <td>0.160448</td>\n",
       "      <td>0.082090</td>\n",
       "      <td>0.037313</td>\n",
       "      <td>0.007463</td>\n",
       "      <td>0.003731</td>\n",
       "      <td>0.000000</td>\n",
       "    </tr>\n",
       "    <tr>\n",
       "      <th>5</th>\n",
       "      <td>55</td>\n",
       "      <td>11</td>\n",
       "      <td>1.0</td>\n",
       "      <td>0.973881</td>\n",
       "      <td>0.354478</td>\n",
       "      <td>0.160448</td>\n",
       "      <td>0.067164</td>\n",
       "      <td>0.026119</td>\n",
       "      <td>0.003731</td>\n",
       "      <td>0.003731</td>\n",
       "      <td>0.000000</td>\n",
       "      <td>0.000000</td>\n",
       "    </tr>\n",
       "  </tbody>\n",
       "</table>\n",
       "</div>"
      ],
      "text/plain": [
       "   uncertain_radius  uncertain_radius_ratios  0.01      0.02      0.03  \\\n",
       "0                 5                        1   1.0  1.000000  1.000000   \n",
       "1                15                        3   1.0  1.000000  1.000000   \n",
       "2                25                        5   1.0  1.000000  1.000000   \n",
       "3                35                        7   1.0  1.000000  0.973881   \n",
       "4                45                        9   1.0  0.996269  0.682836   \n",
       "5                55                       11   1.0  0.973881  0.354478   \n",
       "\n",
       "       0.04      0.05      0.06      0.07      0.08      0.09       0.1  \n",
       "0  1.000000  1.000000  1.000000  1.000000  1.000000  1.000000  1.000000  \n",
       "1  1.000000  1.000000  1.000000  0.992537  0.977612  0.832090  0.694030  \n",
       "2  0.992537  0.914179  0.671642  0.440299  0.268657  0.164179  0.108209  \n",
       "3  0.742537  0.384328  0.201493  0.134328  0.063433  0.037313  0.011194  \n",
       "4  0.320896  0.160448  0.082090  0.037313  0.007463  0.003731  0.000000  \n",
       "5  0.160448  0.067164  0.026119  0.003731  0.003731  0.000000  0.000000  "
      ]
     },
     "execution_count": 29,
     "metadata": {},
     "output_type": "execute_result"
    }
   ],
   "source": [
    "pd.DataFrame(robustness_dict_interval)"
   ]
  },
  {
   "cell_type": "code",
   "execution_count": null,
   "id": "ff409634",
   "metadata": {},
   "outputs": [],
   "source": []
  },
  {
   "cell_type": "code",
   "execution_count": 18,
   "id": "d40f20c3",
   "metadata": {
    "ExecuteTime": {
     "end_time": "2024-04-26T22:30:40.563601Z",
     "start_time": "2024-04-26T22:28:30.031668Z"
    },
    "scrolled": true
   },
   "outputs": [
    {
     "data": {
      "application/vnd.jupyter.widget-view+json": {
       "model_id": "f7ffbc262b284d6aa86ae3669105f678",
       "version_major": 2,
       "version_minor": 0
      },
      "text/plain": [
       "Progess:   0%|          | 0/10 [00:00<?, ?it/s]"
      ]
     },
     "metadata": {},
     "output_type": "display_data"
    },
    {
     "data": {
      "application/vnd.jupyter.widget-view+json": {
       "model_id": "e5e399ae137b489c960c3b5267f34815",
       "version_major": 2,
       "version_minor": 0
      },
      "text/plain": [
       "Varying Uncertain Radius:   0%|          | 0/6 [00:00<?, ?it/s]"
      ]
     },
     "metadata": {},
     "output_type": "display_data"
    },
    {
     "data": {
      "application/vnd.jupyter.widget-view+json": {
       "model_id": "0d6e1054a1f441719ac7484dd6d30c18",
       "version_major": 2,
       "version_minor": 0
      },
      "text/plain": [
       "Varying Uncertain Radius:   0%|          | 0/6 [00:00<?, ?it/s]"
      ]
     },
     "metadata": {},
     "output_type": "display_data"
    },
    {
     "data": {
      "application/vnd.jupyter.widget-view+json": {
       "model_id": "c78af9eea40c48a780923b72d2a3c96c",
       "version_major": 2,
       "version_minor": 0
      },
      "text/plain": [
       "Varying Uncertain Radius:   0%|          | 0/6 [00:00<?, ?it/s]"
      ]
     },
     "metadata": {},
     "output_type": "display_data"
    },
    {
     "data": {
      "application/vnd.jupyter.widget-view+json": {
       "model_id": "64c68ae1f69d41ef94d005cbd5636d5c",
       "version_major": 2,
       "version_minor": 0
      },
      "text/plain": [
       "Varying Uncertain Radius:   0%|          | 0/6 [00:00<?, ?it/s]"
      ]
     },
     "metadata": {},
     "output_type": "display_data"
    },
    {
     "data": {
      "application/vnd.jupyter.widget-view+json": {
       "model_id": "2373deedba794fa78814bb1ee98274cb",
       "version_major": 2,
       "version_minor": 0
      },
      "text/plain": [
       "Varying Uncertain Radius:   0%|          | 0/6 [00:00<?, ?it/s]"
      ]
     },
     "metadata": {},
     "output_type": "display_data"
    },
    {
     "data": {
      "application/vnd.jupyter.widget-view+json": {
       "model_id": "40221362e9e44f8fa66bb7521391f6e0",
       "version_major": 2,
       "version_minor": 0
      },
      "text/plain": [
       "Varying Uncertain Radius:   0%|          | 0/6 [00:00<?, ?it/s]"
      ]
     },
     "metadata": {},
     "output_type": "display_data"
    },
    {
     "data": {
      "application/vnd.jupyter.widget-view+json": {
       "model_id": "dc55bb95516a47648f250006349557cb",
       "version_major": 2,
       "version_minor": 0
      },
      "text/plain": [
       "Varying Uncertain Radius:   0%|          | 0/6 [00:00<?, ?it/s]"
      ]
     },
     "metadata": {},
     "output_type": "display_data"
    },
    {
     "data": {
      "application/vnd.jupyter.widget-view+json": {
       "model_id": "894bdd0e20e44c3186279d35c50c0165",
       "version_major": 2,
       "version_minor": 0
      },
      "text/plain": [
       "Varying Uncertain Radius:   0%|          | 0/6 [00:00<?, ?it/s]"
      ]
     },
     "metadata": {},
     "output_type": "display_data"
    },
    {
     "data": {
      "application/vnd.jupyter.widget-view+json": {
       "model_id": "a5d7a6a1cc8348f8b6b768bde3f70fef",
       "version_major": 2,
       "version_minor": 0
      },
      "text/plain": [
       "Varying Uncertain Radius:   0%|          | 0/6 [00:00<?, ?it/s]"
      ]
     },
     "metadata": {},
     "output_type": "display_data"
    },
    {
     "data": {
      "application/vnd.jupyter.widget-view+json": {
       "model_id": "11efa58bb81c4fa5aca95d097974abd5",
       "version_major": 2,
       "version_minor": 0
      },
      "text/plain": [
       "Varying Uncertain Radius:   0%|          | 0/6 [00:00<?, ?it/s]"
      ]
     },
     "metadata": {},
     "output_type": "display_data"
    }
   ],
   "source": [
    "# mpg +- 2 is robust\n",
    "robustness_radius = 2\n",
    "ratios = [0.5, 1, 2, 3, 4, 5]\n",
    "uncertain_radiuses = [ratio*robustness_radius for ratio in ratios]\n",
    "uncertain_pcts = list(np.arange(1, 11)/100)\n",
    "robustness_dict_interval = dict()\n",
    "robustness_dict_interval['uncertain_radius'] = uncertain_radiuses\n",
    "robustness_dict_interval['uncertain_radius_ratios'] = ratios\n",
    "for uncertain_pct in tqdm(uncertain_pcts, desc='Progess'):\n",
    "    robustness_dict_interval[uncertain_pct] = list()\n",
    "    uncertain_num = int(uncertain_pct*len(y_train))\n",
    "    for uncertain_radius in tqdm(uncertain_radiuses, desc=f'Varying Uncertain Radius'):\n",
    "        robustness_ratio = compute_robustness_ratio_label_error(X_train, y_train, X_test, y_test, \n",
    "                                                                uncertain_num=uncertain_num,\n",
    "                                                                uncertain_radius=uncertain_radius, \n",
    "                                                                robustness_radius=robustness_radius,\n",
    "                                                                interval=False)\n",
    "        robustness_dict_interval[uncertain_pct].append(robustness_ratio)"
   ]
  },
  {
   "cell_type": "code",
   "execution_count": 345,
   "id": "6e29c2c2",
   "metadata": {
    "ExecuteTime": {
     "end_time": "2024-04-26T22:30:40.574899Z",
     "start_time": "2024-04-26T22:30:40.564819Z"
    }
   },
   "outputs": [
    {
     "data": {
      "text/html": [
       "<div>\n",
       "<style scoped>\n",
       "    .dataframe tbody tr th:only-of-type {\n",
       "        vertical-align: middle;\n",
       "    }\n",
       "\n",
       "    .dataframe tbody tr th {\n",
       "        vertical-align: top;\n",
       "    }\n",
       "\n",
       "    .dataframe thead th {\n",
       "        text-align: right;\n",
       "    }\n",
       "</style>\n",
       "<table border=\"1\" class=\"dataframe\">\n",
       "  <thead>\n",
       "    <tr style=\"text-align: right;\">\n",
       "      <th></th>\n",
       "      <th>uncertain_radius</th>\n",
       "      <th>uncertain_radius_ratios</th>\n",
       "      <th>0.01</th>\n",
       "      <th>0.02</th>\n",
       "      <th>0.03</th>\n",
       "      <th>0.04</th>\n",
       "      <th>0.05</th>\n",
       "      <th>0.06</th>\n",
       "      <th>0.07</th>\n",
       "      <th>0.08</th>\n",
       "      <th>0.09</th>\n",
       "      <th>0.1</th>\n",
       "    </tr>\n",
       "  </thead>\n",
       "  <tbody>\n",
       "    <tr>\n",
       "      <th>0</th>\n",
       "      <td>1.0</td>\n",
       "      <td>0.5</td>\n",
       "      <td>1.0</td>\n",
       "      <td>1.0</td>\n",
       "      <td>1.0</td>\n",
       "      <td>1.0</td>\n",
       "      <td>1.0</td>\n",
       "      <td>1.0000</td>\n",
       "      <td>1.0000</td>\n",
       "      <td>1.0000</td>\n",
       "      <td>1.0000</td>\n",
       "      <td>1.0000</td>\n",
       "    </tr>\n",
       "    <tr>\n",
       "      <th>1</th>\n",
       "      <td>2.0</td>\n",
       "      <td>1.0</td>\n",
       "      <td>1.0</td>\n",
       "      <td>1.0</td>\n",
       "      <td>1.0</td>\n",
       "      <td>1.0</td>\n",
       "      <td>1.0</td>\n",
       "      <td>1.0000</td>\n",
       "      <td>1.0000</td>\n",
       "      <td>1.0000</td>\n",
       "      <td>1.0000</td>\n",
       "      <td>1.0000</td>\n",
       "    </tr>\n",
       "    <tr>\n",
       "      <th>2</th>\n",
       "      <td>4.0</td>\n",
       "      <td>2.0</td>\n",
       "      <td>1.0</td>\n",
       "      <td>1.0</td>\n",
       "      <td>1.0</td>\n",
       "      <td>1.0</td>\n",
       "      <td>1.0</td>\n",
       "      <td>1.0000</td>\n",
       "      <td>1.0000</td>\n",
       "      <td>1.0000</td>\n",
       "      <td>1.0000</td>\n",
       "      <td>1.0000</td>\n",
       "    </tr>\n",
       "    <tr>\n",
       "      <th>3</th>\n",
       "      <td>6.0</td>\n",
       "      <td>3.0</td>\n",
       "      <td>1.0</td>\n",
       "      <td>1.0</td>\n",
       "      <td>1.0</td>\n",
       "      <td>1.0</td>\n",
       "      <td>1.0</td>\n",
       "      <td>1.0000</td>\n",
       "      <td>1.0000</td>\n",
       "      <td>1.0000</td>\n",
       "      <td>0.9625</td>\n",
       "      <td>0.9500</td>\n",
       "    </tr>\n",
       "    <tr>\n",
       "      <th>4</th>\n",
       "      <td>8.0</td>\n",
       "      <td>4.0</td>\n",
       "      <td>1.0</td>\n",
       "      <td>1.0</td>\n",
       "      <td>1.0</td>\n",
       "      <td>1.0</td>\n",
       "      <td>1.0</td>\n",
       "      <td>1.0000</td>\n",
       "      <td>0.9875</td>\n",
       "      <td>0.9375</td>\n",
       "      <td>0.8750</td>\n",
       "      <td>0.7500</td>\n",
       "    </tr>\n",
       "    <tr>\n",
       "      <th>5</th>\n",
       "      <td>10.0</td>\n",
       "      <td>5.0</td>\n",
       "      <td>1.0</td>\n",
       "      <td>1.0</td>\n",
       "      <td>1.0</td>\n",
       "      <td>1.0</td>\n",
       "      <td>1.0</td>\n",
       "      <td>0.9625</td>\n",
       "      <td>0.8625</td>\n",
       "      <td>0.7625</td>\n",
       "      <td>0.5375</td>\n",
       "      <td>0.4375</td>\n",
       "    </tr>\n",
       "  </tbody>\n",
       "</table>\n",
       "</div>"
      ],
      "text/plain": [
       "   uncertain_radius  uncertain_radius_ratios  0.01  0.02  0.03  0.04  0.05  \\\n",
       "0               1.0                      0.5   1.0   1.0   1.0   1.0   1.0   \n",
       "1               2.0                      1.0   1.0   1.0   1.0   1.0   1.0   \n",
       "2               4.0                      2.0   1.0   1.0   1.0   1.0   1.0   \n",
       "3               6.0                      3.0   1.0   1.0   1.0   1.0   1.0   \n",
       "4               8.0                      4.0   1.0   1.0   1.0   1.0   1.0   \n",
       "5              10.0                      5.0   1.0   1.0   1.0   1.0   1.0   \n",
       "\n",
       "     0.06    0.07    0.08    0.09     0.1  \n",
       "0  1.0000  1.0000  1.0000  1.0000  1.0000  \n",
       "1  1.0000  1.0000  1.0000  1.0000  1.0000  \n",
       "2  1.0000  1.0000  1.0000  1.0000  1.0000  \n",
       "3  1.0000  1.0000  1.0000  0.9625  0.9500  \n",
       "4  1.0000  0.9875  0.9375  0.8750  0.7500  \n",
       "5  0.9625  0.8625  0.7625  0.5375  0.4375  "
      ]
     },
     "execution_count": 345,
     "metadata": {},
     "output_type": "execute_result"
    }
   ],
   "source": [
    "pd.DataFrame(robustness_dict_interval)"
   ]
  },
  {
   "cell_type": "code",
   "execution_count": null,
   "id": "d4fc8e21",
   "metadata": {},
   "outputs": [],
   "source": []
  },
  {
   "cell_type": "code",
   "execution_count": null,
   "id": "7bd1d355",
   "metadata": {},
   "outputs": [],
   "source": []
  },
  {
   "cell_type": "code",
   "execution_count": null,
   "id": "fa341c7f",
   "metadata": {},
   "outputs": [],
   "source": []
  },
  {
   "cell_type": "code",
   "execution_count": null,
   "id": "f340cec6",
   "metadata": {
    "ExecuteTime": {
     "end_time": "2024-05-02T22:45:12.351862Z",
     "start_time": "2024-05-02T22:30:23.416868Z"
    }
   },
   "outputs": [],
   "source": [
    "# mpg +- 2 is robust\n",
    "robustness_radius = 2\n",
    "# ratio wrt. the min and max of horsepower\n",
    "ratios = [0.01, 0.03, 0.05, 0.07, 0.09]\n",
    "# uncertain_radiuses = [ratio*horsepower_interval for ratio in ratios]\n",
    "uncertain_pcts = list(np.arange(1, 11)/100)\n",
    "robustness_dict = dict()\n",
    "# robustness_dict['uncertain_radius'] = uncertain_radiuses\n",
    "robustness_dict['uncertain_radius_ratios'] = ratios\n",
    "for uncertain_pct in tqdm(uncertain_pcts, desc='Progess'):\n",
    "    robustness_dict[uncertain_pct] = list()\n",
    "    uncertain_num = int(uncertain_pct*len(y_train))\n",
    "    for uncertain_radius_ratio in tqdm(ratios, desc=f'Varying Uncertain Radius'):\n",
    "        robustness_ratio = compute_robustness_ratio(X_train, y_train, X_test, y_test, \n",
    "                                                    uncertain_attr='horsepower', uncertain_num=uncertain_num, \n",
    "                                                    uncertain_radius_ratio=uncertain_radius_ratio, \n",
    "                                                    robustness_radius=robustness_radius)\n",
    "        robustness_dict[uncertain_pct].append(robustness_ratio)"
   ]
  },
  {
   "cell_type": "code",
   "execution_count": 250,
   "id": "c149c4ff",
   "metadata": {
    "ExecuteTime": {
     "end_time": "2024-04-26T07:32:43.601719Z",
     "start_time": "2024-04-26T07:32:43.592255Z"
    }
   },
   "outputs": [
    {
     "data": {
      "text/html": [
       "<div>\n",
       "<style scoped>\n",
       "    .dataframe tbody tr th:only-of-type {\n",
       "        vertical-align: middle;\n",
       "    }\n",
       "\n",
       "    .dataframe tbody tr th {\n",
       "        vertical-align: top;\n",
       "    }\n",
       "\n",
       "    .dataframe thead th {\n",
       "        text-align: right;\n",
       "    }\n",
       "</style>\n",
       "<table border=\"1\" class=\"dataframe\">\n",
       "  <thead>\n",
       "    <tr style=\"text-align: right;\">\n",
       "      <th></th>\n",
       "      <th>uncertain_radius_ratios</th>\n",
       "      <th>0.01</th>\n",
       "      <th>0.02</th>\n",
       "      <th>0.03</th>\n",
       "      <th>0.04</th>\n",
       "      <th>0.05</th>\n",
       "      <th>0.06</th>\n",
       "      <th>0.07</th>\n",
       "      <th>0.08</th>\n",
       "      <th>0.09</th>\n",
       "      <th>0.1</th>\n",
       "    </tr>\n",
       "  </thead>\n",
       "  <tbody>\n",
       "    <tr>\n",
       "      <th>0</th>\n",
       "      <td>0.01</td>\n",
       "      <td>1.0</td>\n",
       "      <td>1.0</td>\n",
       "      <td>1.0</td>\n",
       "      <td>1.0</td>\n",
       "      <td>1.0</td>\n",
       "      <td>1.0</td>\n",
       "      <td>1.0</td>\n",
       "      <td>1.0</td>\n",
       "      <td>1.000</td>\n",
       "      <td>1.0000</td>\n",
       "    </tr>\n",
       "    <tr>\n",
       "      <th>1</th>\n",
       "      <td>0.03</td>\n",
       "      <td>1.0</td>\n",
       "      <td>1.0</td>\n",
       "      <td>1.0</td>\n",
       "      <td>1.0</td>\n",
       "      <td>1.0</td>\n",
       "      <td>1.0</td>\n",
       "      <td>1.0</td>\n",
       "      <td>1.0</td>\n",
       "      <td>1.000</td>\n",
       "      <td>1.0000</td>\n",
       "    </tr>\n",
       "    <tr>\n",
       "      <th>2</th>\n",
       "      <td>0.05</td>\n",
       "      <td>1.0</td>\n",
       "      <td>1.0</td>\n",
       "      <td>1.0</td>\n",
       "      <td>1.0</td>\n",
       "      <td>1.0</td>\n",
       "      <td>1.0</td>\n",
       "      <td>1.0</td>\n",
       "      <td>1.0</td>\n",
       "      <td>1.000</td>\n",
       "      <td>1.0000</td>\n",
       "    </tr>\n",
       "    <tr>\n",
       "      <th>3</th>\n",
       "      <td>0.07</td>\n",
       "      <td>1.0</td>\n",
       "      <td>1.0</td>\n",
       "      <td>1.0</td>\n",
       "      <td>1.0</td>\n",
       "      <td>1.0</td>\n",
       "      <td>1.0</td>\n",
       "      <td>1.0</td>\n",
       "      <td>1.0</td>\n",
       "      <td>1.000</td>\n",
       "      <td>1.0000</td>\n",
       "    </tr>\n",
       "    <tr>\n",
       "      <th>4</th>\n",
       "      <td>0.09</td>\n",
       "      <td>1.0</td>\n",
       "      <td>1.0</td>\n",
       "      <td>1.0</td>\n",
       "      <td>1.0</td>\n",
       "      <td>1.0</td>\n",
       "      <td>1.0</td>\n",
       "      <td>1.0</td>\n",
       "      <td>1.0</td>\n",
       "      <td>0.975</td>\n",
       "      <td>0.9625</td>\n",
       "    </tr>\n",
       "  </tbody>\n",
       "</table>\n",
       "</div>"
      ],
      "text/plain": [
       "   uncertain_radius_ratios  0.01  0.02  0.03  0.04  0.05  0.06  0.07  0.08  \\\n",
       "0                     0.01   1.0   1.0   1.0   1.0   1.0   1.0   1.0   1.0   \n",
       "1                     0.03   1.0   1.0   1.0   1.0   1.0   1.0   1.0   1.0   \n",
       "2                     0.05   1.0   1.0   1.0   1.0   1.0   1.0   1.0   1.0   \n",
       "3                     0.07   1.0   1.0   1.0   1.0   1.0   1.0   1.0   1.0   \n",
       "4                     0.09   1.0   1.0   1.0   1.0   1.0   1.0   1.0   1.0   \n",
       "\n",
       "    0.09     0.1  \n",
       "0  1.000  1.0000  \n",
       "1  1.000  1.0000  \n",
       "2  1.000  1.0000  \n",
       "3  1.000  1.0000  \n",
       "4  0.975  0.9625  "
      ]
     },
     "execution_count": 250,
     "metadata": {},
     "output_type": "execute_result"
    }
   ],
   "source": [
    "pd.DataFrame(robustness_dict)"
   ]
  },
  {
   "cell_type": "code",
   "execution_count": 27,
   "id": "db68bb6f",
   "metadata": {},
   "outputs": [
    {
     "data": {
      "image/png": "[encoded data removed]",
      "text/plain": [
       "<Figure size 3000x600 with 3 Axes>"
      ]
     },
     "metadata": {},
     "output_type": "display_data"
    }
   ],
   "source": [
    "# Convert the data to a DataFrame\n",
    "df = pd.DataFrame(robustness_dict_interval)\n",
    "\n",
    "# Isolate the portion of the DataFrame for heatmap (exclude the first two columns)\n",
    "heatmap_data = df.iloc[:, 2:].multiply(100).values  # Convert fractions to percentages\n",
    "\n",
    "# Labels for x-axis and y-axis\n",
    "x_labels = df.columns[2:].tolist()\n",
    "y_labels = df[\"uncertain_radius\"].astype(str).tolist()\n",
    "\n",
    "# Create the heatmap plot\n",
    "# fig, (ax1, ax2) = plt.subplots(1, 2, figsize=(16, 4), sharey=True, dpi=200)\n",
    "fig, (ax1, ax2) = plt.subplots(1, 2, figsize=(15, 3), dpi=200)\n",
    "# cmap = plt.get_cmap(\"coolwarm\")\n",
    "cmap = plt.get_cmap(\"autumn_r\")\n",
    "heatmap = ax1.imshow(heatmap_data, cmap=cmap, interpolation='nearest', aspect='auto', \n",
    "                     alpha=0.8, vmin=0, vmax=100)\n",
    "\n",
    "# Add color bar\n",
    "# cbar = plt.colorbar(heatmap, ax=ax1)\n",
    "# cbar.set_label('% Percentage')\n",
    "\n",
    "# Add white lines by adjusting the linewidth for minor ticks to create separation\n",
    "ax1.set_xticks(np.arange(len(x_labels)) - 0.5, minor=True)\n",
    "ax1.set_yticks(np.arange(len(y_labels)) - 0.5, minor=True)\n",
    "ax1.grid(which=\"minor\", color=\"white\", linestyle='-', linewidth=0.5)\n",
    "ax1.tick_params(which=\"minor\", size=0)\n",
    "\n",
    "# Set major ticks for labels without ticks\n",
    "ax1.set_xticks(np.arange(len(x_labels)))\n",
    "ax1.set_yticks(np.arange(len(y_labels)))\n",
    "ax1.set_xticklabels(x_labels)\n",
    "ax1.set_yticklabels(y_labels)\n",
    "ax1.tick_params(axis='both', which='both', length=0)  # Remove tick marks\n",
    "\n",
    "# Remove external boundaries\n",
    "ax1.spines['top'].set_visible(False)\n",
    "ax1.spines['right'].set_visible(False)\n",
    "ax1.spines['left'].set_visible(False)\n",
    "ax1.spines['bottom'].set_visible(False)\n",
    "\n",
    "# Set axis labels\n",
    "ax1.set_xlabel('Percentage of Uncertain Data', fontsize=12)\n",
    "ax1.set_ylabel('Uncertain Radius', fontsize=12)\n",
    "\n",
    "# Add text annotations\n",
    "for i in range(len(y_labels)):\n",
    "    for j in range(len(x_labels)):\n",
    "        if heatmap_data[i][j]==100:\n",
    "            text = ax1.text(j, i, f'{heatmap_data[i][j]:.0f}', ha='center', va='center', color='black')\n",
    "        elif heatmap_data[i][j]==0:\n",
    "            text = ax1.text(j, i, '0', ha='center', va='center', color='black')\n",
    "        else:\n",
    "            text = ax1.text(j, i, f'{heatmap_data[i][j]:.1f}', ha='center', va='center', color='black')\n",
    "ax1.set_title('Baseline (Interval)')\n",
    "            \n",
    "# Convert the data to a DataFrame\n",
    "df = pd.DataFrame(robustness_dict)\n",
    "\n",
    "# Isolate the portion of the DataFrame for heatmap (exclude the first two columns)\n",
    "heatmap_data = df.iloc[:, 2:].multiply(100).values  # Convert fractions to percentages\n",
    "heatmap2 = ax2.imshow(heatmap_data, cmap=cmap, interpolation='nearest', \n",
    "                      aspect='auto', alpha=0.8, vmin=0, vmax=100)\n",
    "\n",
    "# Add color bar\n",
    "# cbar.set_label('% Percentage')\n",
    "\n",
    "# Add white lines by adjusting the linewidth for minor ticks to create separation\n",
    "ax2.set_xticks(np.arange(len(x_labels)) - 0.5, minor=True)\n",
    "ax2.set_yticks(np.arange(len(y_labels)) - 0.5, minor=True)\n",
    "ax2.grid(which=\"minor\", color=\"white\", linestyle='-', linewidth=0.5)\n",
    "ax2.tick_params(which=\"minor\", size=0)\n",
    "\n",
    "# Set major ticks for labels without ticks\n",
    "ax2.set_xticks(np.arange(len(x_labels)))\n",
    "ax2.set_yticks(np.arange(len(y_labels)))\n",
    "ax2.set_xticklabels(x_labels)\n",
    "ax2.set_yticklabels(y_labels)\n",
    "ax2.tick_params(axis='both', which='both', length=0)  # Remove tick marks\n",
    "\n",
    "# Remove external boundaries\n",
    "ax2.spines['top'].set_visible(False)\n",
    "ax2.spines['right'].set_visible(False)\n",
    "ax2.spines['left'].set_visible(False)\n",
    "ax2.spines['bottom'].set_visible(False)\n",
    "\n",
    "# Set axis labels\n",
    "ax2.set_xlabel('Percentage of Uncertain Data', fontsize=12)\n",
    "ax2.set_ylabel('Uncertain Radius', fontsize=12)\n",
    "\n",
    "# Add text annotations\n",
    "for i in range(len(y_labels)):\n",
    "    for j in range(len(x_labels)):\n",
    "        if heatmap_data[i][j]==100:\n",
    "            text = ax2.text(j, i, '100', ha='center', va='center', color='black')\n",
    "        elif heatmap_data[i][j]==0:\n",
    "            text = ax2.text(j, i, '0', ha='center', va='center', color='black')\n",
    "        else:\n",
    "            text = ax2.text(j, i, f'{np.around(heatmap_data[i][j], 1)}', ha='center', \n",
    "                            va='center', color='black')\n",
    "ax2.set_title('Our Approach (Zonotope)')\n",
    "\n",
    "# fig.suptitle('Robustness Ratio (%)', fontsize=14)\n",
    "plt.subplots_adjust(wspace=0.2, bottom=0.2, left=0.1, right=0.9)\n",
    "cb = fig.colorbar(heatmap2, ax=(ax1, ax2), orientation='vertical', pad=0.02)\n",
    "cb.set_label('Robustness Ratio (%)', fontsize=12)\n",
    "plt.savefig('ins-heatmap.pdf', bbox_inches='tight')"
   ]
  },
  {
   "cell_type": "code",
   "execution_count": 36,
   "id": "d90caffa",
   "metadata": {},
   "outputs": [
    {
     "data": {
      "image/png": "[encoded data removed]",
      "text/plain": [
       "<Figure size 2400x400 with 4 Axes>"
      ]
     },
     "metadata": {},
     "output_type": "display_data"
    }
   ],
   "source": [
    "uncertain_pcts = np.array([0, 0.01, 0.02, 0.03, 0.04, 0.05, 0.06, 0.07, 0.08, 0.09, 0.1])\n",
    "zonotope_data = pd.DataFrame(robustness_dict)\n",
    "interval_data = pd.DataFrame(robustness_dict_interval)\n",
    "\n",
    "zonotope_data_dict = dict()\n",
    "for radius_ratio in [100, 300, 500, 700, 900, 1100]:\n",
    "    zonotope_data_dict[radius_ratio] = np.append([1], zonotope_data[zonotope_data.uncertain_radius_ratios==radius_ratio/100].iloc[:, 2:].to_numpy()[0])\n",
    "\n",
    "interval_data_dict = dict()\n",
    "for radius_ratio in [100, 300, 500, 700, 900, 1100]:\n",
    "    interval_data_dict[radius_ratio] = np.append([1], interval_data[interval_data.uncertain_radius_ratios==radius_ratio/100].iloc[:, 2:].to_numpy()[0])\n",
    "\n",
    "fig, axes = plt.subplots(nrows=1, ncols=4, figsize=(12, 2), sharex=True, dpi=200)\n",
    "\n",
    "# Plot 1\n",
    "uncertain_radius_pct = 300\n",
    "axes[0].plot(uncertain_pcts, zonotope_data_dict[uncertain_radius_pct], marker='o', color='red',\n",
    "             label='ours', linestyle='-')\n",
    "axes[0].plot(uncertain_pcts, interval_data_dict[uncertain_radius_pct], marker='s', color='green', \n",
    "             label='baseline', linestyle='--')\n",
    "axes[0].set_title(f'Uncertain Radius: {int(robustness_radius*uncertain_radius_pct/100)}')\n",
    "# axes[0].set_xlabel('Uncertain Data Percentage')\n",
    "axes[0].set_ylabel('Robustness Ratio')\n",
    "axes[0].set_ylim(-0.05, 1.05)\n",
    "# axes[0].legend()\n",
    "axes[0].grid(True)\n",
    "\n",
    "# Plot 2\n",
    "uncertain_radius_pct = 500\n",
    "axes[1].plot(uncertain_pcts, zonotope_data_dict[uncertain_radius_pct], marker='o', color='red',\n",
    "             label='ours', linestyle='-')\n",
    "axes[1].plot(uncertain_pcts, interval_data_dict[uncertain_radius_pct], marker='s', color='green', \n",
    "             label='baseline', linestyle='--')\n",
    "axes[1].set_title(f'Uncertain Radius: {int(robustness_radius*uncertain_radius_pct/100)}')\n",
    "# axes[1].set_xlabel('Uncertain Data Percentage')\n",
    "# axes[1].set_ylabel('Robustness Ratio')\n",
    "axes[1].set_ylim(-0.05, 1.05)\n",
    "# axes[1].legend()\n",
    "axes[1].grid(True)\n",
    "\n",
    "# Plot 3\n",
    "uncertain_radius_pct = 700\n",
    "axes[2].plot(uncertain_pcts, zonotope_data_dict[uncertain_radius_pct], marker='o', color='red',\n",
    "             label='ours', linestyle='-')\n",
    "axes[2].plot(uncertain_pcts, interval_data_dict[uncertain_radius_pct], marker='s', color='green', \n",
    "             label='baseline', linestyle='--')\n",
    "axes[2].set_title(f'Uncertain Radius: {int(robustness_radius*uncertain_radius_pct/100)}')\n",
    "# axes[2].set_xlabel('Uncertain Data Percentage')\n",
    "# axes[2].set_ylabel('Robustness Ratio')\n",
    "axes[2].set_ylim(-0.05, 1.05)\n",
    "# axes[2].legend()\n",
    "axes[2].grid(True)\n",
    "\n",
    "# Plot 4\n",
    "uncertain_radius_pct = 900\n",
    "l1 = axes[3].plot(uncertain_pcts, zonotope_data_dict[uncertain_radius_pct], marker='o', color='red',\n",
    "                  label='ours', linestyle='-')\n",
    "l2 = axes[3].plot(uncertain_pcts, interval_data_dict[uncertain_radius_pct], marker='s', color='green', \n",
    "                  label='baseline', linestyle='--')\n",
    "axes[3].set_title(f'Uncertain Radius: {int(robustness_radius*uncertain_radius_pct/100)}')\n",
    "# axes[3].set_xlabel('Uncertain Data Percentage')\n",
    "# axes[3].set_ylabel('Robustness Ratio')\n",
    "axes[3].set_ylim(-0.05, 1.05)\n",
    "# axes[3].legend()\n",
    "axes[3].grid(True)\n",
    "\n",
    "# Adjust layout\n",
    "lines_labels = [axes[0].get_legend_handles_labels()]\n",
    "lines, labels = [sum(lol, []) for lol in zip(*lines_labels)]\n",
    "fig.legend(lines, labels, loc = (0.76, 0.03), ncol=2, frameon=False)\n",
    "\n",
    "plt.subplots_adjust(wspace=0.2, top=0.8, bottom=0.25, left=0.1, right=0.9)\n",
    "fig.supxlabel('Uncertain Data Percentage', fontsize=12, verticalalignment='bottom')\n",
    "# plt.tight_layout()\n",
    "# plt.show()\n",
    "plt.savefig('ins-lineplot.pdf', bbox_inches='tight')"
   ]
  },
  {
   "cell_type": "code",
   "execution_count": null,
   "id": "b54ff9c9",
   "metadata": {},
   "outputs": [],
   "source": []
  },
  {
   "cell_type": "code",
   "execution_count": null,
   "id": "1f624552",
   "metadata": {},
   "outputs": [],
   "source": []
  },
  {
   "cell_type": "code",
   "execution_count": 1,
   "id": "a65612f9",
   "metadata": {
    "ExecuteTime": {
     "end_time": "2024-05-08T23:52:08.199857Z",
     "start_time": "2024-05-08T23:52:08.162315Z"
    }
   },
   "outputs": [],
   "source": [
    "# use interval hull for order reduction\n",
    "def compute_robustness_ratio_IH(X_train, y_train, X_test, y_test, robustness_radius, uncertain_attr, \n",
    "                                uncertain_num, uncertain_radius=None, uncertain_radius_ratio=None, \n",
    "                                lamb=0.1, seed=42):\n",
    "    X, y, symbols_in_data, ss = inject_ranges(X=X_train, y=y_train, uncertain_attr=uncertain_attr, \n",
    "                                              uncertain_num=uncertain_num, uncertain_radius=uncertain_radius, \n",
    "                                              uncertain_radius_pct=uncertain_radius_ratio, seed=seed)\n",
    "    \n",
    "    n = X.shape[0]\n",
    "    XS = copy.deepcopy(X)\n",
    "    XR = copy.deepcopy(X)\n",
    "    yS = copy.deepcopy(y)\n",
    "    yR = copy.deepcopy(y)\n",
    "\n",
    "    for row in range(X.shape[0]):\n",
    "        for col in range(X.shape[1]):\n",
    "            expr = X[row, col]\n",
    "            if isinstance(expr, sympy.Expr) and expr.free_symbols:\n",
    "                XR[row, col] = expr.subs(dict([(symb, 0) for symb in expr.free_symbols]))\n",
    "                XS[row, col] = expr - XR[row, col]\n",
    "            else:\n",
    "                XR[row, col] = expr\n",
    "                XS[row, col] = 0\n",
    "\n",
    "    for row in range(y.shape[0]):\n",
    "        expr = y[row]\n",
    "        if isinstance(expr, sympy.Expr) and expr.free_symbols:\n",
    "            yR[row] = expr.subs(dict([(symb, 0) for symb in expr.free_symbols]))\n",
    "            yS[row] = expr - yR[row]\n",
    "        else:\n",
    "            yR[row] = expr\n",
    "            yS[row] = 0\n",
    "\n",
    "    sigma = np.ones(X.shape[1])\n",
    "    V = sympy.Matrix(np.identity(X.shape[1]))\n",
    "\n",
    "    wR = (XR.T*XR).inv()*XR.T*yR\n",
    "    wS_non_data = 0.0*XR.row(0).T\n",
    "    for i in range(X.shape[1]):\n",
    "        wS_non_data = wS_non_data + sb(f'k{i}')*sb(f'ep{i}')*V.row(i).T\n",
    "    \n",
    "    eigenvalues = 1 - sigma/n*2*lamb\n",
    "    for eigenvalue in eigenvalues:\n",
    "        assert abs(eigenvalue) <= 1\n",
    "    \n",
    "    A = V.T*np.diag(eigenvalues)*V\n",
    "\n",
    "    wS_data = (np.identity(X.shape[1])-A).inv()*((XS.T*XR + XR.T*XS)*wR - XS.T*yR - XR.T*yS)*(-lamb*2/n)\n",
    "\n",
    "    wS = wS_non_data + wS_data\n",
    "    w = wS + wR\n",
    "    w_prime = (-lamb*2/n)*((XS.T*XR + XR.T*XS + XS.T*XS)*wS + XS.T*XS*wR - XS.T*yS).expand()\n",
    "    w_prime_projected = V*w_prime\n",
    "    \n",
    "    eqs = []\n",
    "    for d in range(X.shape[1]):\n",
    "        eq1 = (1-abs(eigenvalues[d]))*sb(f'k{d}')\n",
    "        eq2 = 0\n",
    "        coef_dict = dict()\n",
    "        coef_dict['const'] = 0\n",
    "        for i in range(X.shape[1]):\n",
    "            coef_dict[sb(f'k{i}')] = 0\n",
    "        for arg in w_prime_projected[d].args:\n",
    "            contain_k = False\n",
    "            for i in range(X.shape[1]):\n",
    "                symb_k = sb(f'k{i}')\n",
    "                if symb_k in arg.free_symbols:\n",
    "                    coef_dict[symb_k] = coef_dict[symb_k] + abs(arg.args[0])\n",
    "                    contain_k = True\n",
    "                    break\n",
    "            if not(contain_k):\n",
    "                coef_dict['const'] = coef_dict['const'] + abs(arg.args[0])\n",
    "        eq2 = coef_dict['const']\n",
    "        for i in range(X.shape[1]):\n",
    "            eq2 = eq2 + sb(f'k{i}')*coef_dict[sb(f'k{i}')]\n",
    "        eqs.append(sympy.Eq(eq1, eq2))\n",
    "        \n",
    "    result = sympy.solve(eqs, [sb(f'k{i}') for i in range(X.shape[1])])\n",
    "    print(eqs)\n",
    "    print(result)\n",
    "    param = wR + wS.subs(result)\n",
    "    \n",
    "    test_preds = sympy.Matrix(np.append(np.ones((len(X_test), 1)), ss.transform(X_test), axis=1))*param\n",
    "    robustness_ls = []\n",
    "    for pred in test_preds:\n",
    "        pred_range_radius = 0\n",
    "        for arg in pred.args:\n",
    "            if arg.free_symbols:\n",
    "                pred_range_radius += abs(arg.args[0])\n",
    "        if pred_range_radius <= robustness_radius:\n",
    "            robustness_ls.append(1)\n",
    "        else:\n",
    "            robustness_ls.append(0)\n",
    "    \n",
    "#     print(param)\n",
    "    return np.mean(robustness_ls)\n"
   ]
  },
  {
   "cell_type": "markdown",
   "id": "e5985262",
   "metadata": {},
   "source": [
    "## "
   ]
  }
 ],
 "metadata": {
  "kernelspec": {
   "display_name": "Python 3 (ipykernel)",
   "language": "python",
   "name": "python3"
  },
  "language_info": {
   "codemirror_mode": {
    "name": "ipython",
    "version": 3
   },
   "file_extension": ".py",
   "mimetype": "text/x-python",
   "name": "python",
   "nbconvert_exporter": "python",
   "pygments_lexer": "ipython3",
   "version": "3.11.5"
  },
  "latex_envs": {
   "LaTeX_envs_menu_present": true,
   "autoclose": true,
   "autocomplete": true,
   "bibliofile": "biblio.bib",
   "cite_by": "apalike",
   "current_citInitial": 1,
   "eqLabelWithNumbers": true,
   "eqNumInitial": 1,
   "hotkeys": {
    "equation": "Ctrl-E",
    "itemize": "Ctrl-I"
   },
   "labels_anchors": false,
   "latex_user_defs": false,
   "report_style_numbering": false,
   "user_envs_cfg": false
  }
 },
 "nbformat": 4,
 "nbformat_minor": 5
}
